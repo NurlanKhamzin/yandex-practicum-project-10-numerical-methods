{
 "cells": [
  {
   "cell_type": "markdown",
   "metadata": {},
   "source": [
    "Нурлан, рад приветствовать тебя)\n",
    "\n",
    "Меня зовут Александр Дьяченко и этот проект у тебя буду проверять я.  \n",
    "Предлагаю общаться на \"ты\", если это для тебя приемлемо)  \n",
    "\n",
    "В твоей работе я оставлю некоторые комментарии, которые помогут лучше понять материал или скажу, что все сделано верно.  \n",
    "Давай договоримся об условных обозначениях, чтобы наше общение было эффективнее:  \n",
    "\n",
    "Комментарии будут в <font color='green'>зеленой ✔️</font>, <font color='orange'>оранжевой ⚠️</font> или <font color='red'>красной ❌</font> рамках:\n",
    "\n",
    "\n",
    "<div class=\"alert alert-block alert-success\"; style=\"border-left: 6px solid green\">\n",
    "<b>Успех ✔️</b>\n",
    "       \n",
    "Зеленым цветом помечены образцовые решения. Которые можно использовать в дальнейшем.\n",
    "    \n",
    "</div>\n",
    "\n",
    "<div class=\"alert alert-block alert-warning\"; style=\"border-left: 6px solid orange\">\n",
    "<b>Рекомендация ⚠️</b>\n",
    "       \n",
    "Желтым цветом отмечено то, что ты можешь улучшить или доработать. Можешь учесть это при выполнении следующих работ или доработать проект сейчас, но это не обязательно.\n",
    "    \n",
    "</div>\n",
    "\n",
    "<div class=\"alert alert-block alert-danger\"; style=\"border-left: 6px solid red\">\n",
    "<b>Ошибка ❌</b>\n",
    "       \n",
    "Красным цветом помечены моменты, которые необходимо доработать, чтобы проект был принят. Уверен, что у тебя все получится. Буду ждать твою работу на повторное ревью.\n",
    "    \n",
    "</div>\n",
    "\n",
    "-------------------\n",
    "\n",
    "<div class=\"alert alert-block alert-info\">\n",
    "<b>Комментарий студента:</b> Свои комментарии и вопросы ты можешь оставлять в синей рамочке. Также используй её, если что-то исправил, доделал или полностью переписал.</div>\n",
    "\n",
    "\n",
    "\n",
    "\n",
    "Старайся отвечать на мои рекомендации и не удалять комментарии, так получится проверить работу быстрее)\n",
    "\n",
    "Погнали!\n",
    "\n",
    "\n",
    "\n",
    "-------"
   ]
  },
  {
   "cell_type": "markdown",
   "metadata": {},
   "source": [
    "# Определение стоимости автомобилей"
   ]
  },
  {
   "cell_type": "markdown",
   "metadata": {},
   "source": [
    "Сервис по продаже автомобилей с пробегом «Не бит, не крашен» разрабатывает приложение для привлечения новых клиентов. В нём можно быстро узнать рыночную стоимость своего автомобиля. В вашем распоряжении исторические данные: технические характеристики, комплектации и цены автомобилей. Вам нужно построить модель для определения стоимости. \n",
    "\n",
    "Заказчику важны:\n",
    "\n",
    "- качество предсказания;\n",
    "- скорость предсказания;\n",
    "- время обучения."
   ]
  },
  {
   "cell_type": "markdown",
   "metadata": {},
   "source": [
    "## Подготовка данных"
   ]
  },
  {
   "cell_type": "code",
   "execution_count": 77,
   "metadata": {},
   "outputs": [],
   "source": [
    "import pandas as pd\n",
    "import numpy as np\n",
    "import lightgbm as lgb\n",
    "from sklearn.ensemble import RandomForestRegressor\n",
    "from sklearn.metrics import mean_squared_error\n",
    "from sklearn.model_selection import train_test_split\n",
    "from sklearn.preprocessing import OrdinalEncoder\n",
    "from sklearn.model_selection import GridSearchCV\n",
    "from math import sqrt\n",
    "import warnings\n",
    "warnings.filterwarnings('ignore')\n",
    "import sklearn.metrics"
   ]
  },
  {
   "cell_type": "code",
   "execution_count": 48,
   "metadata": {},
   "outputs": [
    {
     "data": {
      "text/html": [
       "<div>\n",
       "<style scoped>\n",
       "    .dataframe tbody tr th:only-of-type {\n",
       "        vertical-align: middle;\n",
       "    }\n",
       "\n",
       "    .dataframe tbody tr th {\n",
       "        vertical-align: top;\n",
       "    }\n",
       "\n",
       "    .dataframe thead th {\n",
       "        text-align: right;\n",
       "    }\n",
       "</style>\n",
       "<table border=\"1\" class=\"dataframe\">\n",
       "  <thead>\n",
       "    <tr style=\"text-align: right;\">\n",
       "      <th></th>\n",
       "      <th>DateCrawled</th>\n",
       "      <th>Price</th>\n",
       "      <th>VehicleType</th>\n",
       "      <th>RegistrationYear</th>\n",
       "      <th>Gearbox</th>\n",
       "      <th>Power</th>\n",
       "      <th>Model</th>\n",
       "      <th>Kilometer</th>\n",
       "      <th>RegistrationMonth</th>\n",
       "      <th>FuelType</th>\n",
       "      <th>Brand</th>\n",
       "      <th>Repaired</th>\n",
       "      <th>DateCreated</th>\n",
       "      <th>NumberOfPictures</th>\n",
       "      <th>PostalCode</th>\n",
       "      <th>LastSeen</th>\n",
       "    </tr>\n",
       "  </thead>\n",
       "  <tbody>\n",
       "    <tr>\n",
       "      <th>0</th>\n",
       "      <td>2016-03-24 11:52:17</td>\n",
       "      <td>480</td>\n",
       "      <td>NaN</td>\n",
       "      <td>1993</td>\n",
       "      <td>manual</td>\n",
       "      <td>0</td>\n",
       "      <td>golf</td>\n",
       "      <td>150000</td>\n",
       "      <td>0</td>\n",
       "      <td>petrol</td>\n",
       "      <td>volkswagen</td>\n",
       "      <td>NaN</td>\n",
       "      <td>2016-03-24 00:00:00</td>\n",
       "      <td>0</td>\n",
       "      <td>70435</td>\n",
       "      <td>2016-04-07 03:16:57</td>\n",
       "    </tr>\n",
       "    <tr>\n",
       "      <th>1</th>\n",
       "      <td>2016-03-24 10:58:45</td>\n",
       "      <td>18300</td>\n",
       "      <td>coupe</td>\n",
       "      <td>2011</td>\n",
       "      <td>manual</td>\n",
       "      <td>190</td>\n",
       "      <td>NaN</td>\n",
       "      <td>125000</td>\n",
       "      <td>5</td>\n",
       "      <td>gasoline</td>\n",
       "      <td>audi</td>\n",
       "      <td>yes</td>\n",
       "      <td>2016-03-24 00:00:00</td>\n",
       "      <td>0</td>\n",
       "      <td>66954</td>\n",
       "      <td>2016-04-07 01:46:50</td>\n",
       "    </tr>\n",
       "    <tr>\n",
       "      <th>2</th>\n",
       "      <td>2016-03-14 12:52:21</td>\n",
       "      <td>9800</td>\n",
       "      <td>suv</td>\n",
       "      <td>2004</td>\n",
       "      <td>auto</td>\n",
       "      <td>163</td>\n",
       "      <td>grand</td>\n",
       "      <td>125000</td>\n",
       "      <td>8</td>\n",
       "      <td>gasoline</td>\n",
       "      <td>jeep</td>\n",
       "      <td>NaN</td>\n",
       "      <td>2016-03-14 00:00:00</td>\n",
       "      <td>0</td>\n",
       "      <td>90480</td>\n",
       "      <td>2016-04-05 12:47:46</td>\n",
       "    </tr>\n",
       "    <tr>\n",
       "      <th>3</th>\n",
       "      <td>2016-03-17 16:54:04</td>\n",
       "      <td>1500</td>\n",
       "      <td>small</td>\n",
       "      <td>2001</td>\n",
       "      <td>manual</td>\n",
       "      <td>75</td>\n",
       "      <td>golf</td>\n",
       "      <td>150000</td>\n",
       "      <td>6</td>\n",
       "      <td>petrol</td>\n",
       "      <td>volkswagen</td>\n",
       "      <td>no</td>\n",
       "      <td>2016-03-17 00:00:00</td>\n",
       "      <td>0</td>\n",
       "      <td>91074</td>\n",
       "      <td>2016-03-17 17:40:17</td>\n",
       "    </tr>\n",
       "    <tr>\n",
       "      <th>4</th>\n",
       "      <td>2016-03-31 17:25:20</td>\n",
       "      <td>3600</td>\n",
       "      <td>small</td>\n",
       "      <td>2008</td>\n",
       "      <td>manual</td>\n",
       "      <td>69</td>\n",
       "      <td>fabia</td>\n",
       "      <td>90000</td>\n",
       "      <td>7</td>\n",
       "      <td>gasoline</td>\n",
       "      <td>skoda</td>\n",
       "      <td>no</td>\n",
       "      <td>2016-03-31 00:00:00</td>\n",
       "      <td>0</td>\n",
       "      <td>60437</td>\n",
       "      <td>2016-04-06 10:17:21</td>\n",
       "    </tr>\n",
       "  </tbody>\n",
       "</table>\n",
       "</div>"
      ],
      "text/plain": [
       "           DateCrawled  Price VehicleType  RegistrationYear Gearbox  Power  \\\n",
       "0  2016-03-24 11:52:17    480         NaN              1993  manual      0   \n",
       "1  2016-03-24 10:58:45  18300       coupe              2011  manual    190   \n",
       "2  2016-03-14 12:52:21   9800         suv              2004    auto    163   \n",
       "3  2016-03-17 16:54:04   1500       small              2001  manual     75   \n",
       "4  2016-03-31 17:25:20   3600       small              2008  manual     69   \n",
       "\n",
       "   Model  Kilometer  RegistrationMonth  FuelType       Brand Repaired  \\\n",
       "0   golf     150000                  0    petrol  volkswagen      NaN   \n",
       "1    NaN     125000                  5  gasoline        audi      yes   \n",
       "2  grand     125000                  8  gasoline        jeep      NaN   \n",
       "3   golf     150000                  6    petrol  volkswagen       no   \n",
       "4  fabia      90000                  7  gasoline       skoda       no   \n",
       "\n",
       "           DateCreated  NumberOfPictures  PostalCode             LastSeen  \n",
       "0  2016-03-24 00:00:00                 0       70435  2016-04-07 03:16:57  \n",
       "1  2016-03-24 00:00:00                 0       66954  2016-04-07 01:46:50  \n",
       "2  2016-03-14 00:00:00                 0       90480  2016-04-05 12:47:46  \n",
       "3  2016-03-17 00:00:00                 0       91074  2016-03-17 17:40:17  \n",
       "4  2016-03-31 00:00:00                 0       60437  2016-04-06 10:17:21  "
      ]
     },
     "execution_count": 48,
     "metadata": {},
     "output_type": "execute_result"
    }
   ],
   "source": [
    "cars = pd.read_csv(r'/datasets/autos.csv')\n",
    "cars.head(5)"
   ]
  },
  {
   "cell_type": "code",
   "execution_count": 49,
   "metadata": {},
   "outputs": [
    {
     "name": "stdout",
     "output_type": "stream",
     "text": [
      "<class 'pandas.core.frame.DataFrame'>\n",
      "RangeIndex: 354369 entries, 0 to 354368\n",
      "Data columns (total 16 columns):\n",
      " #   Column             Non-Null Count   Dtype \n",
      "---  ------             --------------   ----- \n",
      " 0   DateCrawled        354369 non-null  object\n",
      " 1   Price              354369 non-null  int64 \n",
      " 2   VehicleType        316879 non-null  object\n",
      " 3   RegistrationYear   354369 non-null  int64 \n",
      " 4   Gearbox            334536 non-null  object\n",
      " 5   Power              354369 non-null  int64 \n",
      " 6   Model              334664 non-null  object\n",
      " 7   Kilometer          354369 non-null  int64 \n",
      " 8   RegistrationMonth  354369 non-null  int64 \n",
      " 9   FuelType           321474 non-null  object\n",
      " 10  Brand              354369 non-null  object\n",
      " 11  Repaired           283215 non-null  object\n",
      " 12  DateCreated        354369 non-null  object\n",
      " 13  NumberOfPictures   354369 non-null  int64 \n",
      " 14  PostalCode         354369 non-null  int64 \n",
      " 15  LastSeen           354369 non-null  object\n",
      "dtypes: int64(7), object(9)\n",
      "memory usage: 43.3+ MB\n",
      "None\n",
      "               Price  RegistrationYear          Power      Kilometer  \\\n",
      "count  354369.000000     354369.000000  354369.000000  354369.000000   \n",
      "mean     4416.656776       2004.234448     110.094337  128211.172535   \n",
      "std      4514.158514         90.227958     189.850405   37905.341530   \n",
      "min         0.000000       1000.000000       0.000000    5000.000000   \n",
      "25%      1050.000000       1999.000000      69.000000  125000.000000   \n",
      "50%      2700.000000       2003.000000     105.000000  150000.000000   \n",
      "75%      6400.000000       2008.000000     143.000000  150000.000000   \n",
      "max     20000.000000       9999.000000   20000.000000  150000.000000   \n",
      "\n",
      "       RegistrationMonth  NumberOfPictures     PostalCode  \n",
      "count      354369.000000          354369.0  354369.000000  \n",
      "mean            5.714645               0.0   50508.689087  \n",
      "std             3.726421               0.0   25783.096248  \n",
      "min             0.000000               0.0    1067.000000  \n",
      "25%             3.000000               0.0   30165.000000  \n",
      "50%             6.000000               0.0   49413.000000  \n",
      "75%             9.000000               0.0   71083.000000  \n",
      "max            12.000000               0.0   99998.000000  \n"
     ]
    }
   ],
   "source": [
    "print(cars.info())\n",
    "print(cars.describe())"
   ]
  },
  {
   "cell_type": "code",
   "execution_count": 50,
   "metadata": {},
   "outputs": [
    {
     "data": {
      "text/html": [
       "<div>\n",
       "<style scoped>\n",
       "    .dataframe tbody tr th:only-of-type {\n",
       "        vertical-align: middle;\n",
       "    }\n",
       "\n",
       "    .dataframe tbody tr th {\n",
       "        vertical-align: top;\n",
       "    }\n",
       "\n",
       "    .dataframe thead th {\n",
       "        text-align: right;\n",
       "    }\n",
       "</style>\n",
       "<table border=\"1\" class=\"dataframe\">\n",
       "  <thead>\n",
       "    <tr style=\"text-align: right;\">\n",
       "      <th></th>\n",
       "      <th>DateCrawled</th>\n",
       "      <th>Price</th>\n",
       "      <th>VehicleType</th>\n",
       "      <th>RegistrationYear</th>\n",
       "      <th>Gearbox</th>\n",
       "      <th>Power</th>\n",
       "      <th>Model</th>\n",
       "      <th>Kilometer</th>\n",
       "      <th>RegistrationMonth</th>\n",
       "      <th>FuelType</th>\n",
       "      <th>Brand</th>\n",
       "      <th>Repaired</th>\n",
       "      <th>DateCreated</th>\n",
       "      <th>NumberOfPictures</th>\n",
       "      <th>PostalCode</th>\n",
       "      <th>LastSeen</th>\n",
       "    </tr>\n",
       "  </thead>\n",
       "  <tbody>\n",
       "    <tr>\n",
       "      <th>0</th>\n",
       "      <td>2016-03-24 11:52:17</td>\n",
       "      <td>480</td>\n",
       "      <td>NaN</td>\n",
       "      <td>1993</td>\n",
       "      <td>manual</td>\n",
       "      <td>0</td>\n",
       "      <td>golf</td>\n",
       "      <td>150000</td>\n",
       "      <td>0</td>\n",
       "      <td>petrol</td>\n",
       "      <td>volkswagen</td>\n",
       "      <td>NaN</td>\n",
       "      <td>2016-03-24 00:00:00</td>\n",
       "      <td>0</td>\n",
       "      <td>70435</td>\n",
       "      <td>2016-04-07 03:16:57</td>\n",
       "    </tr>\n",
       "    <tr>\n",
       "      <th>16</th>\n",
       "      <td>2016-04-01 12:46:46</td>\n",
       "      <td>300</td>\n",
       "      <td>NaN</td>\n",
       "      <td>2016</td>\n",
       "      <td>NaN</td>\n",
       "      <td>60</td>\n",
       "      <td>polo</td>\n",
       "      <td>150000</td>\n",
       "      <td>0</td>\n",
       "      <td>petrol</td>\n",
       "      <td>volkswagen</td>\n",
       "      <td>NaN</td>\n",
       "      <td>2016-04-01 00:00:00</td>\n",
       "      <td>0</td>\n",
       "      <td>38871</td>\n",
       "      <td>2016-04-01 12:46:46</td>\n",
       "    </tr>\n",
       "    <tr>\n",
       "      <th>22</th>\n",
       "      <td>2016-03-23 14:52:51</td>\n",
       "      <td>2900</td>\n",
       "      <td>NaN</td>\n",
       "      <td>2018</td>\n",
       "      <td>manual</td>\n",
       "      <td>90</td>\n",
       "      <td>meriva</td>\n",
       "      <td>150000</td>\n",
       "      <td>5</td>\n",
       "      <td>petrol</td>\n",
       "      <td>opel</td>\n",
       "      <td>no</td>\n",
       "      <td>2016-03-23 00:00:00</td>\n",
       "      <td>0</td>\n",
       "      <td>49716</td>\n",
       "      <td>2016-03-31 01:16:33</td>\n",
       "    </tr>\n",
       "    <tr>\n",
       "      <th>26</th>\n",
       "      <td>2016-03-10 19:38:18</td>\n",
       "      <td>5555</td>\n",
       "      <td>NaN</td>\n",
       "      <td>2017</td>\n",
       "      <td>manual</td>\n",
       "      <td>125</td>\n",
       "      <td>c4</td>\n",
       "      <td>125000</td>\n",
       "      <td>4</td>\n",
       "      <td>NaN</td>\n",
       "      <td>citroen</td>\n",
       "      <td>no</td>\n",
       "      <td>2016-03-10 00:00:00</td>\n",
       "      <td>0</td>\n",
       "      <td>31139</td>\n",
       "      <td>2016-03-16 09:16:46</td>\n",
       "    </tr>\n",
       "    <tr>\n",
       "      <th>31</th>\n",
       "      <td>2016-03-29 16:57:02</td>\n",
       "      <td>899</td>\n",
       "      <td>NaN</td>\n",
       "      <td>2016</td>\n",
       "      <td>manual</td>\n",
       "      <td>60</td>\n",
       "      <td>clio</td>\n",
       "      <td>150000</td>\n",
       "      <td>6</td>\n",
       "      <td>petrol</td>\n",
       "      <td>renault</td>\n",
       "      <td>NaN</td>\n",
       "      <td>2016-03-29 00:00:00</td>\n",
       "      <td>0</td>\n",
       "      <td>37075</td>\n",
       "      <td>2016-03-29 17:43:07</td>\n",
       "    </tr>\n",
       "    <tr>\n",
       "      <th>...</th>\n",
       "      <td>...</td>\n",
       "      <td>...</td>\n",
       "      <td>...</td>\n",
       "      <td>...</td>\n",
       "      <td>...</td>\n",
       "      <td>...</td>\n",
       "      <td>...</td>\n",
       "      <td>...</td>\n",
       "      <td>...</td>\n",
       "      <td>...</td>\n",
       "      <td>...</td>\n",
       "      <td>...</td>\n",
       "      <td>...</td>\n",
       "      <td>...</td>\n",
       "      <td>...</td>\n",
       "      <td>...</td>\n",
       "    </tr>\n",
       "    <tr>\n",
       "      <th>354346</th>\n",
       "      <td>2016-03-07 17:06:35</td>\n",
       "      <td>2600</td>\n",
       "      <td>NaN</td>\n",
       "      <td>2005</td>\n",
       "      <td>auto</td>\n",
       "      <td>0</td>\n",
       "      <td>c_klasse</td>\n",
       "      <td>150000</td>\n",
       "      <td>9</td>\n",
       "      <td>NaN</td>\n",
       "      <td>mercedes_benz</td>\n",
       "      <td>NaN</td>\n",
       "      <td>2016-03-07 00:00:00</td>\n",
       "      <td>0</td>\n",
       "      <td>61169</td>\n",
       "      <td>2016-03-08 21:28:38</td>\n",
       "    </tr>\n",
       "    <tr>\n",
       "      <th>354351</th>\n",
       "      <td>2016-03-11 23:40:32</td>\n",
       "      <td>1900</td>\n",
       "      <td>NaN</td>\n",
       "      <td>2000</td>\n",
       "      <td>manual</td>\n",
       "      <td>110</td>\n",
       "      <td>NaN</td>\n",
       "      <td>150000</td>\n",
       "      <td>7</td>\n",
       "      <td>NaN</td>\n",
       "      <td>volkswagen</td>\n",
       "      <td>no</td>\n",
       "      <td>2016-03-11 00:00:00</td>\n",
       "      <td>0</td>\n",
       "      <td>87700</td>\n",
       "      <td>2016-03-12 14:16:51</td>\n",
       "    </tr>\n",
       "    <tr>\n",
       "      <th>354361</th>\n",
       "      <td>2016-03-09 13:37:43</td>\n",
       "      <td>5250</td>\n",
       "      <td>NaN</td>\n",
       "      <td>2016</td>\n",
       "      <td>auto</td>\n",
       "      <td>150</td>\n",
       "      <td>159</td>\n",
       "      <td>150000</td>\n",
       "      <td>12</td>\n",
       "      <td>NaN</td>\n",
       "      <td>alfa_romeo</td>\n",
       "      <td>no</td>\n",
       "      <td>2016-03-09 00:00:00</td>\n",
       "      <td>0</td>\n",
       "      <td>51371</td>\n",
       "      <td>2016-03-13 01:44:13</td>\n",
       "    </tr>\n",
       "    <tr>\n",
       "      <th>354364</th>\n",
       "      <td>2016-03-21 09:50:58</td>\n",
       "      <td>0</td>\n",
       "      <td>NaN</td>\n",
       "      <td>2005</td>\n",
       "      <td>manual</td>\n",
       "      <td>0</td>\n",
       "      <td>colt</td>\n",
       "      <td>150000</td>\n",
       "      <td>7</td>\n",
       "      <td>petrol</td>\n",
       "      <td>mitsubishi</td>\n",
       "      <td>yes</td>\n",
       "      <td>2016-03-21 00:00:00</td>\n",
       "      <td>0</td>\n",
       "      <td>2694</td>\n",
       "      <td>2016-03-21 10:42:49</td>\n",
       "    </tr>\n",
       "    <tr>\n",
       "      <th>354365</th>\n",
       "      <td>2016-03-14 17:48:27</td>\n",
       "      <td>2200</td>\n",
       "      <td>NaN</td>\n",
       "      <td>2005</td>\n",
       "      <td>NaN</td>\n",
       "      <td>0</td>\n",
       "      <td>NaN</td>\n",
       "      <td>20000</td>\n",
       "      <td>1</td>\n",
       "      <td>NaN</td>\n",
       "      <td>sonstige_autos</td>\n",
       "      <td>NaN</td>\n",
       "      <td>2016-03-14 00:00:00</td>\n",
       "      <td>0</td>\n",
       "      <td>39576</td>\n",
       "      <td>2016-04-06 00:46:52</td>\n",
       "    </tr>\n",
       "  </tbody>\n",
       "</table>\n",
       "<p>37490 rows × 16 columns</p>\n",
       "</div>"
      ],
      "text/plain": [
       "                DateCrawled  Price VehicleType  RegistrationYear Gearbox  \\\n",
       "0       2016-03-24 11:52:17    480         NaN              1993  manual   \n",
       "16      2016-04-01 12:46:46    300         NaN              2016     NaN   \n",
       "22      2016-03-23 14:52:51   2900         NaN              2018  manual   \n",
       "26      2016-03-10 19:38:18   5555         NaN              2017  manual   \n",
       "31      2016-03-29 16:57:02    899         NaN              2016  manual   \n",
       "...                     ...    ...         ...               ...     ...   \n",
       "354346  2016-03-07 17:06:35   2600         NaN              2005    auto   \n",
       "354351  2016-03-11 23:40:32   1900         NaN              2000  manual   \n",
       "354361  2016-03-09 13:37:43   5250         NaN              2016    auto   \n",
       "354364  2016-03-21 09:50:58      0         NaN              2005  manual   \n",
       "354365  2016-03-14 17:48:27   2200         NaN              2005     NaN   \n",
       "\n",
       "        Power     Model  Kilometer  RegistrationMonth FuelType  \\\n",
       "0           0      golf     150000                  0   petrol   \n",
       "16         60      polo     150000                  0   petrol   \n",
       "22         90    meriva     150000                  5   petrol   \n",
       "26        125        c4     125000                  4      NaN   \n",
       "31         60      clio     150000                  6   petrol   \n",
       "...       ...       ...        ...                ...      ...   \n",
       "354346      0  c_klasse     150000                  9      NaN   \n",
       "354351    110       NaN     150000                  7      NaN   \n",
       "354361    150       159     150000                 12      NaN   \n",
       "354364      0      colt     150000                  7   petrol   \n",
       "354365      0       NaN      20000                  1      NaN   \n",
       "\n",
       "                 Brand Repaired          DateCreated  NumberOfPictures  \\\n",
       "0           volkswagen      NaN  2016-03-24 00:00:00                 0   \n",
       "16          volkswagen      NaN  2016-04-01 00:00:00                 0   \n",
       "22                opel       no  2016-03-23 00:00:00                 0   \n",
       "26             citroen       no  2016-03-10 00:00:00                 0   \n",
       "31             renault      NaN  2016-03-29 00:00:00                 0   \n",
       "...                ...      ...                  ...               ...   \n",
       "354346   mercedes_benz      NaN  2016-03-07 00:00:00                 0   \n",
       "354351      volkswagen       no  2016-03-11 00:00:00                 0   \n",
       "354361      alfa_romeo       no  2016-03-09 00:00:00                 0   \n",
       "354364      mitsubishi      yes  2016-03-21 00:00:00                 0   \n",
       "354365  sonstige_autos      NaN  2016-03-14 00:00:00                 0   \n",
       "\n",
       "        PostalCode             LastSeen  \n",
       "0            70435  2016-04-07 03:16:57  \n",
       "16           38871  2016-04-01 12:46:46  \n",
       "22           49716  2016-03-31 01:16:33  \n",
       "26           31139  2016-03-16 09:16:46  \n",
       "31           37075  2016-03-29 17:43:07  \n",
       "...            ...                  ...  \n",
       "354346       61169  2016-03-08 21:28:38  \n",
       "354351       87700  2016-03-12 14:16:51  \n",
       "354361       51371  2016-03-13 01:44:13  \n",
       "354364        2694  2016-03-21 10:42:49  \n",
       "354365       39576  2016-04-06 00:46:52  \n",
       "\n",
       "[37490 rows x 16 columns]"
      ]
     },
     "metadata": {},
     "output_type": "display_data"
    }
   ],
   "source": [
    "# заполнение пропущенных значений\n",
    "display(cars[cars['VehicleType'].isna()])\n",
    "cars['VehicleType'] = cars['VehicleType'].fillna('unknown')"
   ]
  },
  {
   "cell_type": "code",
   "execution_count": 51,
   "metadata": {},
   "outputs": [
    {
     "data": {
      "text/html": [
       "<div>\n",
       "<style scoped>\n",
       "    .dataframe tbody tr th:only-of-type {\n",
       "        vertical-align: middle;\n",
       "    }\n",
       "\n",
       "    .dataframe tbody tr th {\n",
       "        vertical-align: top;\n",
       "    }\n",
       "\n",
       "    .dataframe thead th {\n",
       "        text-align: right;\n",
       "    }\n",
       "</style>\n",
       "<table border=\"1\" class=\"dataframe\">\n",
       "  <thead>\n",
       "    <tr style=\"text-align: right;\">\n",
       "      <th></th>\n",
       "      <th>DateCrawled</th>\n",
       "      <th>Price</th>\n",
       "      <th>VehicleType</th>\n",
       "      <th>RegistrationYear</th>\n",
       "      <th>Gearbox</th>\n",
       "      <th>Power</th>\n",
       "      <th>Model</th>\n",
       "      <th>Kilometer</th>\n",
       "      <th>RegistrationMonth</th>\n",
       "      <th>FuelType</th>\n",
       "      <th>Brand</th>\n",
       "      <th>Repaired</th>\n",
       "      <th>DateCreated</th>\n",
       "      <th>NumberOfPictures</th>\n",
       "      <th>PostalCode</th>\n",
       "      <th>LastSeen</th>\n",
       "    </tr>\n",
       "  </thead>\n",
       "  <tbody>\n",
       "    <tr>\n",
       "      <th>15</th>\n",
       "      <td>2016-03-11 21:39:15</td>\n",
       "      <td>450</td>\n",
       "      <td>small</td>\n",
       "      <td>1910</td>\n",
       "      <td>NaN</td>\n",
       "      <td>0</td>\n",
       "      <td>ka</td>\n",
       "      <td>5000</td>\n",
       "      <td>0</td>\n",
       "      <td>petrol</td>\n",
       "      <td>ford</td>\n",
       "      <td>NaN</td>\n",
       "      <td>2016-03-11 00:00:00</td>\n",
       "      <td>0</td>\n",
       "      <td>24148</td>\n",
       "      <td>2016-03-19 08:46:47</td>\n",
       "    </tr>\n",
       "    <tr>\n",
       "      <th>16</th>\n",
       "      <td>2016-04-01 12:46:46</td>\n",
       "      <td>300</td>\n",
       "      <td>unknown</td>\n",
       "      <td>2016</td>\n",
       "      <td>NaN</td>\n",
       "      <td>60</td>\n",
       "      <td>polo</td>\n",
       "      <td>150000</td>\n",
       "      <td>0</td>\n",
       "      <td>petrol</td>\n",
       "      <td>volkswagen</td>\n",
       "      <td>NaN</td>\n",
       "      <td>2016-04-01 00:00:00</td>\n",
       "      <td>0</td>\n",
       "      <td>38871</td>\n",
       "      <td>2016-04-01 12:46:46</td>\n",
       "    </tr>\n",
       "    <tr>\n",
       "      <th>32</th>\n",
       "      <td>2016-03-15 20:59:01</td>\n",
       "      <td>245</td>\n",
       "      <td>sedan</td>\n",
       "      <td>1994</td>\n",
       "      <td>NaN</td>\n",
       "      <td>0</td>\n",
       "      <td>golf</td>\n",
       "      <td>150000</td>\n",
       "      <td>2</td>\n",
       "      <td>petrol</td>\n",
       "      <td>volkswagen</td>\n",
       "      <td>no</td>\n",
       "      <td>2016-03-15 00:00:00</td>\n",
       "      <td>0</td>\n",
       "      <td>44145</td>\n",
       "      <td>2016-03-17 18:17:43</td>\n",
       "    </tr>\n",
       "    <tr>\n",
       "      <th>37</th>\n",
       "      <td>2016-03-28 17:50:15</td>\n",
       "      <td>1500</td>\n",
       "      <td>unknown</td>\n",
       "      <td>2016</td>\n",
       "      <td>NaN</td>\n",
       "      <td>0</td>\n",
       "      <td>kangoo</td>\n",
       "      <td>150000</td>\n",
       "      <td>1</td>\n",
       "      <td>gasoline</td>\n",
       "      <td>renault</td>\n",
       "      <td>no</td>\n",
       "      <td>2016-03-28 00:00:00</td>\n",
       "      <td>0</td>\n",
       "      <td>46483</td>\n",
       "      <td>2016-03-30 09:18:02</td>\n",
       "    </tr>\n",
       "    <tr>\n",
       "      <th>40</th>\n",
       "      <td>2016-03-26 22:06:17</td>\n",
       "      <td>0</td>\n",
       "      <td>unknown</td>\n",
       "      <td>1990</td>\n",
       "      <td>NaN</td>\n",
       "      <td>0</td>\n",
       "      <td>corsa</td>\n",
       "      <td>150000</td>\n",
       "      <td>1</td>\n",
       "      <td>petrol</td>\n",
       "      <td>opel</td>\n",
       "      <td>NaN</td>\n",
       "      <td>2016-03-26 00:00:00</td>\n",
       "      <td>0</td>\n",
       "      <td>56412</td>\n",
       "      <td>2016-03-27 17:43:34</td>\n",
       "    </tr>\n",
       "    <tr>\n",
       "      <th>...</th>\n",
       "      <td>...</td>\n",
       "      <td>...</td>\n",
       "      <td>...</td>\n",
       "      <td>...</td>\n",
       "      <td>...</td>\n",
       "      <td>...</td>\n",
       "      <td>...</td>\n",
       "      <td>...</td>\n",
       "      <td>...</td>\n",
       "      <td>...</td>\n",
       "      <td>...</td>\n",
       "      <td>...</td>\n",
       "      <td>...</td>\n",
       "      <td>...</td>\n",
       "      <td>...</td>\n",
       "      <td>...</td>\n",
       "    </tr>\n",
       "    <tr>\n",
       "      <th>354288</th>\n",
       "      <td>2016-03-16 13:36:25</td>\n",
       "      <td>3300</td>\n",
       "      <td>wagon</td>\n",
       "      <td>2006</td>\n",
       "      <td>NaN</td>\n",
       "      <td>0</td>\n",
       "      <td>touran</td>\n",
       "      <td>150000</td>\n",
       "      <td>7</td>\n",
       "      <td>gasoline</td>\n",
       "      <td>volkswagen</td>\n",
       "      <td>NaN</td>\n",
       "      <td>2016-03-16 00:00:00</td>\n",
       "      <td>0</td>\n",
       "      <td>12057</td>\n",
       "      <td>2016-03-17 12:17:07</td>\n",
       "    </tr>\n",
       "    <tr>\n",
       "      <th>354305</th>\n",
       "      <td>2016-04-03 13:46:24</td>\n",
       "      <td>3500</td>\n",
       "      <td>unknown</td>\n",
       "      <td>1995</td>\n",
       "      <td>NaN</td>\n",
       "      <td>0</td>\n",
       "      <td>polo</td>\n",
       "      <td>150000</td>\n",
       "      <td>0</td>\n",
       "      <td>NaN</td>\n",
       "      <td>volkswagen</td>\n",
       "      <td>NaN</td>\n",
       "      <td>2016-04-03 00:00:00</td>\n",
       "      <td>0</td>\n",
       "      <td>74579</td>\n",
       "      <td>2016-04-05 12:44:38</td>\n",
       "    </tr>\n",
       "    <tr>\n",
       "      <th>354329</th>\n",
       "      <td>2016-03-30 20:55:30</td>\n",
       "      <td>350</td>\n",
       "      <td>small</td>\n",
       "      <td>1996</td>\n",
       "      <td>NaN</td>\n",
       "      <td>65</td>\n",
       "      <td>punto</td>\n",
       "      <td>150000</td>\n",
       "      <td>0</td>\n",
       "      <td>NaN</td>\n",
       "      <td>fiat</td>\n",
       "      <td>NaN</td>\n",
       "      <td>2016-03-30 00:00:00</td>\n",
       "      <td>0</td>\n",
       "      <td>25436</td>\n",
       "      <td>2016-04-07 13:50:41</td>\n",
       "    </tr>\n",
       "    <tr>\n",
       "      <th>354338</th>\n",
       "      <td>2016-03-31 19:52:33</td>\n",
       "      <td>180</td>\n",
       "      <td>unknown</td>\n",
       "      <td>1995</td>\n",
       "      <td>NaN</td>\n",
       "      <td>0</td>\n",
       "      <td>NaN</td>\n",
       "      <td>125000</td>\n",
       "      <td>3</td>\n",
       "      <td>petrol</td>\n",
       "      <td>opel</td>\n",
       "      <td>NaN</td>\n",
       "      <td>2016-03-31 00:00:00</td>\n",
       "      <td>0</td>\n",
       "      <td>41470</td>\n",
       "      <td>2016-04-06 14:18:04</td>\n",
       "    </tr>\n",
       "    <tr>\n",
       "      <th>354365</th>\n",
       "      <td>2016-03-14 17:48:27</td>\n",
       "      <td>2200</td>\n",
       "      <td>unknown</td>\n",
       "      <td>2005</td>\n",
       "      <td>NaN</td>\n",
       "      <td>0</td>\n",
       "      <td>NaN</td>\n",
       "      <td>20000</td>\n",
       "      <td>1</td>\n",
       "      <td>NaN</td>\n",
       "      <td>sonstige_autos</td>\n",
       "      <td>NaN</td>\n",
       "      <td>2016-03-14 00:00:00</td>\n",
       "      <td>0</td>\n",
       "      <td>39576</td>\n",
       "      <td>2016-04-06 00:46:52</td>\n",
       "    </tr>\n",
       "  </tbody>\n",
       "</table>\n",
       "<p>19833 rows × 16 columns</p>\n",
       "</div>"
      ],
      "text/plain": [
       "                DateCrawled  Price VehicleType  RegistrationYear Gearbox  \\\n",
       "15      2016-03-11 21:39:15    450       small              1910     NaN   \n",
       "16      2016-04-01 12:46:46    300     unknown              2016     NaN   \n",
       "32      2016-03-15 20:59:01    245       sedan              1994     NaN   \n",
       "37      2016-03-28 17:50:15   1500     unknown              2016     NaN   \n",
       "40      2016-03-26 22:06:17      0     unknown              1990     NaN   \n",
       "...                     ...    ...         ...               ...     ...   \n",
       "354288  2016-03-16 13:36:25   3300       wagon              2006     NaN   \n",
       "354305  2016-04-03 13:46:24   3500     unknown              1995     NaN   \n",
       "354329  2016-03-30 20:55:30    350       small              1996     NaN   \n",
       "354338  2016-03-31 19:52:33    180     unknown              1995     NaN   \n",
       "354365  2016-03-14 17:48:27   2200     unknown              2005     NaN   \n",
       "\n",
       "        Power   Model  Kilometer  RegistrationMonth  FuelType           Brand  \\\n",
       "15          0      ka       5000                  0    petrol            ford   \n",
       "16         60    polo     150000                  0    petrol      volkswagen   \n",
       "32          0    golf     150000                  2    petrol      volkswagen   \n",
       "37          0  kangoo     150000                  1  gasoline         renault   \n",
       "40          0   corsa     150000                  1    petrol            opel   \n",
       "...       ...     ...        ...                ...       ...             ...   \n",
       "354288      0  touran     150000                  7  gasoline      volkswagen   \n",
       "354305      0    polo     150000                  0       NaN      volkswagen   \n",
       "354329     65   punto     150000                  0       NaN            fiat   \n",
       "354338      0     NaN     125000                  3    petrol            opel   \n",
       "354365      0     NaN      20000                  1       NaN  sonstige_autos   \n",
       "\n",
       "       Repaired          DateCreated  NumberOfPictures  PostalCode  \\\n",
       "15          NaN  2016-03-11 00:00:00                 0       24148   \n",
       "16          NaN  2016-04-01 00:00:00                 0       38871   \n",
       "32           no  2016-03-15 00:00:00                 0       44145   \n",
       "37           no  2016-03-28 00:00:00                 0       46483   \n",
       "40          NaN  2016-03-26 00:00:00                 0       56412   \n",
       "...         ...                  ...               ...         ...   \n",
       "354288      NaN  2016-03-16 00:00:00                 0       12057   \n",
       "354305      NaN  2016-04-03 00:00:00                 0       74579   \n",
       "354329      NaN  2016-03-30 00:00:00                 0       25436   \n",
       "354338      NaN  2016-03-31 00:00:00                 0       41470   \n",
       "354365      NaN  2016-03-14 00:00:00                 0       39576   \n",
       "\n",
       "                   LastSeen  \n",
       "15      2016-03-19 08:46:47  \n",
       "16      2016-04-01 12:46:46  \n",
       "32      2016-03-17 18:17:43  \n",
       "37      2016-03-30 09:18:02  \n",
       "40      2016-03-27 17:43:34  \n",
       "...                     ...  \n",
       "354288  2016-03-17 12:17:07  \n",
       "354305  2016-04-05 12:44:38  \n",
       "354329  2016-04-07 13:50:41  \n",
       "354338  2016-04-06 14:18:04  \n",
       "354365  2016-04-06 00:46:52  \n",
       "\n",
       "[19833 rows x 16 columns]"
      ]
     },
     "metadata": {},
     "output_type": "display_data"
    }
   ],
   "source": [
    "display(cars[cars['Gearbox'].isna()])\n",
    "cars['Gearbox'] = cars['Gearbox'].fillna('unknown')"
   ]
  },
  {
   "cell_type": "code",
   "execution_count": 52,
   "metadata": {},
   "outputs": [
    {
     "data": {
      "text/html": [
       "<div>\n",
       "<style scoped>\n",
       "    .dataframe tbody tr th:only-of-type {\n",
       "        vertical-align: middle;\n",
       "    }\n",
       "\n",
       "    .dataframe tbody tr th {\n",
       "        vertical-align: top;\n",
       "    }\n",
       "\n",
       "    .dataframe thead th {\n",
       "        text-align: right;\n",
       "    }\n",
       "</style>\n",
       "<table border=\"1\" class=\"dataframe\">\n",
       "  <thead>\n",
       "    <tr style=\"text-align: right;\">\n",
       "      <th></th>\n",
       "      <th>DateCrawled</th>\n",
       "      <th>Price</th>\n",
       "      <th>VehicleType</th>\n",
       "      <th>RegistrationYear</th>\n",
       "      <th>Gearbox</th>\n",
       "      <th>Power</th>\n",
       "      <th>Model</th>\n",
       "      <th>Kilometer</th>\n",
       "      <th>RegistrationMonth</th>\n",
       "      <th>FuelType</th>\n",
       "      <th>Brand</th>\n",
       "      <th>Repaired</th>\n",
       "      <th>DateCreated</th>\n",
       "      <th>NumberOfPictures</th>\n",
       "      <th>PostalCode</th>\n",
       "      <th>LastSeen</th>\n",
       "    </tr>\n",
       "  </thead>\n",
       "  <tbody>\n",
       "    <tr>\n",
       "      <th>1</th>\n",
       "      <td>2016-03-24 10:58:45</td>\n",
       "      <td>18300</td>\n",
       "      <td>coupe</td>\n",
       "      <td>2011</td>\n",
       "      <td>manual</td>\n",
       "      <td>190</td>\n",
       "      <td>NaN</td>\n",
       "      <td>125000</td>\n",
       "      <td>5</td>\n",
       "      <td>gasoline</td>\n",
       "      <td>audi</td>\n",
       "      <td>yes</td>\n",
       "      <td>2016-03-24 00:00:00</td>\n",
       "      <td>0</td>\n",
       "      <td>66954</td>\n",
       "      <td>2016-04-07 01:46:50</td>\n",
       "    </tr>\n",
       "    <tr>\n",
       "      <th>59</th>\n",
       "      <td>2016-03-29 15:48:15</td>\n",
       "      <td>1</td>\n",
       "      <td>suv</td>\n",
       "      <td>1994</td>\n",
       "      <td>manual</td>\n",
       "      <td>286</td>\n",
       "      <td>NaN</td>\n",
       "      <td>150000</td>\n",
       "      <td>11</td>\n",
       "      <td>NaN</td>\n",
       "      <td>sonstige_autos</td>\n",
       "      <td>NaN</td>\n",
       "      <td>2016-03-29 00:00:00</td>\n",
       "      <td>0</td>\n",
       "      <td>53721</td>\n",
       "      <td>2016-04-06 01:44:38</td>\n",
       "    </tr>\n",
       "    <tr>\n",
       "      <th>81</th>\n",
       "      <td>2016-04-03 12:56:45</td>\n",
       "      <td>350</td>\n",
       "      <td>small</td>\n",
       "      <td>1997</td>\n",
       "      <td>manual</td>\n",
       "      <td>54</td>\n",
       "      <td>NaN</td>\n",
       "      <td>150000</td>\n",
       "      <td>3</td>\n",
       "      <td>NaN</td>\n",
       "      <td>fiat</td>\n",
       "      <td>yes</td>\n",
       "      <td>2016-04-03 00:00:00</td>\n",
       "      <td>0</td>\n",
       "      <td>45665</td>\n",
       "      <td>2016-04-05 11:47:13</td>\n",
       "    </tr>\n",
       "    <tr>\n",
       "      <th>115</th>\n",
       "      <td>2016-03-20 18:53:27</td>\n",
       "      <td>0</td>\n",
       "      <td>small</td>\n",
       "      <td>1999</td>\n",
       "      <td>unknown</td>\n",
       "      <td>0</td>\n",
       "      <td>NaN</td>\n",
       "      <td>5000</td>\n",
       "      <td>0</td>\n",
       "      <td>petrol</td>\n",
       "      <td>volkswagen</td>\n",
       "      <td>NaN</td>\n",
       "      <td>2016-03-20 00:00:00</td>\n",
       "      <td>0</td>\n",
       "      <td>37520</td>\n",
       "      <td>2016-04-07 02:45:22</td>\n",
       "    </tr>\n",
       "    <tr>\n",
       "      <th>135</th>\n",
       "      <td>2016-03-27 20:51:23</td>\n",
       "      <td>1450</td>\n",
       "      <td>sedan</td>\n",
       "      <td>1992</td>\n",
       "      <td>manual</td>\n",
       "      <td>136</td>\n",
       "      <td>NaN</td>\n",
       "      <td>150000</td>\n",
       "      <td>0</td>\n",
       "      <td>NaN</td>\n",
       "      <td>audi</td>\n",
       "      <td>no</td>\n",
       "      <td>2016-03-27 00:00:00</td>\n",
       "      <td>0</td>\n",
       "      <td>38709</td>\n",
       "      <td>2016-04-05 20:17:31</td>\n",
       "    </tr>\n",
       "    <tr>\n",
       "      <th>...</th>\n",
       "      <td>...</td>\n",
       "      <td>...</td>\n",
       "      <td>...</td>\n",
       "      <td>...</td>\n",
       "      <td>...</td>\n",
       "      <td>...</td>\n",
       "      <td>...</td>\n",
       "      <td>...</td>\n",
       "      <td>...</td>\n",
       "      <td>...</td>\n",
       "      <td>...</td>\n",
       "      <td>...</td>\n",
       "      <td>...</td>\n",
       "      <td>...</td>\n",
       "      <td>...</td>\n",
       "      <td>...</td>\n",
       "    </tr>\n",
       "    <tr>\n",
       "      <th>354245</th>\n",
       "      <td>2016-03-07 16:37:42</td>\n",
       "      <td>560</td>\n",
       "      <td>small</td>\n",
       "      <td>2001</td>\n",
       "      <td>auto</td>\n",
       "      <td>170</td>\n",
       "      <td>NaN</td>\n",
       "      <td>90000</td>\n",
       "      <td>0</td>\n",
       "      <td>petrol</td>\n",
       "      <td>fiat</td>\n",
       "      <td>yes</td>\n",
       "      <td>2016-03-07 00:00:00</td>\n",
       "      <td>0</td>\n",
       "      <td>55743</td>\n",
       "      <td>2016-03-12 21:45:25</td>\n",
       "    </tr>\n",
       "    <tr>\n",
       "      <th>354321</th>\n",
       "      <td>2016-03-15 13:52:34</td>\n",
       "      <td>9400</td>\n",
       "      <td>wagon</td>\n",
       "      <td>2007</td>\n",
       "      <td>manual</td>\n",
       "      <td>200</td>\n",
       "      <td>NaN</td>\n",
       "      <td>150000</td>\n",
       "      <td>4</td>\n",
       "      <td>gasoline</td>\n",
       "      <td>sonstige_autos</td>\n",
       "      <td>yes</td>\n",
       "      <td>2016-03-15 00:00:00</td>\n",
       "      <td>0</td>\n",
       "      <td>91186</td>\n",
       "      <td>2016-03-17 08:16:25</td>\n",
       "    </tr>\n",
       "    <tr>\n",
       "      <th>354338</th>\n",
       "      <td>2016-03-31 19:52:33</td>\n",
       "      <td>180</td>\n",
       "      <td>unknown</td>\n",
       "      <td>1995</td>\n",
       "      <td>unknown</td>\n",
       "      <td>0</td>\n",
       "      <td>NaN</td>\n",
       "      <td>125000</td>\n",
       "      <td>3</td>\n",
       "      <td>petrol</td>\n",
       "      <td>opel</td>\n",
       "      <td>NaN</td>\n",
       "      <td>2016-03-31 00:00:00</td>\n",
       "      <td>0</td>\n",
       "      <td>41470</td>\n",
       "      <td>2016-04-06 14:18:04</td>\n",
       "    </tr>\n",
       "    <tr>\n",
       "      <th>354351</th>\n",
       "      <td>2016-03-11 23:40:32</td>\n",
       "      <td>1900</td>\n",
       "      <td>unknown</td>\n",
       "      <td>2000</td>\n",
       "      <td>manual</td>\n",
       "      <td>110</td>\n",
       "      <td>NaN</td>\n",
       "      <td>150000</td>\n",
       "      <td>7</td>\n",
       "      <td>NaN</td>\n",
       "      <td>volkswagen</td>\n",
       "      <td>no</td>\n",
       "      <td>2016-03-11 00:00:00</td>\n",
       "      <td>0</td>\n",
       "      <td>87700</td>\n",
       "      <td>2016-03-12 14:16:51</td>\n",
       "    </tr>\n",
       "    <tr>\n",
       "      <th>354365</th>\n",
       "      <td>2016-03-14 17:48:27</td>\n",
       "      <td>2200</td>\n",
       "      <td>unknown</td>\n",
       "      <td>2005</td>\n",
       "      <td>unknown</td>\n",
       "      <td>0</td>\n",
       "      <td>NaN</td>\n",
       "      <td>20000</td>\n",
       "      <td>1</td>\n",
       "      <td>NaN</td>\n",
       "      <td>sonstige_autos</td>\n",
       "      <td>NaN</td>\n",
       "      <td>2016-03-14 00:00:00</td>\n",
       "      <td>0</td>\n",
       "      <td>39576</td>\n",
       "      <td>2016-04-06 00:46:52</td>\n",
       "    </tr>\n",
       "  </tbody>\n",
       "</table>\n",
       "<p>19705 rows × 16 columns</p>\n",
       "</div>"
      ],
      "text/plain": [
       "                DateCrawled  Price VehicleType  RegistrationYear  Gearbox  \\\n",
       "1       2016-03-24 10:58:45  18300       coupe              2011   manual   \n",
       "59      2016-03-29 15:48:15      1         suv              1994   manual   \n",
       "81      2016-04-03 12:56:45    350       small              1997   manual   \n",
       "115     2016-03-20 18:53:27      0       small              1999  unknown   \n",
       "135     2016-03-27 20:51:23   1450       sedan              1992   manual   \n",
       "...                     ...    ...         ...               ...      ...   \n",
       "354245  2016-03-07 16:37:42    560       small              2001     auto   \n",
       "354321  2016-03-15 13:52:34   9400       wagon              2007   manual   \n",
       "354338  2016-03-31 19:52:33    180     unknown              1995  unknown   \n",
       "354351  2016-03-11 23:40:32   1900     unknown              2000   manual   \n",
       "354365  2016-03-14 17:48:27   2200     unknown              2005  unknown   \n",
       "\n",
       "        Power Model  Kilometer  RegistrationMonth  FuelType           Brand  \\\n",
       "1         190   NaN     125000                  5  gasoline            audi   \n",
       "59        286   NaN     150000                 11       NaN  sonstige_autos   \n",
       "81         54   NaN     150000                  3       NaN            fiat   \n",
       "115         0   NaN       5000                  0    petrol      volkswagen   \n",
       "135       136   NaN     150000                  0       NaN            audi   \n",
       "...       ...   ...        ...                ...       ...             ...   \n",
       "354245    170   NaN      90000                  0    petrol            fiat   \n",
       "354321    200   NaN     150000                  4  gasoline  sonstige_autos   \n",
       "354338      0   NaN     125000                  3    petrol            opel   \n",
       "354351    110   NaN     150000                  7       NaN      volkswagen   \n",
       "354365      0   NaN      20000                  1       NaN  sonstige_autos   \n",
       "\n",
       "       Repaired          DateCreated  NumberOfPictures  PostalCode  \\\n",
       "1           yes  2016-03-24 00:00:00                 0       66954   \n",
       "59          NaN  2016-03-29 00:00:00                 0       53721   \n",
       "81          yes  2016-04-03 00:00:00                 0       45665   \n",
       "115         NaN  2016-03-20 00:00:00                 0       37520   \n",
       "135          no  2016-03-27 00:00:00                 0       38709   \n",
       "...         ...                  ...               ...         ...   \n",
       "354245      yes  2016-03-07 00:00:00                 0       55743   \n",
       "354321      yes  2016-03-15 00:00:00                 0       91186   \n",
       "354338      NaN  2016-03-31 00:00:00                 0       41470   \n",
       "354351       no  2016-03-11 00:00:00                 0       87700   \n",
       "354365      NaN  2016-03-14 00:00:00                 0       39576   \n",
       "\n",
       "                   LastSeen  \n",
       "1       2016-04-07 01:46:50  \n",
       "59      2016-04-06 01:44:38  \n",
       "81      2016-04-05 11:47:13  \n",
       "115     2016-04-07 02:45:22  \n",
       "135     2016-04-05 20:17:31  \n",
       "...                     ...  \n",
       "354245  2016-03-12 21:45:25  \n",
       "354321  2016-03-17 08:16:25  \n",
       "354338  2016-04-06 14:18:04  \n",
       "354351  2016-03-12 14:16:51  \n",
       "354365  2016-04-06 00:46:52  \n",
       "\n",
       "[19705 rows x 16 columns]"
      ]
     },
     "metadata": {},
     "output_type": "display_data"
    }
   ],
   "source": [
    "display(cars[cars['Model'].isna()])\n",
    "cars['Model'] = cars['Model'].fillna('unknown')"
   ]
  },
  {
   "cell_type": "code",
   "execution_count": 53,
   "metadata": {},
   "outputs": [
    {
     "data": {
      "text/html": [
       "<div>\n",
       "<style scoped>\n",
       "    .dataframe tbody tr th:only-of-type {\n",
       "        vertical-align: middle;\n",
       "    }\n",
       "\n",
       "    .dataframe tbody tr th {\n",
       "        vertical-align: top;\n",
       "    }\n",
       "\n",
       "    .dataframe thead th {\n",
       "        text-align: right;\n",
       "    }\n",
       "</style>\n",
       "<table border=\"1\" class=\"dataframe\">\n",
       "  <thead>\n",
       "    <tr style=\"text-align: right;\">\n",
       "      <th></th>\n",
       "      <th>DateCrawled</th>\n",
       "      <th>Price</th>\n",
       "      <th>VehicleType</th>\n",
       "      <th>RegistrationYear</th>\n",
       "      <th>Gearbox</th>\n",
       "      <th>Power</th>\n",
       "      <th>Model</th>\n",
       "      <th>Kilometer</th>\n",
       "      <th>RegistrationMonth</th>\n",
       "      <th>FuelType</th>\n",
       "      <th>Brand</th>\n",
       "      <th>Repaired</th>\n",
       "      <th>DateCreated</th>\n",
       "      <th>NumberOfPictures</th>\n",
       "      <th>PostalCode</th>\n",
       "      <th>LastSeen</th>\n",
       "    </tr>\n",
       "  </thead>\n",
       "  <tbody>\n",
       "    <tr>\n",
       "      <th>9</th>\n",
       "      <td>2016-03-17 10:53:50</td>\n",
       "      <td>999</td>\n",
       "      <td>small</td>\n",
       "      <td>1998</td>\n",
       "      <td>manual</td>\n",
       "      <td>101</td>\n",
       "      <td>golf</td>\n",
       "      <td>150000</td>\n",
       "      <td>0</td>\n",
       "      <td>NaN</td>\n",
       "      <td>volkswagen</td>\n",
       "      <td>NaN</td>\n",
       "      <td>2016-03-17 00:00:00</td>\n",
       "      <td>0</td>\n",
       "      <td>27472</td>\n",
       "      <td>2016-03-31 17:17:06</td>\n",
       "    </tr>\n",
       "    <tr>\n",
       "      <th>13</th>\n",
       "      <td>2016-03-21 21:37:40</td>\n",
       "      <td>2500</td>\n",
       "      <td>wagon</td>\n",
       "      <td>2004</td>\n",
       "      <td>manual</td>\n",
       "      <td>131</td>\n",
       "      <td>passat</td>\n",
       "      <td>150000</td>\n",
       "      <td>2</td>\n",
       "      <td>NaN</td>\n",
       "      <td>volkswagen</td>\n",
       "      <td>no</td>\n",
       "      <td>2016-03-21 00:00:00</td>\n",
       "      <td>0</td>\n",
       "      <td>90762</td>\n",
       "      <td>2016-03-23 02:50:54</td>\n",
       "    </tr>\n",
       "    <tr>\n",
       "      <th>26</th>\n",
       "      <td>2016-03-10 19:38:18</td>\n",
       "      <td>5555</td>\n",
       "      <td>unknown</td>\n",
       "      <td>2017</td>\n",
       "      <td>manual</td>\n",
       "      <td>125</td>\n",
       "      <td>c4</td>\n",
       "      <td>125000</td>\n",
       "      <td>4</td>\n",
       "      <td>NaN</td>\n",
       "      <td>citroen</td>\n",
       "      <td>no</td>\n",
       "      <td>2016-03-10 00:00:00</td>\n",
       "      <td>0</td>\n",
       "      <td>31139</td>\n",
       "      <td>2016-03-16 09:16:46</td>\n",
       "    </tr>\n",
       "    <tr>\n",
       "      <th>36</th>\n",
       "      <td>2016-03-11 11:50:37</td>\n",
       "      <td>1600</td>\n",
       "      <td>other</td>\n",
       "      <td>1991</td>\n",
       "      <td>manual</td>\n",
       "      <td>75</td>\n",
       "      <td>kadett</td>\n",
       "      <td>70000</td>\n",
       "      <td>0</td>\n",
       "      <td>NaN</td>\n",
       "      <td>opel</td>\n",
       "      <td>NaN</td>\n",
       "      <td>2016-03-11 00:00:00</td>\n",
       "      <td>0</td>\n",
       "      <td>2943</td>\n",
       "      <td>2016-04-07 03:46:09</td>\n",
       "    </tr>\n",
       "    <tr>\n",
       "      <th>41</th>\n",
       "      <td>2016-03-30 20:38:20</td>\n",
       "      <td>7500</td>\n",
       "      <td>sedan</td>\n",
       "      <td>2002</td>\n",
       "      <td>auto</td>\n",
       "      <td>306</td>\n",
       "      <td>e_klasse</td>\n",
       "      <td>150000</td>\n",
       "      <td>4</td>\n",
       "      <td>NaN</td>\n",
       "      <td>mercedes_benz</td>\n",
       "      <td>NaN</td>\n",
       "      <td>2016-03-30 00:00:00</td>\n",
       "      <td>0</td>\n",
       "      <td>33649</td>\n",
       "      <td>2016-04-03 11:44:49</td>\n",
       "    </tr>\n",
       "    <tr>\n",
       "      <th>...</th>\n",
       "      <td>...</td>\n",
       "      <td>...</td>\n",
       "      <td>...</td>\n",
       "      <td>...</td>\n",
       "      <td>...</td>\n",
       "      <td>...</td>\n",
       "      <td>...</td>\n",
       "      <td>...</td>\n",
       "      <td>...</td>\n",
       "      <td>...</td>\n",
       "      <td>...</td>\n",
       "      <td>...</td>\n",
       "      <td>...</td>\n",
       "      <td>...</td>\n",
       "      <td>...</td>\n",
       "      <td>...</td>\n",
       "    </tr>\n",
       "    <tr>\n",
       "      <th>354339</th>\n",
       "      <td>2016-03-20 12:46:00</td>\n",
       "      <td>3850</td>\n",
       "      <td>convertible</td>\n",
       "      <td>2006</td>\n",
       "      <td>manual</td>\n",
       "      <td>108</td>\n",
       "      <td>2_reihe</td>\n",
       "      <td>125000</td>\n",
       "      <td>2</td>\n",
       "      <td>NaN</td>\n",
       "      <td>peugeot</td>\n",
       "      <td>no</td>\n",
       "      <td>2016-03-20 00:00:00</td>\n",
       "      <td>0</td>\n",
       "      <td>53947</td>\n",
       "      <td>2016-03-26 21:18:23</td>\n",
       "    </tr>\n",
       "    <tr>\n",
       "      <th>354346</th>\n",
       "      <td>2016-03-07 17:06:35</td>\n",
       "      <td>2600</td>\n",
       "      <td>unknown</td>\n",
       "      <td>2005</td>\n",
       "      <td>auto</td>\n",
       "      <td>0</td>\n",
       "      <td>c_klasse</td>\n",
       "      <td>150000</td>\n",
       "      <td>9</td>\n",
       "      <td>NaN</td>\n",
       "      <td>mercedes_benz</td>\n",
       "      <td>NaN</td>\n",
       "      <td>2016-03-07 00:00:00</td>\n",
       "      <td>0</td>\n",
       "      <td>61169</td>\n",
       "      <td>2016-03-08 21:28:38</td>\n",
       "    </tr>\n",
       "    <tr>\n",
       "      <th>354351</th>\n",
       "      <td>2016-03-11 23:40:32</td>\n",
       "      <td>1900</td>\n",
       "      <td>unknown</td>\n",
       "      <td>2000</td>\n",
       "      <td>manual</td>\n",
       "      <td>110</td>\n",
       "      <td>unknown</td>\n",
       "      <td>150000</td>\n",
       "      <td>7</td>\n",
       "      <td>NaN</td>\n",
       "      <td>volkswagen</td>\n",
       "      <td>no</td>\n",
       "      <td>2016-03-11 00:00:00</td>\n",
       "      <td>0</td>\n",
       "      <td>87700</td>\n",
       "      <td>2016-03-12 14:16:51</td>\n",
       "    </tr>\n",
       "    <tr>\n",
       "      <th>354361</th>\n",
       "      <td>2016-03-09 13:37:43</td>\n",
       "      <td>5250</td>\n",
       "      <td>unknown</td>\n",
       "      <td>2016</td>\n",
       "      <td>auto</td>\n",
       "      <td>150</td>\n",
       "      <td>159</td>\n",
       "      <td>150000</td>\n",
       "      <td>12</td>\n",
       "      <td>NaN</td>\n",
       "      <td>alfa_romeo</td>\n",
       "      <td>no</td>\n",
       "      <td>2016-03-09 00:00:00</td>\n",
       "      <td>0</td>\n",
       "      <td>51371</td>\n",
       "      <td>2016-03-13 01:44:13</td>\n",
       "    </tr>\n",
       "    <tr>\n",
       "      <th>354365</th>\n",
       "      <td>2016-03-14 17:48:27</td>\n",
       "      <td>2200</td>\n",
       "      <td>unknown</td>\n",
       "      <td>2005</td>\n",
       "      <td>unknown</td>\n",
       "      <td>0</td>\n",
       "      <td>unknown</td>\n",
       "      <td>20000</td>\n",
       "      <td>1</td>\n",
       "      <td>NaN</td>\n",
       "      <td>sonstige_autos</td>\n",
       "      <td>NaN</td>\n",
       "      <td>2016-03-14 00:00:00</td>\n",
       "      <td>0</td>\n",
       "      <td>39576</td>\n",
       "      <td>2016-04-06 00:46:52</td>\n",
       "    </tr>\n",
       "  </tbody>\n",
       "</table>\n",
       "<p>32895 rows × 16 columns</p>\n",
       "</div>"
      ],
      "text/plain": [
       "                DateCrawled  Price  VehicleType  RegistrationYear  Gearbox  \\\n",
       "9       2016-03-17 10:53:50    999        small              1998   manual   \n",
       "13      2016-03-21 21:37:40   2500        wagon              2004   manual   \n",
       "26      2016-03-10 19:38:18   5555      unknown              2017   manual   \n",
       "36      2016-03-11 11:50:37   1600        other              1991   manual   \n",
       "41      2016-03-30 20:38:20   7500        sedan              2002     auto   \n",
       "...                     ...    ...          ...               ...      ...   \n",
       "354339  2016-03-20 12:46:00   3850  convertible              2006   manual   \n",
       "354346  2016-03-07 17:06:35   2600      unknown              2005     auto   \n",
       "354351  2016-03-11 23:40:32   1900      unknown              2000   manual   \n",
       "354361  2016-03-09 13:37:43   5250      unknown              2016     auto   \n",
       "354365  2016-03-14 17:48:27   2200      unknown              2005  unknown   \n",
       "\n",
       "        Power     Model  Kilometer  RegistrationMonth FuelType  \\\n",
       "9         101      golf     150000                  0      NaN   \n",
       "13        131    passat     150000                  2      NaN   \n",
       "26        125        c4     125000                  4      NaN   \n",
       "36         75    kadett      70000                  0      NaN   \n",
       "41        306  e_klasse     150000                  4      NaN   \n",
       "...       ...       ...        ...                ...      ...   \n",
       "354339    108   2_reihe     125000                  2      NaN   \n",
       "354346      0  c_klasse     150000                  9      NaN   \n",
       "354351    110   unknown     150000                  7      NaN   \n",
       "354361    150       159     150000                 12      NaN   \n",
       "354365      0   unknown      20000                  1      NaN   \n",
       "\n",
       "                 Brand Repaired          DateCreated  NumberOfPictures  \\\n",
       "9           volkswagen      NaN  2016-03-17 00:00:00                 0   \n",
       "13          volkswagen       no  2016-03-21 00:00:00                 0   \n",
       "26             citroen       no  2016-03-10 00:00:00                 0   \n",
       "36                opel      NaN  2016-03-11 00:00:00                 0   \n",
       "41       mercedes_benz      NaN  2016-03-30 00:00:00                 0   \n",
       "...                ...      ...                  ...               ...   \n",
       "354339         peugeot       no  2016-03-20 00:00:00                 0   \n",
       "354346   mercedes_benz      NaN  2016-03-07 00:00:00                 0   \n",
       "354351      volkswagen       no  2016-03-11 00:00:00                 0   \n",
       "354361      alfa_romeo       no  2016-03-09 00:00:00                 0   \n",
       "354365  sonstige_autos      NaN  2016-03-14 00:00:00                 0   \n",
       "\n",
       "        PostalCode             LastSeen  \n",
       "9            27472  2016-03-31 17:17:06  \n",
       "13           90762  2016-03-23 02:50:54  \n",
       "26           31139  2016-03-16 09:16:46  \n",
       "36            2943  2016-04-07 03:46:09  \n",
       "41           33649  2016-04-03 11:44:49  \n",
       "...            ...                  ...  \n",
       "354339       53947  2016-03-26 21:18:23  \n",
       "354346       61169  2016-03-08 21:28:38  \n",
       "354351       87700  2016-03-12 14:16:51  \n",
       "354361       51371  2016-03-13 01:44:13  \n",
       "354365       39576  2016-04-06 00:46:52  \n",
       "\n",
       "[32895 rows x 16 columns]"
      ]
     },
     "metadata": {},
     "output_type": "display_data"
    }
   ],
   "source": [
    "display(cars[cars['FuelType'].isna()])\n",
    "cars['FuelType'] = cars['FuelType'].fillna('unknown')"
   ]
  },
  {
   "cell_type": "code",
   "execution_count": 54,
   "metadata": {},
   "outputs": [
    {
     "data": {
      "text/html": [
       "<div>\n",
       "<style scoped>\n",
       "    .dataframe tbody tr th:only-of-type {\n",
       "        vertical-align: middle;\n",
       "    }\n",
       "\n",
       "    .dataframe tbody tr th {\n",
       "        vertical-align: top;\n",
       "    }\n",
       "\n",
       "    .dataframe thead th {\n",
       "        text-align: right;\n",
       "    }\n",
       "</style>\n",
       "<table border=\"1\" class=\"dataframe\">\n",
       "  <thead>\n",
       "    <tr style=\"text-align: right;\">\n",
       "      <th></th>\n",
       "      <th>DateCrawled</th>\n",
       "      <th>Price</th>\n",
       "      <th>VehicleType</th>\n",
       "      <th>RegistrationYear</th>\n",
       "      <th>Gearbox</th>\n",
       "      <th>Power</th>\n",
       "      <th>Model</th>\n",
       "      <th>Kilometer</th>\n",
       "      <th>RegistrationMonth</th>\n",
       "      <th>FuelType</th>\n",
       "      <th>Brand</th>\n",
       "      <th>Repaired</th>\n",
       "      <th>DateCreated</th>\n",
       "      <th>NumberOfPictures</th>\n",
       "      <th>PostalCode</th>\n",
       "      <th>LastSeen</th>\n",
       "    </tr>\n",
       "  </thead>\n",
       "  <tbody>\n",
       "    <tr>\n",
       "      <th>0</th>\n",
       "      <td>2016-03-24 11:52:17</td>\n",
       "      <td>480</td>\n",
       "      <td>unknown</td>\n",
       "      <td>1993</td>\n",
       "      <td>manual</td>\n",
       "      <td>0</td>\n",
       "      <td>golf</td>\n",
       "      <td>150000</td>\n",
       "      <td>0</td>\n",
       "      <td>petrol</td>\n",
       "      <td>volkswagen</td>\n",
       "      <td>NaN</td>\n",
       "      <td>2016-03-24 00:00:00</td>\n",
       "      <td>0</td>\n",
       "      <td>70435</td>\n",
       "      <td>2016-04-07 03:16:57</td>\n",
       "    </tr>\n",
       "    <tr>\n",
       "      <th>2</th>\n",
       "      <td>2016-03-14 12:52:21</td>\n",
       "      <td>9800</td>\n",
       "      <td>suv</td>\n",
       "      <td>2004</td>\n",
       "      <td>auto</td>\n",
       "      <td>163</td>\n",
       "      <td>grand</td>\n",
       "      <td>125000</td>\n",
       "      <td>8</td>\n",
       "      <td>gasoline</td>\n",
       "      <td>jeep</td>\n",
       "      <td>NaN</td>\n",
       "      <td>2016-03-14 00:00:00</td>\n",
       "      <td>0</td>\n",
       "      <td>90480</td>\n",
       "      <td>2016-04-05 12:47:46</td>\n",
       "    </tr>\n",
       "    <tr>\n",
       "      <th>8</th>\n",
       "      <td>2016-04-04 23:42:13</td>\n",
       "      <td>14500</td>\n",
       "      <td>bus</td>\n",
       "      <td>2014</td>\n",
       "      <td>manual</td>\n",
       "      <td>125</td>\n",
       "      <td>c_max</td>\n",
       "      <td>30000</td>\n",
       "      <td>8</td>\n",
       "      <td>petrol</td>\n",
       "      <td>ford</td>\n",
       "      <td>NaN</td>\n",
       "      <td>2016-04-04 00:00:00</td>\n",
       "      <td>0</td>\n",
       "      <td>94505</td>\n",
       "      <td>2016-04-04 23:42:13</td>\n",
       "    </tr>\n",
       "    <tr>\n",
       "      <th>9</th>\n",
       "      <td>2016-03-17 10:53:50</td>\n",
       "      <td>999</td>\n",
       "      <td>small</td>\n",
       "      <td>1998</td>\n",
       "      <td>manual</td>\n",
       "      <td>101</td>\n",
       "      <td>golf</td>\n",
       "      <td>150000</td>\n",
       "      <td>0</td>\n",
       "      <td>unknown</td>\n",
       "      <td>volkswagen</td>\n",
       "      <td>NaN</td>\n",
       "      <td>2016-03-17 00:00:00</td>\n",
       "      <td>0</td>\n",
       "      <td>27472</td>\n",
       "      <td>2016-03-31 17:17:06</td>\n",
       "    </tr>\n",
       "    <tr>\n",
       "      <th>12</th>\n",
       "      <td>2016-03-15 22:49:09</td>\n",
       "      <td>999</td>\n",
       "      <td>wagon</td>\n",
       "      <td>1995</td>\n",
       "      <td>manual</td>\n",
       "      <td>115</td>\n",
       "      <td>passat</td>\n",
       "      <td>150000</td>\n",
       "      <td>11</td>\n",
       "      <td>petrol</td>\n",
       "      <td>volkswagen</td>\n",
       "      <td>NaN</td>\n",
       "      <td>2016-03-15 00:00:00</td>\n",
       "      <td>0</td>\n",
       "      <td>37269</td>\n",
       "      <td>2016-04-01 13:16:16</td>\n",
       "    </tr>\n",
       "    <tr>\n",
       "      <th>...</th>\n",
       "      <td>...</td>\n",
       "      <td>...</td>\n",
       "      <td>...</td>\n",
       "      <td>...</td>\n",
       "      <td>...</td>\n",
       "      <td>...</td>\n",
       "      <td>...</td>\n",
       "      <td>...</td>\n",
       "      <td>...</td>\n",
       "      <td>...</td>\n",
       "      <td>...</td>\n",
       "      <td>...</td>\n",
       "      <td>...</td>\n",
       "      <td>...</td>\n",
       "      <td>...</td>\n",
       "      <td>...</td>\n",
       "    </tr>\n",
       "    <tr>\n",
       "      <th>354349</th>\n",
       "      <td>2016-03-16 17:06:19</td>\n",
       "      <td>5999</td>\n",
       "      <td>wagon</td>\n",
       "      <td>2005</td>\n",
       "      <td>manual</td>\n",
       "      <td>140</td>\n",
       "      <td>a4</td>\n",
       "      <td>150000</td>\n",
       "      <td>4</td>\n",
       "      <td>gasoline</td>\n",
       "      <td>audi</td>\n",
       "      <td>NaN</td>\n",
       "      <td>2016-03-16 00:00:00</td>\n",
       "      <td>0</td>\n",
       "      <td>56472</td>\n",
       "      <td>2016-03-18 11:30:17</td>\n",
       "    </tr>\n",
       "    <tr>\n",
       "      <th>354356</th>\n",
       "      <td>2016-04-04 11:45:16</td>\n",
       "      <td>999</td>\n",
       "      <td>convertible</td>\n",
       "      <td>2000</td>\n",
       "      <td>manual</td>\n",
       "      <td>95</td>\n",
       "      <td>megane</td>\n",
       "      <td>150000</td>\n",
       "      <td>4</td>\n",
       "      <td>petrol</td>\n",
       "      <td>renault</td>\n",
       "      <td>NaN</td>\n",
       "      <td>2016-04-04 00:00:00</td>\n",
       "      <td>0</td>\n",
       "      <td>88477</td>\n",
       "      <td>2016-04-06 12:44:52</td>\n",
       "    </tr>\n",
       "    <tr>\n",
       "      <th>354357</th>\n",
       "      <td>2016-03-09 11:36:55</td>\n",
       "      <td>1690</td>\n",
       "      <td>wagon</td>\n",
       "      <td>2004</td>\n",
       "      <td>manual</td>\n",
       "      <td>55</td>\n",
       "      <td>fabia</td>\n",
       "      <td>150000</td>\n",
       "      <td>4</td>\n",
       "      <td>petrol</td>\n",
       "      <td>skoda</td>\n",
       "      <td>NaN</td>\n",
       "      <td>2016-03-09 00:00:00</td>\n",
       "      <td>0</td>\n",
       "      <td>18246</td>\n",
       "      <td>2016-04-04 08:15:30</td>\n",
       "    </tr>\n",
       "    <tr>\n",
       "      <th>354365</th>\n",
       "      <td>2016-03-14 17:48:27</td>\n",
       "      <td>2200</td>\n",
       "      <td>unknown</td>\n",
       "      <td>2005</td>\n",
       "      <td>unknown</td>\n",
       "      <td>0</td>\n",
       "      <td>unknown</td>\n",
       "      <td>20000</td>\n",
       "      <td>1</td>\n",
       "      <td>unknown</td>\n",
       "      <td>sonstige_autos</td>\n",
       "      <td>NaN</td>\n",
       "      <td>2016-03-14 00:00:00</td>\n",
       "      <td>0</td>\n",
       "      <td>39576</td>\n",
       "      <td>2016-04-06 00:46:52</td>\n",
       "    </tr>\n",
       "    <tr>\n",
       "      <th>354368</th>\n",
       "      <td>2016-03-20 19:41:08</td>\n",
       "      <td>3400</td>\n",
       "      <td>wagon</td>\n",
       "      <td>2002</td>\n",
       "      <td>manual</td>\n",
       "      <td>100</td>\n",
       "      <td>golf</td>\n",
       "      <td>150000</td>\n",
       "      <td>6</td>\n",
       "      <td>gasoline</td>\n",
       "      <td>volkswagen</td>\n",
       "      <td>NaN</td>\n",
       "      <td>2016-03-20 00:00:00</td>\n",
       "      <td>0</td>\n",
       "      <td>40764</td>\n",
       "      <td>2016-03-24 12:45:21</td>\n",
       "    </tr>\n",
       "  </tbody>\n",
       "</table>\n",
       "<p>71154 rows × 16 columns</p>\n",
       "</div>"
      ],
      "text/plain": [
       "                DateCrawled  Price  VehicleType  RegistrationYear  Gearbox  \\\n",
       "0       2016-03-24 11:52:17    480      unknown              1993   manual   \n",
       "2       2016-03-14 12:52:21   9800          suv              2004     auto   \n",
       "8       2016-04-04 23:42:13  14500          bus              2014   manual   \n",
       "9       2016-03-17 10:53:50    999        small              1998   manual   \n",
       "12      2016-03-15 22:49:09    999        wagon              1995   manual   \n",
       "...                     ...    ...          ...               ...      ...   \n",
       "354349  2016-03-16 17:06:19   5999        wagon              2005   manual   \n",
       "354356  2016-04-04 11:45:16    999  convertible              2000   manual   \n",
       "354357  2016-03-09 11:36:55   1690        wagon              2004   manual   \n",
       "354365  2016-03-14 17:48:27   2200      unknown              2005  unknown   \n",
       "354368  2016-03-20 19:41:08   3400        wagon              2002   manual   \n",
       "\n",
       "        Power    Model  Kilometer  RegistrationMonth  FuelType  \\\n",
       "0           0     golf     150000                  0    petrol   \n",
       "2         163    grand     125000                  8  gasoline   \n",
       "8         125    c_max      30000                  8    petrol   \n",
       "9         101     golf     150000                  0   unknown   \n",
       "12        115   passat     150000                 11    petrol   \n",
       "...       ...      ...        ...                ...       ...   \n",
       "354349    140       a4     150000                  4  gasoline   \n",
       "354356     95   megane     150000                  4    petrol   \n",
       "354357     55    fabia     150000                  4    petrol   \n",
       "354365      0  unknown      20000                  1   unknown   \n",
       "354368    100     golf     150000                  6  gasoline   \n",
       "\n",
       "                 Brand Repaired          DateCreated  NumberOfPictures  \\\n",
       "0           volkswagen      NaN  2016-03-24 00:00:00                 0   \n",
       "2                 jeep      NaN  2016-03-14 00:00:00                 0   \n",
       "8                 ford      NaN  2016-04-04 00:00:00                 0   \n",
       "9           volkswagen      NaN  2016-03-17 00:00:00                 0   \n",
       "12          volkswagen      NaN  2016-03-15 00:00:00                 0   \n",
       "...                ...      ...                  ...               ...   \n",
       "354349            audi      NaN  2016-03-16 00:00:00                 0   \n",
       "354356         renault      NaN  2016-04-04 00:00:00                 0   \n",
       "354357           skoda      NaN  2016-03-09 00:00:00                 0   \n",
       "354365  sonstige_autos      NaN  2016-03-14 00:00:00                 0   \n",
       "354368      volkswagen      NaN  2016-03-20 00:00:00                 0   \n",
       "\n",
       "        PostalCode             LastSeen  \n",
       "0            70435  2016-04-07 03:16:57  \n",
       "2            90480  2016-04-05 12:47:46  \n",
       "8            94505  2016-04-04 23:42:13  \n",
       "9            27472  2016-03-31 17:17:06  \n",
       "12           37269  2016-04-01 13:16:16  \n",
       "...            ...                  ...  \n",
       "354349       56472  2016-03-18 11:30:17  \n",
       "354356       88477  2016-04-06 12:44:52  \n",
       "354357       18246  2016-04-04 08:15:30  \n",
       "354365       39576  2016-04-06 00:46:52  \n",
       "354368       40764  2016-03-24 12:45:21  \n",
       "\n",
       "[71154 rows x 16 columns]"
      ]
     },
     "metadata": {},
     "output_type": "display_data"
    },
    {
     "name": "stdout",
     "output_type": "stream",
     "text": [
      "no     247161\n",
      "yes     36054\n",
      "Name: Repaired, dtype: int64\n"
     ]
    },
    {
     "data": {
      "text/html": [
       "<div>\n",
       "<style scoped>\n",
       "    .dataframe tbody tr th:only-of-type {\n",
       "        vertical-align: middle;\n",
       "    }\n",
       "\n",
       "    .dataframe tbody tr th {\n",
       "        vertical-align: top;\n",
       "    }\n",
       "\n",
       "    .dataframe thead th {\n",
       "        text-align: right;\n",
       "    }\n",
       "</style>\n",
       "<table border=\"1\" class=\"dataframe\">\n",
       "  <thead>\n",
       "    <tr style=\"text-align: right;\">\n",
       "      <th></th>\n",
       "      <th>DateCrawled</th>\n",
       "      <th>Price</th>\n",
       "      <th>VehicleType</th>\n",
       "      <th>RegistrationYear</th>\n",
       "      <th>Gearbox</th>\n",
       "      <th>Power</th>\n",
       "      <th>Model</th>\n",
       "      <th>Kilometer</th>\n",
       "      <th>RegistrationMonth</th>\n",
       "      <th>FuelType</th>\n",
       "      <th>Brand</th>\n",
       "      <th>Repaired</th>\n",
       "      <th>DateCreated</th>\n",
       "      <th>NumberOfPictures</th>\n",
       "      <th>PostalCode</th>\n",
       "      <th>LastSeen</th>\n",
       "    </tr>\n",
       "  </thead>\n",
       "  <tbody>\n",
       "  </tbody>\n",
       "</table>\n",
       "</div>"
      ],
      "text/plain": [
       "Empty DataFrame\n",
       "Columns: [DateCrawled, Price, VehicleType, RegistrationYear, Gearbox, Power, Model, Kilometer, RegistrationMonth, FuelType, Brand, Repaired, DateCreated, NumberOfPictures, PostalCode, LastSeen]\n",
       "Index: []"
      ]
     },
     "metadata": {},
     "output_type": "display_data"
    }
   ],
   "source": [
    "display(cars[cars['Repaired'].isna()])\n",
    "print(cars['Repaired'].value_counts())\n",
    "cars['Repaired'] = cars['Repaired'].eq('yes').mul(1)\n",
    "cars['Repaired'].value_counts()\n",
    "display(cars[cars['Repaired'].isna()])"
   ]
  },
  {
   "cell_type": "markdown",
   "metadata": {},
   "source": [
    "<div class=\"alert alert-block alert-info\">\n",
    "<b>Комментарий студента:</b> \n",
    "Имеются пропуски в столбцах с категориальными значениями: 'VehicleType', 'Gearbox', 'Model', 'FuelType', и 'Repaired'. Нужен совет ревьюера по тому, как заполнять пропуски в столбцах с категориальными значениями.\n",
    "</div>"
   ]
  },
  {
   "cell_type": "markdown",
   "metadata": {},
   "source": [
    "\n",
    "<div class=\"alert alert-block alert-warning\"; style=\"border-left: 6px solid orange\">\n",
    "<b>Рекомендация ⚠️</b>\n",
    "       \n",
    "У нас есть несколько вариантов работы с пропусками в категориальных признаках. Например тут мы можем заполнить модой через группировку по модели или закрыть пропуски заглушкой 'unknown', также есть вариант удаления пропусков, но делать это можно там где не так много пропусков)\n",
    "    \n",
    "</div>\n"
   ]
  },
  {
   "cell_type": "markdown",
   "metadata": {},
   "source": [
    "<div class=\"alert alert-block alert-info\">\n",
    "<b>Комментарий студента 2:</b> \n",
    "Заполнил заглушкой 'unknown'. Не совсем понял насчет заполнения модой через группировку. Не мог бы предоставить sample code?\n",
    "</div>"
   ]
  },
  {
   "cell_type": "markdown",
   "metadata": {},
   "source": [
    "\n",
    "<div class=\"alert alert-block alert-warning\"; style=\"border-left: 6px solid orange\">\n",
    "<b>Комментарий ревьюера 2 ⚠️</b>\n",
    "       \n",
    "Вот тут хорошо расписана эта идея)  \n",
    "    \n",
    "----  \n",
    "    \n",
    "Ссылка: https://stackoverflow.com/questions/19966018/pandas-filling-missing-values-by-mean-in-each-group|\n",
    "    \n",
    "</div>\n"
   ]
  },
  {
   "cell_type": "code",
   "execution_count": 55,
   "metadata": {},
   "outputs": [],
   "source": [
    "cars = cars[cars['RegistrationYear'] < 2018]"
   ]
  },
  {
   "cell_type": "code",
   "execution_count": 56,
   "metadata": {},
   "outputs": [],
   "source": [
    "cars = cars[cars['RegistrationYear'] <= pd.DatetimeIndex(cars['DateCreated']).year]"
   ]
  },
  {
   "cell_type": "code",
   "execution_count": 58,
   "metadata": {},
   "outputs": [
    {
     "data": {
      "text/plain": [
       "2016"
      ]
     },
     "metadata": {},
     "output_type": "display_data"
    }
   ],
   "source": [
    "display(cars.RegistrationYear.max())"
   ]
  },
  {
   "cell_type": "code",
   "execution_count": 59,
   "metadata": {},
   "outputs": [
    {
     "data": {
      "text/html": [
       "<div>\n",
       "<style scoped>\n",
       "    .dataframe tbody tr th:only-of-type {\n",
       "        vertical-align: middle;\n",
       "    }\n",
       "\n",
       "    .dataframe tbody tr th {\n",
       "        vertical-align: top;\n",
       "    }\n",
       "\n",
       "    .dataframe thead th {\n",
       "        text-align: right;\n",
       "    }\n",
       "</style>\n",
       "<table border=\"1\" class=\"dataframe\">\n",
       "  <thead>\n",
       "    <tr style=\"text-align: right;\">\n",
       "      <th></th>\n",
       "      <th>DateCrawled</th>\n",
       "      <th>Price</th>\n",
       "      <th>VehicleType</th>\n",
       "      <th>RegistrationYear</th>\n",
       "      <th>Gearbox</th>\n",
       "      <th>Power</th>\n",
       "      <th>Model</th>\n",
       "      <th>Kilometer</th>\n",
       "      <th>RegistrationMonth</th>\n",
       "      <th>FuelType</th>\n",
       "      <th>Brand</th>\n",
       "      <th>Repaired</th>\n",
       "      <th>DateCreated</th>\n",
       "      <th>NumberOfPictures</th>\n",
       "      <th>PostalCode</th>\n",
       "      <th>LastSeen</th>\n",
       "    </tr>\n",
       "  </thead>\n",
       "  <tbody>\n",
       "    <tr>\n",
       "      <th>7661</th>\n",
       "      <td>2016-04-02 19:25:25</td>\n",
       "      <td>1499</td>\n",
       "      <td>small</td>\n",
       "      <td>1999</td>\n",
       "      <td>manual</td>\n",
       "      <td>7515</td>\n",
       "      <td>lupo</td>\n",
       "      <td>150000</td>\n",
       "      <td>4</td>\n",
       "      <td>petrol</td>\n",
       "      <td>volkswagen</td>\n",
       "      <td>0</td>\n",
       "      <td>2016-04-02 00:00:00</td>\n",
       "      <td>0</td>\n",
       "      <td>65830</td>\n",
       "      <td>2016-04-06 11:46:49</td>\n",
       "    </tr>\n",
       "    <tr>\n",
       "      <th>11039</th>\n",
       "      <td>2016-03-25 19:55:32</td>\n",
       "      <td>0</td>\n",
       "      <td>sedan</td>\n",
       "      <td>1998</td>\n",
       "      <td>manual</td>\n",
       "      <td>10317</td>\n",
       "      <td>other</td>\n",
       "      <td>150000</td>\n",
       "      <td>8</td>\n",
       "      <td>petrol</td>\n",
       "      <td>fiat</td>\n",
       "      <td>0</td>\n",
       "      <td>2016-03-25 00:00:00</td>\n",
       "      <td>0</td>\n",
       "      <td>57520</td>\n",
       "      <td>2016-04-01 19:16:33</td>\n",
       "    </tr>\n",
       "    <tr>\n",
       "      <th>19092</th>\n",
       "      <td>2016-03-20 17:54:04</td>\n",
       "      <td>9750</td>\n",
       "      <td>wagon</td>\n",
       "      <td>2005</td>\n",
       "      <td>auto</td>\n",
       "      <td>2729</td>\n",
       "      <td>5er</td>\n",
       "      <td>150000</td>\n",
       "      <td>7</td>\n",
       "      <td>gasoline</td>\n",
       "      <td>bmw</td>\n",
       "      <td>0</td>\n",
       "      <td>2016-03-20 00:00:00</td>\n",
       "      <td>0</td>\n",
       "      <td>21376</td>\n",
       "      <td>2016-03-23 02:48:53</td>\n",
       "    </tr>\n",
       "    <tr>\n",
       "      <th>25232</th>\n",
       "      <td>2016-03-28 19:57:39</td>\n",
       "      <td>10900</td>\n",
       "      <td>bus</td>\n",
       "      <td>2009</td>\n",
       "      <td>manual</td>\n",
       "      <td>10520</td>\n",
       "      <td>caddy</td>\n",
       "      <td>150000</td>\n",
       "      <td>6</td>\n",
       "      <td>gasoline</td>\n",
       "      <td>volkswagen</td>\n",
       "      <td>0</td>\n",
       "      <td>2016-03-28 00:00:00</td>\n",
       "      <td>0</td>\n",
       "      <td>36272</td>\n",
       "      <td>2016-04-07 02:47:02</td>\n",
       "    </tr>\n",
       "    <tr>\n",
       "      <th>33952</th>\n",
       "      <td>2016-03-09 11:37:03</td>\n",
       "      <td>3740</td>\n",
       "      <td>small</td>\n",
       "      <td>2006</td>\n",
       "      <td>manual</td>\n",
       "      <td>6920</td>\n",
       "      <td>aygo</td>\n",
       "      <td>90000</td>\n",
       "      <td>10</td>\n",
       "      <td>unknown</td>\n",
       "      <td>toyota</td>\n",
       "      <td>0</td>\n",
       "      <td>2016-03-09 00:00:00</td>\n",
       "      <td>0</td>\n",
       "      <td>94116</td>\n",
       "      <td>2016-03-17 05:16:32</td>\n",
       "    </tr>\n",
       "    <tr>\n",
       "      <th>...</th>\n",
       "      <td>...</td>\n",
       "      <td>...</td>\n",
       "      <td>...</td>\n",
       "      <td>...</td>\n",
       "      <td>...</td>\n",
       "      <td>...</td>\n",
       "      <td>...</td>\n",
       "      <td>...</td>\n",
       "      <td>...</td>\n",
       "      <td>...</td>\n",
       "      <td>...</td>\n",
       "      <td>...</td>\n",
       "      <td>...</td>\n",
       "      <td>...</td>\n",
       "      <td>...</td>\n",
       "      <td>...</td>\n",
       "    </tr>\n",
       "    <tr>\n",
       "      <th>341320</th>\n",
       "      <td>2016-03-29 21:40:33</td>\n",
       "      <td>1899</td>\n",
       "      <td>other</td>\n",
       "      <td>2006</td>\n",
       "      <td>manual</td>\n",
       "      <td>7518</td>\n",
       "      <td>berlingo</td>\n",
       "      <td>125000</td>\n",
       "      <td>11</td>\n",
       "      <td>petrol</td>\n",
       "      <td>citroen</td>\n",
       "      <td>1</td>\n",
       "      <td>2016-03-29 00:00:00</td>\n",
       "      <td>0</td>\n",
       "      <td>89428</td>\n",
       "      <td>2016-03-31 15:17:03</td>\n",
       "    </tr>\n",
       "    <tr>\n",
       "      <th>346639</th>\n",
       "      <td>2016-03-25 12:55:36</td>\n",
       "      <td>1300</td>\n",
       "      <td>sedan</td>\n",
       "      <td>2000</td>\n",
       "      <td>manual</td>\n",
       "      <td>12512</td>\n",
       "      <td>carisma</td>\n",
       "      <td>150000</td>\n",
       "      <td>9</td>\n",
       "      <td>petrol</td>\n",
       "      <td>mitsubishi</td>\n",
       "      <td>0</td>\n",
       "      <td>2016-03-25 00:00:00</td>\n",
       "      <td>0</td>\n",
       "      <td>42105</td>\n",
       "      <td>2016-04-06 14:44:53</td>\n",
       "    </tr>\n",
       "    <tr>\n",
       "      <th>348137</th>\n",
       "      <td>2016-03-16 21:48:39</td>\n",
       "      <td>850</td>\n",
       "      <td>sedan</td>\n",
       "      <td>1993</td>\n",
       "      <td>auto</td>\n",
       "      <td>9012</td>\n",
       "      <td>golf</td>\n",
       "      <td>150000</td>\n",
       "      <td>0</td>\n",
       "      <td>petrol</td>\n",
       "      <td>volkswagen</td>\n",
       "      <td>0</td>\n",
       "      <td>2016-03-16 00:00:00</td>\n",
       "      <td>0</td>\n",
       "      <td>14482</td>\n",
       "      <td>2016-04-03 09:17:43</td>\n",
       "    </tr>\n",
       "    <tr>\n",
       "      <th>348237</th>\n",
       "      <td>2016-04-04 12:38:11</td>\n",
       "      <td>3000</td>\n",
       "      <td>coupe</td>\n",
       "      <td>2007</td>\n",
       "      <td>manual</td>\n",
       "      <td>2007</td>\n",
       "      <td>corsa</td>\n",
       "      <td>150000</td>\n",
       "      <td>3</td>\n",
       "      <td>gasoline</td>\n",
       "      <td>opel</td>\n",
       "      <td>1</td>\n",
       "      <td>2016-04-04 00:00:00</td>\n",
       "      <td>0</td>\n",
       "      <td>72218</td>\n",
       "      <td>2016-04-04 12:38:11</td>\n",
       "    </tr>\n",
       "    <tr>\n",
       "      <th>348668</th>\n",
       "      <td>2016-03-05 17:53:09</td>\n",
       "      <td>1000</td>\n",
       "      <td>wagon</td>\n",
       "      <td>1996</td>\n",
       "      <td>manual</td>\n",
       "      <td>2598</td>\n",
       "      <td>a6</td>\n",
       "      <td>150000</td>\n",
       "      <td>7</td>\n",
       "      <td>unknown</td>\n",
       "      <td>audi</td>\n",
       "      <td>0</td>\n",
       "      <td>2016-03-05 00:00:00</td>\n",
       "      <td>0</td>\n",
       "      <td>7646</td>\n",
       "      <td>2016-03-07 16:17:01</td>\n",
       "    </tr>\n",
       "  </tbody>\n",
       "</table>\n",
       "<p>109 rows × 16 columns</p>\n",
       "</div>"
      ],
      "text/plain": [
       "                DateCrawled  Price VehicleType  RegistrationYear Gearbox  \\\n",
       "7661    2016-04-02 19:25:25   1499       small              1999  manual   \n",
       "11039   2016-03-25 19:55:32      0       sedan              1998  manual   \n",
       "19092   2016-03-20 17:54:04   9750       wagon              2005    auto   \n",
       "25232   2016-03-28 19:57:39  10900         bus              2009  manual   \n",
       "33952   2016-03-09 11:37:03   3740       small              2006  manual   \n",
       "...                     ...    ...         ...               ...     ...   \n",
       "341320  2016-03-29 21:40:33   1899       other              2006  manual   \n",
       "346639  2016-03-25 12:55:36   1300       sedan              2000  manual   \n",
       "348137  2016-03-16 21:48:39    850       sedan              1993    auto   \n",
       "348237  2016-04-04 12:38:11   3000       coupe              2007  manual   \n",
       "348668  2016-03-05 17:53:09   1000       wagon              1996  manual   \n",
       "\n",
       "        Power     Model  Kilometer  RegistrationMonth  FuelType       Brand  \\\n",
       "7661     7515      lupo     150000                  4    petrol  volkswagen   \n",
       "11039   10317     other     150000                  8    petrol        fiat   \n",
       "19092    2729       5er     150000                  7  gasoline         bmw   \n",
       "25232   10520     caddy     150000                  6  gasoline  volkswagen   \n",
       "33952    6920      aygo      90000                 10   unknown      toyota   \n",
       "...       ...       ...        ...                ...       ...         ...   \n",
       "341320   7518  berlingo     125000                 11    petrol     citroen   \n",
       "346639  12512   carisma     150000                  9    petrol  mitsubishi   \n",
       "348137   9012      golf     150000                  0    petrol  volkswagen   \n",
       "348237   2007     corsa     150000                  3  gasoline        opel   \n",
       "348668   2598        a6     150000                  7   unknown        audi   \n",
       "\n",
       "        Repaired          DateCreated  NumberOfPictures  PostalCode  \\\n",
       "7661           0  2016-04-02 00:00:00                 0       65830   \n",
       "11039          0  2016-03-25 00:00:00                 0       57520   \n",
       "19092          0  2016-03-20 00:00:00                 0       21376   \n",
       "25232          0  2016-03-28 00:00:00                 0       36272   \n",
       "33952          0  2016-03-09 00:00:00                 0       94116   \n",
       "...          ...                  ...               ...         ...   \n",
       "341320         1  2016-03-29 00:00:00                 0       89428   \n",
       "346639         0  2016-03-25 00:00:00                 0       42105   \n",
       "348137         0  2016-03-16 00:00:00                 0       14482   \n",
       "348237         1  2016-04-04 00:00:00                 0       72218   \n",
       "348668         0  2016-03-05 00:00:00                 0        7646   \n",
       "\n",
       "                   LastSeen  \n",
       "7661    2016-04-06 11:46:49  \n",
       "11039   2016-04-01 19:16:33  \n",
       "19092   2016-03-23 02:48:53  \n",
       "25232   2016-04-07 02:47:02  \n",
       "33952   2016-03-17 05:16:32  \n",
       "...                     ...  \n",
       "341320  2016-03-31 15:17:03  \n",
       "346639  2016-04-06 14:44:53  \n",
       "348137  2016-04-03 09:17:43  \n",
       "348237  2016-04-04 12:38:11  \n",
       "348668  2016-03-07 16:17:01  \n",
       "\n",
       "[109 rows x 16 columns]"
      ]
     },
     "execution_count": 59,
     "metadata": {},
     "output_type": "execute_result"
    }
   ],
   "source": [
    "cars[cars['Power'] > 2000]"
   ]
  },
  {
   "cell_type": "code",
   "execution_count": 60,
   "metadata": {},
   "outputs": [],
   "source": [
    "cars = cars[(cars['Power'] > 50) & (cars['Power'] < 2000)]"
   ]
  },
  {
   "cell_type": "code",
   "execution_count": 61,
   "metadata": {},
   "outputs": [
    {
     "data": {
      "text/plain": [
       "0     6057\n",
       "1      614\n",
       "50     120\n",
       "80      52\n",
       "99      47\n",
       "10      23\n",
       "75      22\n",
       "70      22\n",
       "90      20\n",
       "60      17\n",
       "30      10\n",
       "5        8\n",
       "2        7\n",
       "40       6\n",
       "20       6\n",
       "65       5\n",
       "95       5\n",
       "35       5\n",
       "55       5\n",
       "45       4\n",
       "3        4\n",
       "9        4\n",
       "25       4\n",
       "15       4\n",
       "85       3\n",
       "89       3\n",
       "39       3\n",
       "66       2\n",
       "49       2\n",
       "11       2\n",
       "47       1\n",
       "24       1\n",
       "79       1\n",
       "29       1\n",
       "98       1\n",
       "13       1\n",
       "38       1\n",
       "17       1\n",
       "12       1\n",
       "77       1\n",
       "69       1\n",
       "26       1\n",
       "Name: Price, dtype: int64"
      ]
     },
     "execution_count": 61,
     "metadata": {},
     "output_type": "execute_result"
    }
   ],
   "source": [
    "cars['Price'][cars['Price'] < 100].value_counts()"
   ]
  },
  {
   "cell_type": "code",
   "execution_count": 62,
   "metadata": {},
   "outputs": [],
   "source": [
    "cars = cars[cars['Price'] > 20]"
   ]
  },
  {
   "cell_type": "code",
   "execution_count": 63,
   "metadata": {},
   "outputs": [],
   "source": [
    "cars = cars.drop('NumberOfPictures',axis=1)"
   ]
  },
  {
   "cell_type": "code",
   "execution_count": 64,
   "metadata": {},
   "outputs": [
    {
     "data": {
      "text/plain": [
       "DateCrawled          object\n",
       "Price                 int64\n",
       "VehicleType          object\n",
       "RegistrationYear      int64\n",
       "Gearbox              object\n",
       "Power                 int64\n",
       "Model                object\n",
       "Kilometer             int64\n",
       "RegistrationMonth     int64\n",
       "FuelType             object\n",
       "Brand                object\n",
       "Repaired              int64\n",
       "DateCreated          object\n",
       "PostalCode            int64\n",
       "LastSeen             object\n",
       "dtype: object"
      ]
     },
     "execution_count": 64,
     "metadata": {},
     "output_type": "execute_result"
    }
   ],
   "source": [
    "cars.dtypes"
   ]
  },
  {
   "cell_type": "code",
   "execution_count": 65,
   "metadata": {},
   "outputs": [
    {
     "data": {
      "text/plain": [
       "DateCrawled          datetime64[ns]\n",
       "Price                         int64\n",
       "VehicleType                  object\n",
       "RegistrationYear             object\n",
       "Gearbox                      object\n",
       "Power                         int64\n",
       "Model                        object\n",
       "Kilometer                     int64\n",
       "RegistrationMonth            object\n",
       "FuelType                     object\n",
       "Brand                        object\n",
       "Repaired                       bool\n",
       "DateCreated          datetime64[ns]\n",
       "PostalCode                   object\n",
       "LastSeen             datetime64[ns]\n",
       "dtype: object"
      ]
     },
     "execution_count": 65,
     "metadata": {},
     "output_type": "execute_result"
    }
   ],
   "source": [
    "cars[['DateCrawled','DateCreated','LastSeen']] = cars[['DateCrawled','DateCreated','LastSeen']].apply(pd.to_datetime)\n",
    "cars[['RegistrationYear','RegistrationMonth','PostalCode']] = cars[['RegistrationYear','RegistrationMonth','PostalCode']].astype('object')\n",
    "cars['Repaired'] = cars['Repaired'].astype('bool')\n",
    "cars.dtypes"
   ]
  },
  {
   "cell_type": "code",
   "execution_count": 66,
   "metadata": {},
   "outputs": [],
   "source": [
    "#удаляю пропущенные значения только для возможности кодирования\n",
    "#cars = cars.dropna()"
   ]
  },
  {
   "cell_type": "markdown",
   "metadata": {},
   "source": [
    "\n",
    "<div class=\"alert alert-block alert-danger\"; style=\"border-left: 6px solid red\">\n",
    "<b>Ошибка ❌</b>\n",
    "       \n",
    "Слишком много данных так удаляется)\n",
    "    \n",
    "</div>"
   ]
  },
  {
   "cell_type": "code",
   "execution_count": 67,
   "metadata": {},
   "outputs": [
    {
     "data": {
      "text/plain": [
       "2016"
      ]
     },
     "metadata": {},
     "output_type": "display_data"
    },
    {
     "data": {
      "text/plain": [
       "Timestamp('2016-04-07 00:00:00')"
      ]
     },
     "metadata": {},
     "output_type": "display_data"
    },
    {
     "data": {
      "text/html": [
       "<div>\n",
       "<style scoped>\n",
       "    .dataframe tbody tr th:only-of-type {\n",
       "        vertical-align: middle;\n",
       "    }\n",
       "\n",
       "    .dataframe tbody tr th {\n",
       "        vertical-align: top;\n",
       "    }\n",
       "\n",
       "    .dataframe thead th {\n",
       "        text-align: right;\n",
       "    }\n",
       "</style>\n",
       "<table border=\"1\" class=\"dataframe\">\n",
       "  <thead>\n",
       "    <tr style=\"text-align: right;\">\n",
       "      <th></th>\n",
       "      <th>Price</th>\n",
       "      <th>Power</th>\n",
       "      <th>Kilometer</th>\n",
       "    </tr>\n",
       "  </thead>\n",
       "  <tbody>\n",
       "    <tr>\n",
       "      <th>count</th>\n",
       "      <td>286327.000000</td>\n",
       "      <td>286327.000000</td>\n",
       "      <td>286327.000000</td>\n",
       "    </tr>\n",
       "    <tr>\n",
       "      <th>mean</th>\n",
       "      <td>4972.986585</td>\n",
       "      <td>124.079769</td>\n",
       "      <td>128427.846483</td>\n",
       "    </tr>\n",
       "    <tr>\n",
       "      <th>std</th>\n",
       "      <td>4628.514508</td>\n",
       "      <td>62.754962</td>\n",
       "      <td>36605.440609</td>\n",
       "    </tr>\n",
       "    <tr>\n",
       "      <th>min</th>\n",
       "      <td>24.000000</td>\n",
       "      <td>51.000000</td>\n",
       "      <td>5000.000000</td>\n",
       "    </tr>\n",
       "    <tr>\n",
       "      <th>25%</th>\n",
       "      <td>1450.000000</td>\n",
       "      <td>82.000000</td>\n",
       "      <td>125000.000000</td>\n",
       "    </tr>\n",
       "    <tr>\n",
       "      <th>50%</th>\n",
       "      <td>3300.000000</td>\n",
       "      <td>115.000000</td>\n",
       "      <td>150000.000000</td>\n",
       "    </tr>\n",
       "    <tr>\n",
       "      <th>75%</th>\n",
       "      <td>7190.000000</td>\n",
       "      <td>150.000000</td>\n",
       "      <td>150000.000000</td>\n",
       "    </tr>\n",
       "    <tr>\n",
       "      <th>max</th>\n",
       "      <td>20000.000000</td>\n",
       "      <td>1999.000000</td>\n",
       "      <td>150000.000000</td>\n",
       "    </tr>\n",
       "  </tbody>\n",
       "</table>\n",
       "</div>"
      ],
      "text/plain": [
       "               Price          Power      Kilometer\n",
       "count  286327.000000  286327.000000  286327.000000\n",
       "mean     4972.986585     124.079769  128427.846483\n",
       "std      4628.514508      62.754962   36605.440609\n",
       "min        24.000000      51.000000    5000.000000\n",
       "25%      1450.000000      82.000000  125000.000000\n",
       "50%      3300.000000     115.000000  150000.000000\n",
       "75%      7190.000000     150.000000  150000.000000\n",
       "max     20000.000000    1999.000000  150000.000000"
      ]
     },
     "execution_count": 67,
     "metadata": {},
     "output_type": "execute_result"
    }
   ],
   "source": [
    "#КОД РЕВЬЮЕРА\n",
    "\n",
    "display(cars.RegistrationYear.max())\n",
    "display(cars.DateCreated.max())\n",
    "cars.describe()"
   ]
  },
  {
   "cell_type": "markdown",
   "metadata": {},
   "source": [
    "\n",
    "\n",
    "<div class=\"alert alert-block alert-danger\"; style=\"border-left: 6px solid red\">\n",
    "<b>Ошибка ❌</b>\n",
    "       \n",
    "В данных остались аномалии:  \n",
    "    \n",
    "1. Минимальная цена  \n",
    "2. Минимальная мощность  \n",
    "3. Максимлаьный год регистрации не может быть больше максимальной даты создания анкеты\n",
    "    \n",
    "</div>"
   ]
  },
  {
   "cell_type": "markdown",
   "metadata": {},
   "source": [
    "<div class=\"alert alert-block alert-info\">\n",
    "<b>Комментарий студента 2:</b> \n",
    "Удалены все строки с ценой менее 20 у.е., так же как и все авто с мощностью менее 50 л.с. Максимальный год регистрации исправлен с 2022 на 2018. \n",
    "</div>"
   ]
  },
  {
   "cell_type": "markdown",
   "metadata": {},
   "source": [
    "\n",
    "<div class=\"alert alert-block alert-danger\"; style=\"border-left: 6px solid red\">\n",
    "<b>Комментарий ревьюера 2 ❌</b>\n",
    "       \n",
    "1. Максимальный год создания анкеты 2016)  \n",
    "2. Обрати внимание что у тебя с мощностью получилось\n",
    "    \n",
    "</div>"
   ]
  },
  {
   "cell_type": "markdown",
   "metadata": {},
   "source": [
    "<div class=\"alert alert-block alert-info\">\n",
    "<b>Комментарий студента 3:</b> \n",
    "Исправлены год регистрации и мощность\n",
    "</div>"
   ]
  },
  {
   "cell_type": "markdown",
   "metadata": {},
   "source": [
    "<div class=\"alert alert-block alert-success\"; style=\"border-left: 6px solid green\">\n",
    "<b>Комментарий ревьюера 3 ✔️</b>\n",
    "       \n",
    "Супер!\n",
    "    \n",
    "</div>\n"
   ]
  },
  {
   "cell_type": "code",
   "execution_count": 68,
   "metadata": {},
   "outputs": [],
   "source": [
    "#encoder = OrdinalEncoder()\n",
    "#cars_ordinal = pd.DataFrame(encoder.fit_transform(cars),columns=cars.columns)"
   ]
  },
  {
   "cell_type": "markdown",
   "metadata": {},
   "source": [
    "\n",
    "<div class=\"alert alert-block alert-danger\"; style=\"border-left: 6px solid red\">\n",
    "<b>Ошибка ❌</b>\n",
    "       \n",
    "Кодировать следует после разделения на выборки с четким указанием признаков которые кодируем, ниже оставлю пример\n",
    "    \n",
    "</div>"
   ]
  },
  {
   "cell_type": "code",
   "execution_count": 69,
   "metadata": {},
   "outputs": [],
   "source": [
    "# разделение на выборки\n",
    "x_train, x_test, y_train, y_test = train_test_split(cars.drop('Price',axis=1), cars['Price'], test_size=0.2, random_state=41)"
   ]
  },
  {
   "cell_type": "code",
   "execution_count": 70,
   "metadata": {},
   "outputs": [],
   "source": [
    "#КОД РЕВЬЮЕРА\n",
    "\n",
    "#from sklearn.preprocessing import OrdinalEncoder\n",
    "\n",
    "encoder = OrdinalEncoder(handle_unknown='ignore')\n",
    "\n",
    "cat_columns = [col for col in x_train.columns if x_train[col].dtype==\"O\" or x_train[col].dtype==\"datetime64[ns]\"]\n",
    "\n",
    "x_train_oe = x_train.copy()\n",
    "x_test_oe = x_test.copy()\n",
    "\n",
    "x_train_oe[cat_columns] = encoder.fit_transform(x_train[cat_columns])\n",
    "x_test_oe[cat_columns] = encoder.transform(x_test[cat_columns])"
   ]
  },
  {
   "cell_type": "code",
   "execution_count": 71,
   "metadata": {},
   "outputs": [
    {
     "data": {
      "text/html": [
       "<div>\n",
       "<style scoped>\n",
       "    .dataframe tbody tr th:only-of-type {\n",
       "        vertical-align: middle;\n",
       "    }\n",
       "\n",
       "    .dataframe tbody tr th {\n",
       "        vertical-align: top;\n",
       "    }\n",
       "\n",
       "    .dataframe thead th {\n",
       "        text-align: right;\n",
       "    }\n",
       "</style>\n",
       "<table border=\"1\" class=\"dataframe\">\n",
       "  <thead>\n",
       "    <tr style=\"text-align: right;\">\n",
       "      <th></th>\n",
       "      <th>DateCrawled</th>\n",
       "      <th>VehicleType</th>\n",
       "      <th>RegistrationYear</th>\n",
       "      <th>Gearbox</th>\n",
       "      <th>Power</th>\n",
       "      <th>Model</th>\n",
       "      <th>Kilometer</th>\n",
       "      <th>RegistrationMonth</th>\n",
       "      <th>FuelType</th>\n",
       "      <th>Brand</th>\n",
       "      <th>Repaired</th>\n",
       "      <th>DateCreated</th>\n",
       "      <th>PostalCode</th>\n",
       "      <th>LastSeen</th>\n",
       "    </tr>\n",
       "  </thead>\n",
       "  <tbody>\n",
       "    <tr>\n",
       "      <th>46020</th>\n",
       "      <td>140149.0</td>\n",
       "      <td>4.0</td>\n",
       "      <td>60.0</td>\n",
       "      <td>1.0</td>\n",
       "      <td>101</td>\n",
       "      <td>28.0</td>\n",
       "      <td>150000</td>\n",
       "      <td>3.0</td>\n",
       "      <td>6.0</td>\n",
       "      <td>1.0</td>\n",
       "      <td>False</td>\n",
       "      <td>94.0</td>\n",
       "      <td>5078.0</td>\n",
       "      <td>122156.0</td>\n",
       "    </tr>\n",
       "    <tr>\n",
       "      <th>11975</th>\n",
       "      <td>5663.0</td>\n",
       "      <td>8.0</td>\n",
       "      <td>69.0</td>\n",
       "      <td>0.0</td>\n",
       "      <td>218</td>\n",
       "      <td>15.0</td>\n",
       "      <td>150000</td>\n",
       "      <td>6.0</td>\n",
       "      <td>2.0</td>\n",
       "      <td>2.0</td>\n",
       "      <td>False</td>\n",
       "      <td>72.0</td>\n",
       "      <td>7786.0</td>\n",
       "      <td>10524.0</td>\n",
       "    </tr>\n",
       "    <tr>\n",
       "      <th>322833</th>\n",
       "      <td>170239.0</td>\n",
       "      <td>4.0</td>\n",
       "      <td>61.0</td>\n",
       "      <td>1.0</td>\n",
       "      <td>75</td>\n",
       "      <td>115.0</td>\n",
       "      <td>150000</td>\n",
       "      <td>8.0</td>\n",
       "      <td>6.0</td>\n",
       "      <td>38.0</td>\n",
       "      <td>False</td>\n",
       "      <td>99.0</td>\n",
       "      <td>5376.0</td>\n",
       "      <td>116922.0</td>\n",
       "    </tr>\n",
       "    <tr>\n",
       "      <th>203796</th>\n",
       "      <td>165571.0</td>\n",
       "      <td>1.0</td>\n",
       "      <td>66.0</td>\n",
       "      <td>0.0</td>\n",
       "      <td>109</td>\n",
       "      <td>8.0</td>\n",
       "      <td>100000</td>\n",
       "      <td>3.0</td>\n",
       "      <td>6.0</td>\n",
       "      <td>25.0</td>\n",
       "      <td>False</td>\n",
       "      <td>98.0</td>\n",
       "      <td>1623.0</td>\n",
       "      <td>88016.0</td>\n",
       "    </tr>\n",
       "    <tr>\n",
       "      <th>317181</th>\n",
       "      <td>138373.0</td>\n",
       "      <td>1.0</td>\n",
       "      <td>62.0</td>\n",
       "      <td>1.0</td>\n",
       "      <td>90</td>\n",
       "      <td>19.0</td>\n",
       "      <td>150000</td>\n",
       "      <td>6.0</td>\n",
       "      <td>2.0</td>\n",
       "      <td>1.0</td>\n",
       "      <td>False</td>\n",
       "      <td>94.0</td>\n",
       "      <td>1254.0</td>\n",
       "      <td>119454.0</td>\n",
       "    </tr>\n",
       "    <tr>\n",
       "      <th>...</th>\n",
       "      <td>...</td>\n",
       "      <td>...</td>\n",
       "      <td>...</td>\n",
       "      <td>...</td>\n",
       "      <td>...</td>\n",
       "      <td>...</td>\n",
       "      <td>...</td>\n",
       "      <td>...</td>\n",
       "      <td>...</td>\n",
       "      <td>...</td>\n",
       "      <td>...</td>\n",
       "      <td>...</td>\n",
       "      <td>...</td>\n",
       "      <td>...</td>\n",
       "    </tr>\n",
       "    <tr>\n",
       "      <th>222531</th>\n",
       "      <td>10222.0</td>\n",
       "      <td>8.0</td>\n",
       "      <td>75.0</td>\n",
       "      <td>0.0</td>\n",
       "      <td>140</td>\n",
       "      <td>213.0</td>\n",
       "      <td>150000</td>\n",
       "      <td>10.0</td>\n",
       "      <td>2.0</td>\n",
       "      <td>31.0</td>\n",
       "      <td>True</td>\n",
       "      <td>73.0</td>\n",
       "      <td>3323.0</td>\n",
       "      <td>1812.0</td>\n",
       "    </tr>\n",
       "    <tr>\n",
       "      <th>66447</th>\n",
       "      <td>2644.0</td>\n",
       "      <td>8.0</td>\n",
       "      <td>65.0</td>\n",
       "      <td>1.0</td>\n",
       "      <td>101</td>\n",
       "      <td>41.0</td>\n",
       "      <td>150000</td>\n",
       "      <td>9.0</td>\n",
       "      <td>6.0</td>\n",
       "      <td>24.0</td>\n",
       "      <td>True</td>\n",
       "      <td>71.0</td>\n",
       "      <td>4035.0</td>\n",
       "      <td>107998.0</td>\n",
       "    </tr>\n",
       "    <tr>\n",
       "      <th>310550</th>\n",
       "      <td>155235.0</td>\n",
       "      <td>8.0</td>\n",
       "      <td>72.0</td>\n",
       "      <td>1.0</td>\n",
       "      <td>140</td>\n",
       "      <td>153.0</td>\n",
       "      <td>150000</td>\n",
       "      <td>2.0</td>\n",
       "      <td>2.0</td>\n",
       "      <td>10.0</td>\n",
       "      <td>False</td>\n",
       "      <td>96.0</td>\n",
       "      <td>1530.0</td>\n",
       "      <td>108709.0</td>\n",
       "    </tr>\n",
       "    <tr>\n",
       "      <th>268616</th>\n",
       "      <td>173325.0</td>\n",
       "      <td>4.0</td>\n",
       "      <td>64.0</td>\n",
       "      <td>1.0</td>\n",
       "      <td>125</td>\n",
       "      <td>27.0</td>\n",
       "      <td>150000</td>\n",
       "      <td>1.0</td>\n",
       "      <td>6.0</td>\n",
       "      <td>1.0</td>\n",
       "      <td>False</td>\n",
       "      <td>99.0</td>\n",
       "      <td>3641.0</td>\n",
       "      <td>120267.0</td>\n",
       "    </tr>\n",
       "    <tr>\n",
       "      <th>163432</th>\n",
       "      <td>9218.0</td>\n",
       "      <td>2.0</td>\n",
       "      <td>62.0</td>\n",
       "      <td>1.0</td>\n",
       "      <td>170</td>\n",
       "      <td>11.0</td>\n",
       "      <td>150000</td>\n",
       "      <td>8.0</td>\n",
       "      <td>6.0</td>\n",
       "      <td>2.0</td>\n",
       "      <td>False</td>\n",
       "      <td>73.0</td>\n",
       "      <td>1355.0</td>\n",
       "      <td>11001.0</td>\n",
       "    </tr>\n",
       "  </tbody>\n",
       "</table>\n",
       "<p>229061 rows × 14 columns</p>\n",
       "</div>"
      ],
      "text/plain": [
       "        DateCrawled  VehicleType  RegistrationYear  Gearbox  Power  Model  \\\n",
       "46020      140149.0          4.0              60.0      1.0    101   28.0   \n",
       "11975        5663.0          8.0              69.0      0.0    218   15.0   \n",
       "322833     170239.0          4.0              61.0      1.0     75  115.0   \n",
       "203796     165571.0          1.0              66.0      0.0    109    8.0   \n",
       "317181     138373.0          1.0              62.0      1.0     90   19.0   \n",
       "...             ...          ...               ...      ...    ...    ...   \n",
       "222531      10222.0          8.0              75.0      0.0    140  213.0   \n",
       "66447        2644.0          8.0              65.0      1.0    101   41.0   \n",
       "310550     155235.0          8.0              72.0      1.0    140  153.0   \n",
       "268616     173325.0          4.0              64.0      1.0    125   27.0   \n",
       "163432       9218.0          2.0              62.0      1.0    170   11.0   \n",
       "\n",
       "        Kilometer  RegistrationMonth  FuelType  Brand  Repaired  DateCreated  \\\n",
       "46020      150000                3.0       6.0    1.0     False         94.0   \n",
       "11975      150000                6.0       2.0    2.0     False         72.0   \n",
       "322833     150000                8.0       6.0   38.0     False         99.0   \n",
       "203796     100000                3.0       6.0   25.0     False         98.0   \n",
       "317181     150000                6.0       2.0    1.0     False         94.0   \n",
       "...           ...                ...       ...    ...       ...          ...   \n",
       "222531     150000               10.0       2.0   31.0      True         73.0   \n",
       "66447      150000                9.0       6.0   24.0      True         71.0   \n",
       "310550     150000                2.0       2.0   10.0     False         96.0   \n",
       "268616     150000                1.0       6.0    1.0     False         99.0   \n",
       "163432     150000                8.0       6.0    2.0     False         73.0   \n",
       "\n",
       "        PostalCode  LastSeen  \n",
       "46020       5078.0  122156.0  \n",
       "11975       7786.0   10524.0  \n",
       "322833      5376.0  116922.0  \n",
       "203796      1623.0   88016.0  \n",
       "317181      1254.0  119454.0  \n",
       "...            ...       ...  \n",
       "222531      3323.0    1812.0  \n",
       "66447       4035.0  107998.0  \n",
       "310550      1530.0  108709.0  \n",
       "268616      3641.0  120267.0  \n",
       "163432      1355.0   11001.0  \n",
       "\n",
       "[229061 rows x 14 columns]"
      ]
     },
     "execution_count": 71,
     "metadata": {},
     "output_type": "execute_result"
    }
   ],
   "source": [
    "x_train_oe"
   ]
  },
  {
   "cell_type": "code",
   "execution_count": 72,
   "metadata": {},
   "outputs": [],
   "source": [
    "x_train = x_train_oe\n",
    "x_test = x_test_oe"
   ]
  },
  {
   "cell_type": "markdown",
   "metadata": {},
   "source": [
    "Были найдены аномалии в столбце 'RegistrationYear', и все строки с годом регистрации выше 2018 (максимальный год создания анкеты) были удалены. Также в столбце 'Power' были найдены значения менее 50 и более 2000 лошадиных сил, когда как самая \"слабая\" машина в мире имеет мощность около 50 л.с., а самая быстрая машина в мире имеет около 2100 л.с. Также все сторки с ценой менее 20 у.е. также были удалены. Столбец 'NumberOfPictures' был удален, так как не несет никакой информации, а именно все занчения равны нулю. Столбцы которые несут информацию о дате были переведены в соответствующий формат. Также, стобцы 'RegistrationYear','RegistrationMonth','PostalCode', которые состоят из цифр но являются категориальным значением были переведены в формат object. Далее, данные были поделены на тренировочную и тестовую выдорки. Все столбцы, которые не относятся к int, float, и bool были перекодированы с помощью OrdinalEncoder. Его преимущетсво в том, что он не создает десятки и сотни новых столбцов как One-hot Encoder. "
   ]
  },
  {
   "cell_type": "markdown",
   "metadata": {},
   "source": [
    "## Обучение моделей"
   ]
  },
  {
   "cell_type": "code",
   "execution_count": 79,
   "metadata": {},
   "outputs": [
    {
     "name": "stdout",
     "output_type": "stream",
     "text": [
      "Fitting 5 folds for each of 8 candidates, totalling 40 fits\n",
      "[CV 1/5; 2/8] START learning_rate=0.05, n_estimators=1500, num_leaves=15........\n",
      "[CV 1/5; 2/8] END learning_rate=0.05, n_estimators=1500, num_leaves=15; total time= 2.8min\n",
      "[CV 5/5; 3/8] START learning_rate=0.05, n_estimators=3000, num_leaves=7.........\n",
      "[CV 5/5; 3/8] END learning_rate=0.05, n_estimators=3000, num_leaves=7; total time= 4.7min\n",
      "[CV 1/5; 5/8] START learning_rate=0.01, n_estimators=1500, num_leaves=7.........\n",
      "[CV 1/5; 5/8] END learning_rate=0.01, n_estimators=1500, num_leaves=7; total time= 2.8min\n",
      "[CV 3/5; 5/8] START learning_rate=0.01, n_estimators=1500, num_leaves=7.........\n",
      "[CV 3/5; 5/8] END learning_rate=0.01, n_estimators=1500, num_leaves=7; total time= 2.6min\n",
      "[CV 4/5; 6/8] START learning_rate=0.01, n_estimators=1500, num_leaves=15........\n",
      "[CV 4/5; 6/8] END learning_rate=0.01, n_estimators=1500, num_leaves=15; total time= 3.7min\n",
      "[CV 5/5; 7/8] START learning_rate=0.01, n_estimators=3000, num_leaves=7.........\n",
      "[CV 5/5; 7/8] END learning_rate=0.01, n_estimators=3000, num_leaves=7; total time= 4.9min\n",
      "[CV 4/5; 1/8] START learning_rate=0.05, n_estimators=1500, num_leaves=7.........\n",
      "[CV 4/5; 1/8] END learning_rate=0.05, n_estimators=1500, num_leaves=7; total time= 2.4min\n",
      "[CV 1/5; 3/8] START learning_rate=0.05, n_estimators=3000, num_leaves=7.........\n",
      "[CV 1/5; 3/8] END learning_rate=0.05, n_estimators=3000, num_leaves=7; total time= 4.5min\n",
      "[CV 2/5; 4/8] START learning_rate=0.05, n_estimators=3000, num_leaves=15........\n",
      "[CV 2/5; 4/8] END learning_rate=0.05, n_estimators=3000, num_leaves=15; total time= 5.0min\n",
      "[CV 4/5; 5/8] START learning_rate=0.01, n_estimators=1500, num_leaves=7.........\n",
      "[CV 4/5; 5/8] END learning_rate=0.01, n_estimators=1500, num_leaves=7; total time= 2.8min\n",
      "[CV 5/5; 6/8] START learning_rate=0.01, n_estimators=1500, num_leaves=15........\n",
      "[CV 5/5; 6/8] END learning_rate=0.01, n_estimators=1500, num_leaves=15; total time= 3.4min\n",
      "[CV 1/5; 8/8] START learning_rate=0.01, n_estimators=3000, num_leaves=15........\n",
      "[CV 1/5; 8/8] END learning_rate=0.01, n_estimators=3000, num_leaves=15; total time= 5.6min\n",
      "[CV 1/5; 1/8] START learning_rate=0.05, n_estimators=1500, num_leaves=7.........\n",
      "[CV 1/5; 1/8] END learning_rate=0.05, n_estimators=1500, num_leaves=7; total time= 1.1min\n",
      "[CV 3/5; 2/8] START learning_rate=0.05, n_estimators=1500, num_leaves=15........\n",
      "[CV 3/5; 2/8] END learning_rate=0.05, n_estimators=1500, num_leaves=15; total time= 2.7min\n",
      "[CV 3/5; 3/8] START learning_rate=0.05, n_estimators=3000, num_leaves=7.........\n",
      "[CV 3/5; 3/8] END learning_rate=0.05, n_estimators=3000, num_leaves=7; total time= 4.4min\n",
      "[CV 3/5; 4/8] START learning_rate=0.05, n_estimators=3000, num_leaves=15........\n",
      "[CV 3/5; 4/8] END learning_rate=0.05, n_estimators=3000, num_leaves=15; total time= 5.3min\n",
      "[CV 5/5; 5/8] START learning_rate=0.01, n_estimators=1500, num_leaves=7.........\n",
      "[CV 5/5; 5/8] END learning_rate=0.01, n_estimators=1500, num_leaves=7; total time= 2.8min\n",
      "[CV 1/5; 7/8] START learning_rate=0.01, n_estimators=3000, num_leaves=7.........\n",
      "[CV 1/5; 7/8] END learning_rate=0.01, n_estimators=3000, num_leaves=7; total time= 5.2min\n",
      "[CV 2/5; 8/8] START learning_rate=0.01, n_estimators=3000, num_leaves=15........\n",
      "[CV 2/5; 8/8] END learning_rate=0.01, n_estimators=3000, num_leaves=15; total time= 4.8min\n",
      "[CV 3/5; 1/8] START learning_rate=0.05, n_estimators=1500, num_leaves=7.........\n",
      "[CV 3/5; 1/8] END learning_rate=0.05, n_estimators=1500, num_leaves=7; total time= 1.2min\n",
      "[CV 4/5; 2/8] START learning_rate=0.05, n_estimators=1500, num_leaves=15........\n",
      "[CV 4/5; 2/8] END learning_rate=0.05, n_estimators=1500, num_leaves=15; total time= 2.7min\n",
      "[CV 4/5; 3/8] START learning_rate=0.05, n_estimators=3000, num_leaves=7.........\n",
      "[CV 4/5; 3/8] END learning_rate=0.05, n_estimators=3000, num_leaves=7; total time= 4.7min\n",
      "[CV 5/5; 4/8] START learning_rate=0.05, n_estimators=3000, num_leaves=15........\n",
      "[CV 5/5; 4/8] END learning_rate=0.05, n_estimators=3000, num_leaves=15; total time= 5.1min\n",
      "[CV 2/5; 6/8] START learning_rate=0.01, n_estimators=1500, num_leaves=15........\n",
      "[CV 2/5; 6/8] END learning_rate=0.01, n_estimators=1500, num_leaves=15; total time= 3.7min\n",
      "[CV 4/5; 7/8] START learning_rate=0.01, n_estimators=3000, num_leaves=7.........\n",
      "[CV 4/5; 7/8] END learning_rate=0.01, n_estimators=3000, num_leaves=7; total time= 4.9min\n",
      "[CV 3/5; 8/8] START learning_rate=0.01, n_estimators=3000, num_leaves=15........\n",
      "[CV 3/5; 8/8] END learning_rate=0.01, n_estimators=3000, num_leaves=15; total time= 4.4min\n",
      "[CV 5/5; 1/8] START learning_rate=0.05, n_estimators=1500, num_leaves=7.........\n",
      "[CV 5/5; 1/8] END learning_rate=0.05, n_estimators=1500, num_leaves=7; total time= 2.3min\n",
      "[CV 5/5; 2/8] START learning_rate=0.05, n_estimators=1500, num_leaves=15........\n",
      "[CV 5/5; 2/8] END learning_rate=0.05, n_estimators=1500, num_leaves=15; total time= 2.7min\n",
      "[CV 1/5; 4/8] START learning_rate=0.05, n_estimators=3000, num_leaves=15........\n",
      "[CV 1/5; 4/8] END learning_rate=0.05, n_estimators=3000, num_leaves=15; total time= 5.0min\n",
      "[CV 2/5; 5/8] START learning_rate=0.01, n_estimators=1500, num_leaves=7.........\n",
      "[CV 2/5; 5/8] END learning_rate=0.01, n_estimators=1500, num_leaves=7; total time= 2.7min\n",
      "[CV 3/5; 6/8] START learning_rate=0.01, n_estimators=1500, num_leaves=15........\n",
      "[CV 3/5; 6/8] END learning_rate=0.01, n_estimators=1500, num_leaves=15; total time= 3.4min\n",
      "[CV 3/5; 7/8] START learning_rate=0.01, n_estimators=3000, num_leaves=7.........\n",
      "[CV 3/5; 7/8] END learning_rate=0.01, n_estimators=3000, num_leaves=7; total time= 5.3min\n",
      "[CV 5/5; 8/8] START learning_rate=0.01, n_estimators=3000, num_leaves=15........\n",
      "[CV 5/5; 8/8] END learning_rate=0.01, n_estimators=3000, num_leaves=15; total time= 4.2min\n",
      "[CV 2/5; 1/8] START learning_rate=0.05, n_estimators=1500, num_leaves=7.........\n",
      "[CV 2/5; 1/8] END learning_rate=0.05, n_estimators=1500, num_leaves=7; total time= 1.1min\n",
      "[CV 2/5; 2/8] START learning_rate=0.05, n_estimators=1500, num_leaves=15........\n",
      "[CV 2/5; 2/8] END learning_rate=0.05, n_estimators=1500, num_leaves=15; total time= 2.6min\n",
      "[CV 2/5; 3/8] START learning_rate=0.05, n_estimators=3000, num_leaves=7.........\n",
      "[CV 2/5; 3/8] END learning_rate=0.05, n_estimators=3000, num_leaves=7; total time= 4.6min\n",
      "[CV 4/5; 4/8] START learning_rate=0.05, n_estimators=3000, num_leaves=15........\n",
      "[CV 4/5; 4/8] END learning_rate=0.05, n_estimators=3000, num_leaves=15; total time= 5.2min\n",
      "[CV 1/5; 6/8] START learning_rate=0.01, n_estimators=1500, num_leaves=15........\n",
      "[CV 1/5; 6/8] END learning_rate=0.01, n_estimators=1500, num_leaves=15; total time= 3.6min\n",
      "[CV 2/5; 7/8] START learning_rate=0.01, n_estimators=3000, num_leaves=7.........\n",
      "[CV 2/5; 7/8] END learning_rate=0.01, n_estimators=3000, num_leaves=7; total time= 5.2min\n",
      "[CV 4/5; 8/8] START learning_rate=0.01, n_estimators=3000, num_leaves=15........\n",
      "[CV 4/5; 8/8] END learning_rate=0.01, n_estimators=3000, num_leaves=15; total time= 4.3min\n"
     ]
    },
    {
     "data": {
      "text/plain": [
       "GridSearchCV(estimator=LGBMRegressor(random_state=42), n_jobs=6,\n",
       "             param_grid={'learning_rate': [0.05, 0.01],\n",
       "                         'n_estimators': [1500, 3000], 'num_leaves': [7, 15]},\n",
       "             scoring='neg_root_mean_squared_error', verbose=10)"
      ]
     },
     "execution_count": 79,
     "metadata": {},
     "output_type": "execute_result"
    }
   ],
   "source": [
    "# CV grid search  hyperparameter tuning Gradient Boosting\n",
    "\n",
    "model = lgb.LGBMRegressor(random_state=42)\n",
    "\n",
    "parameters = {\n",
    "     'n_estimators': [1500, 3000],\n",
    "     'learning_rate':[0.05, 0.01],\n",
    "     'num_leaves':[7, 15]\n",
    "}\n",
    "\n",
    "gsearch_lgb = GridSearchCV(model, param_grid = parameters, n_jobs=6, verbose=10, scoring='neg_root_mean_squared_error')\n",
    "gsearch_lgb.fit(x_train,y_train) \n",
    "\n",
    "#print ('best params: ', gsearch_lgb.best_params_) \n",
    "#preds_lgb_model = gsearch_lgb.predict(x_train)\n",
    "#rmse_lgb = np.sqrt(mean_squared_error(y_train, preds_lgb_model))\n",
    "#print(\" RMSE: %f\" % (rmse_lgb))"
   ]
  },
  {
   "cell_type": "markdown",
   "metadata": {},
   "source": [
    "\n",
    "<div class=\"alert alert-block alert-danger\"; style=\"border-left: 6px solid red\">\n",
    "<b>Комментарий ревьюера 2 ❌</b>\n",
    "       \n",
    "1. Тебе в GridSearchCV нужно передать scoring='neg_root_mean_squared error' чтобы он считал RMSE  \n",
    "2. Тут не нужны эти строки:  \n",
    "    \n",
    "    print ('best params: ', gsearch_lgb.best_params_)  \n",
    "    preds_lgb_model = gsearch_lgb.predict(x_train)  \n",
    "    rmse_lgb = np.sqrt(mean_squared_error(y_train, preds_lgb_model))  \n",
    "    print(\" RMSE: %f\" % (rmse_lgb))\n",
    "    \n",
    "</div>"
   ]
  },
  {
   "cell_type": "code",
   "execution_count": 81,
   "metadata": {},
   "outputs": [
    {
     "data": {
      "text/plain": [
       "GridSearchCV(estimator=RandomForestRegressor(random_state=42),\n",
       "             param_grid={'max_depth': [2, 4], 'max_features': ['auto', 'sqrt'],\n",
       "                         'n_estimators': [150, 300]},\n",
       "             scoring='neg_root_mean_squared_error')"
      ]
     },
     "execution_count": 81,
     "metadata": {},
     "output_type": "execute_result"
    }
   ],
   "source": [
    "# CV grid search  hyperparameter tuning Random Forest Regressor\n",
    "model2 = RandomForestRegressor(random_state=42)\n",
    "\n",
    "parameters = {\n",
    "    'n_estimators': [150, 300],\n",
    "    'max_depth': [2, 4],\n",
    "    'max_features': ['auto', 'sqrt']\n",
    "}\n",
    "\n",
    "gsearch_rfr = GridSearchCV(model2, parameters, scoring='neg_root_mean_squared_error')\n",
    "gsearch_rfr.fit(x_train, y_train)\n",
    "\n",
    "#print ('best params: ', gsearch_rfr.best_params_) \n",
    "#preds_rfr_model = gsearch_rfr.predict(x_train)\n",
    "#rmse_rfr = np.sqrt(mean_squared_error(y_train, preds_rfr_model))\n",
    "#print(\" RMSE: %f\" % (rmse_rfr))"
   ]
  },
  {
   "cell_type": "markdown",
   "metadata": {},
   "source": [
    "<div class=\"alert alert-block alert-danger\"; style=\"border-left: 6px solid red\">\n",
    "<b>Комментарий ревьюера 2 ❌</b>\n",
    "       \n",
    "1. Тебе в GridSearchCV нужно передать scoring='neg_root_mean_squared error' чтобы он считал RMSE  \n",
    "2. Тут не нужны эти строки:  \n",
    "    \n",
    "    print ('best params: ', gsearch_rfr.best_params_)  \n",
    "    preds_rfr_model = gsearch_rfr.predict(x_train)  \n",
    "    rmse_rfr = np.sqrt(mean_squared_error(y_train, preds_rfr_model))  \n",
    "    print(\" RMSE: %f\" % (rmse_rfr))\n",
    "    \n",
    "</div>"
   ]
  },
  {
   "cell_type": "code",
   "execution_count": 60,
   "metadata": {},
   "outputs": [
    {
     "name": "stdout",
     "output_type": "stream",
     "text": [
      "Training RMSE 2471.9986 on Random Forest\n"
     ]
    }
   ],
   "source": [
    "#y_pred2 = model2.predict(x_train_oe)\n",
    "#print('Training RMSE {:.4f} on Random Forest'.format(sqrt(mean_squared_error(y_pred2,y_train))))"
   ]
  },
  {
   "cell_type": "markdown",
   "metadata": {},
   "source": [
    "<div class=\"alert alert-block alert-info\">\n",
    "<b>Комментарий студента:</b> \n",
    "Вопрос ревьюеру нужно ли расценивать RMSE Light GBM - 0.8557 как 8557? Если да значит Random Forest намного лучше отработал и его нужно использвать далее на тестовой выборке.\n",
    "</div>"
   ]
  },
  {
   "cell_type": "markdown",
   "metadata": {},
   "source": [
    "\n",
    "<div class=\"alert alert-block alert-danger\"; style=\"border-left: 6px solid red\">\n",
    "<b>Ошибка ❌</b>\n",
    "       \n",
    "У тебя для LGBM не RMSE считается)\n",
    "    \n",
    "</div>"
   ]
  },
  {
   "cell_type": "markdown",
   "metadata": {},
   "source": [
    "<div class=\"alert alert-block alert-info\">\n",
    "<b>Комментарий студента 2:</b> \n",
    "Надеюсь теперь RMSE считается)\n",
    "</div>"
   ]
  },
  {
   "cell_type": "markdown",
   "metadata": {},
   "source": [
    "<div class=\"alert alert-block alert-success\"; style=\"border-left: 6px solid green\">\n",
    "<b>Комментарий ревьюера 3 ✔️</b>\n",
    "       \n",
    "Теперь да)\n",
    "    \n",
    "</div>\n"
   ]
  },
  {
   "cell_type": "markdown",
   "metadata": {},
   "source": [
    "Были обучены 2 модели - Light Gradient Boosting и Random Forest Regressor. Были созданы CV grid searches и найдены лучшие параметры для обоих моделей. В следующей секции они будут оценены."
   ]
  },
  {
   "cell_type": "markdown",
   "metadata": {},
   "source": [
    "## Анализ моделей"
   ]
  },
  {
   "cell_type": "code",
   "execution_count": 65,
   "metadata": {},
   "outputs": [
    {
     "name": "stdout",
     "output_type": "stream",
     "text": [
      "Test RMSE 539.5255 on Random Forest\n",
      "CPU times: user 147 ms, sys: 22 µs, total: 147 ms\n",
      "Wall time: 146 ms\n"
     ]
    }
   ],
   "source": [
    "#%%time\n",
    "#y_pred_test = model2.predict(x_test)\n",
    "#print('Test RMSE {:.4f} on Random Forest'.format(sqrt(mean_squared_error(y_pred_test,y_test))))"
   ]
  },
  {
   "cell_type": "code",
   "execution_count": 82,
   "metadata": {},
   "outputs": [
    {
     "data": {
      "text/html": [
       "<div>\n",
       "<style scoped>\n",
       "    .dataframe tbody tr th:only-of-type {\n",
       "        vertical-align: middle;\n",
       "    }\n",
       "\n",
       "    .dataframe tbody tr th {\n",
       "        vertical-align: top;\n",
       "    }\n",
       "\n",
       "    .dataframe thead th {\n",
       "        text-align: right;\n",
       "    }\n",
       "</style>\n",
       "<table border=\"1\" class=\"dataframe\">\n",
       "  <thead>\n",
       "    <tr style=\"text-align: right;\">\n",
       "      <th></th>\n",
       "      <th>mean_fit_time</th>\n",
       "      <th>std_fit_time</th>\n",
       "      <th>mean_score_time</th>\n",
       "      <th>std_score_time</th>\n",
       "      <th>param_max_depth</th>\n",
       "      <th>param_max_features</th>\n",
       "      <th>param_n_estimators</th>\n",
       "      <th>params</th>\n",
       "      <th>split0_test_score</th>\n",
       "      <th>split1_test_score</th>\n",
       "      <th>split2_test_score</th>\n",
       "      <th>split3_test_score</th>\n",
       "      <th>split4_test_score</th>\n",
       "      <th>mean_test_score</th>\n",
       "      <th>std_test_score</th>\n",
       "      <th>rank_test_score</th>\n",
       "    </tr>\n",
       "  </thead>\n",
       "  <tbody>\n",
       "    <tr>\n",
       "      <th>0</th>\n",
       "      <td>25.466130</td>\n",
       "      <td>0.683590</td>\n",
       "      <td>0.184101</td>\n",
       "      <td>0.005656</td>\n",
       "      <td>2</td>\n",
       "      <td>auto</td>\n",
       "      <td>150</td>\n",
       "      <td>{'max_depth': 2, 'max_features': 'auto', 'n_es...</td>\n",
       "      <td>-3213.491179</td>\n",
       "      <td>-3206.331568</td>\n",
       "      <td>-3217.040829</td>\n",
       "      <td>-3219.993441</td>\n",
       "      <td>-3179.774144</td>\n",
       "      <td>-3207.326232</td>\n",
       "      <td>14.511685</td>\n",
       "      <td>6</td>\n",
       "    </tr>\n",
       "    <tr>\n",
       "      <th>1</th>\n",
       "      <td>52.915331</td>\n",
       "      <td>0.575356</td>\n",
       "      <td>0.340187</td>\n",
       "      <td>0.008403</td>\n",
       "      <td>2</td>\n",
       "      <td>auto</td>\n",
       "      <td>300</td>\n",
       "      <td>{'max_depth': 2, 'max_features': 'auto', 'n_es...</td>\n",
       "      <td>-3213.520993</td>\n",
       "      <td>-3206.240573</td>\n",
       "      <td>-3216.999669</td>\n",
       "      <td>-3220.002418</td>\n",
       "      <td>-3179.774223</td>\n",
       "      <td>-3207.307575</td>\n",
       "      <td>14.511556</td>\n",
       "      <td>5</td>\n",
       "    </tr>\n",
       "    <tr>\n",
       "      <th>2</th>\n",
       "      <td>6.838641</td>\n",
       "      <td>0.077785</td>\n",
       "      <td>0.179326</td>\n",
       "      <td>0.003407</td>\n",
       "      <td>2</td>\n",
       "      <td>sqrt</td>\n",
       "      <td>150</td>\n",
       "      <td>{'max_depth': 2, 'max_features': 'sqrt', 'n_es...</td>\n",
       "      <td>-3487.902688</td>\n",
       "      <td>-3490.148302</td>\n",
       "      <td>-3514.473547</td>\n",
       "      <td>-3496.094823</td>\n",
       "      <td>-3458.683676</td>\n",
       "      <td>-3489.460607</td>\n",
       "      <td>17.998775</td>\n",
       "      <td>8</td>\n",
       "    </tr>\n",
       "    <tr>\n",
       "      <th>3</th>\n",
       "      <td>13.124766</td>\n",
       "      <td>0.110996</td>\n",
       "      <td>0.300224</td>\n",
       "      <td>0.004468</td>\n",
       "      <td>2</td>\n",
       "      <td>sqrt</td>\n",
       "      <td>300</td>\n",
       "      <td>{'max_depth': 2, 'max_features': 'sqrt', 'n_es...</td>\n",
       "      <td>-3462.056669</td>\n",
       "      <td>-3465.490814</td>\n",
       "      <td>-3488.844237</td>\n",
       "      <td>-3471.415439</td>\n",
       "      <td>-3433.993070</td>\n",
       "      <td>-3464.360046</td>\n",
       "      <td>17.765087</td>\n",
       "      <td>7</td>\n",
       "    </tr>\n",
       "    <tr>\n",
       "      <th>4</th>\n",
       "      <td>48.641520</td>\n",
       "      <td>0.411243</td>\n",
       "      <td>0.269969</td>\n",
       "      <td>0.009287</td>\n",
       "      <td>4</td>\n",
       "      <td>auto</td>\n",
       "      <td>150</td>\n",
       "      <td>{'max_depth': 4, 'max_features': 'auto', 'n_es...</td>\n",
       "      <td>-2584.556087</td>\n",
       "      <td>-2592.777841</td>\n",
       "      <td>-2595.602175</td>\n",
       "      <td>-2592.852048</td>\n",
       "      <td>-2566.007856</td>\n",
       "      <td>-2586.359201</td>\n",
       "      <td>10.827899</td>\n",
       "      <td>1</td>\n",
       "    </tr>\n",
       "    <tr>\n",
       "      <th>5</th>\n",
       "      <td>98.015101</td>\n",
       "      <td>0.860209</td>\n",
       "      <td>0.476910</td>\n",
       "      <td>0.010772</td>\n",
       "      <td>4</td>\n",
       "      <td>auto</td>\n",
       "      <td>300</td>\n",
       "      <td>{'max_depth': 4, 'max_features': 'auto', 'n_es...</td>\n",
       "      <td>-2585.340345</td>\n",
       "      <td>-2592.354044</td>\n",
       "      <td>-2594.920189</td>\n",
       "      <td>-2594.031701</td>\n",
       "      <td>-2566.553483</td>\n",
       "      <td>-2586.639952</td>\n",
       "      <td>10.592510</td>\n",
       "      <td>2</td>\n",
       "    </tr>\n",
       "    <tr>\n",
       "      <th>6</th>\n",
       "      <td>12.646889</td>\n",
       "      <td>0.166967</td>\n",
       "      <td>0.257785</td>\n",
       "      <td>0.006987</td>\n",
       "      <td>4</td>\n",
       "      <td>sqrt</td>\n",
       "      <td>150</td>\n",
       "      <td>{'max_depth': 4, 'max_features': 'sqrt', 'n_es...</td>\n",
       "      <td>-2831.853251</td>\n",
       "      <td>-2826.578519</td>\n",
       "      <td>-2851.511235</td>\n",
       "      <td>-2832.547212</td>\n",
       "      <td>-2801.301802</td>\n",
       "      <td>-2828.758404</td>\n",
       "      <td>16.126012</td>\n",
       "      <td>4</td>\n",
       "    </tr>\n",
       "    <tr>\n",
       "      <th>7</th>\n",
       "      <td>26.055845</td>\n",
       "      <td>0.350533</td>\n",
       "      <td>0.480317</td>\n",
       "      <td>0.014883</td>\n",
       "      <td>4</td>\n",
       "      <td>sqrt</td>\n",
       "      <td>300</td>\n",
       "      <td>{'max_depth': 4, 'max_features': 'sqrt', 'n_es...</td>\n",
       "      <td>-2814.069523</td>\n",
       "      <td>-2810.709970</td>\n",
       "      <td>-2835.222356</td>\n",
       "      <td>-2817.449154</td>\n",
       "      <td>-2786.882298</td>\n",
       "      <td>-2812.866660</td>\n",
       "      <td>15.505236</td>\n",
       "      <td>3</td>\n",
       "    </tr>\n",
       "  </tbody>\n",
       "</table>\n",
       "</div>"
      ],
      "text/plain": [
       "   mean_fit_time  std_fit_time  mean_score_time  std_score_time  \\\n",
       "0      25.466130      0.683590         0.184101        0.005656   \n",
       "1      52.915331      0.575356         0.340187        0.008403   \n",
       "2       6.838641      0.077785         0.179326        0.003407   \n",
       "3      13.124766      0.110996         0.300224        0.004468   \n",
       "4      48.641520      0.411243         0.269969        0.009287   \n",
       "5      98.015101      0.860209         0.476910        0.010772   \n",
       "6      12.646889      0.166967         0.257785        0.006987   \n",
       "7      26.055845      0.350533         0.480317        0.014883   \n",
       "\n",
       "  param_max_depth param_max_features param_n_estimators  \\\n",
       "0               2               auto                150   \n",
       "1               2               auto                300   \n",
       "2               2               sqrt                150   \n",
       "3               2               sqrt                300   \n",
       "4               4               auto                150   \n",
       "5               4               auto                300   \n",
       "6               4               sqrt                150   \n",
       "7               4               sqrt                300   \n",
       "\n",
       "                                              params  split0_test_score  \\\n",
       "0  {'max_depth': 2, 'max_features': 'auto', 'n_es...       -3213.491179   \n",
       "1  {'max_depth': 2, 'max_features': 'auto', 'n_es...       -3213.520993   \n",
       "2  {'max_depth': 2, 'max_features': 'sqrt', 'n_es...       -3487.902688   \n",
       "3  {'max_depth': 2, 'max_features': 'sqrt', 'n_es...       -3462.056669   \n",
       "4  {'max_depth': 4, 'max_features': 'auto', 'n_es...       -2584.556087   \n",
       "5  {'max_depth': 4, 'max_features': 'auto', 'n_es...       -2585.340345   \n",
       "6  {'max_depth': 4, 'max_features': 'sqrt', 'n_es...       -2831.853251   \n",
       "7  {'max_depth': 4, 'max_features': 'sqrt', 'n_es...       -2814.069523   \n",
       "\n",
       "   split1_test_score  split2_test_score  split3_test_score  split4_test_score  \\\n",
       "0       -3206.331568       -3217.040829       -3219.993441       -3179.774144   \n",
       "1       -3206.240573       -3216.999669       -3220.002418       -3179.774223   \n",
       "2       -3490.148302       -3514.473547       -3496.094823       -3458.683676   \n",
       "3       -3465.490814       -3488.844237       -3471.415439       -3433.993070   \n",
       "4       -2592.777841       -2595.602175       -2592.852048       -2566.007856   \n",
       "5       -2592.354044       -2594.920189       -2594.031701       -2566.553483   \n",
       "6       -2826.578519       -2851.511235       -2832.547212       -2801.301802   \n",
       "7       -2810.709970       -2835.222356       -2817.449154       -2786.882298   \n",
       "\n",
       "   mean_test_score  std_test_score  rank_test_score  \n",
       "0     -3207.326232       14.511685                6  \n",
       "1     -3207.307575       14.511556                5  \n",
       "2     -3489.460607       17.998775                8  \n",
       "3     -3464.360046       17.765087                7  \n",
       "4     -2586.359201       10.827899                1  \n",
       "5     -2586.639952       10.592510                2  \n",
       "6     -2828.758404       16.126012                4  \n",
       "7     -2812.866660       15.505236                3  "
      ]
     },
     "metadata": {},
     "output_type": "display_data"
    },
    {
     "data": {
      "text/html": [
       "<div>\n",
       "<style scoped>\n",
       "    .dataframe tbody tr th:only-of-type {\n",
       "        vertical-align: middle;\n",
       "    }\n",
       "\n",
       "    .dataframe tbody tr th {\n",
       "        vertical-align: top;\n",
       "    }\n",
       "\n",
       "    .dataframe thead th {\n",
       "        text-align: right;\n",
       "    }\n",
       "</style>\n",
       "<table border=\"1\" class=\"dataframe\">\n",
       "  <thead>\n",
       "    <tr style=\"text-align: right;\">\n",
       "      <th></th>\n",
       "      <th>mean_fit_time</th>\n",
       "      <th>std_fit_time</th>\n",
       "      <th>mean_score_time</th>\n",
       "      <th>std_score_time</th>\n",
       "      <th>param_max_depth</th>\n",
       "      <th>param_max_features</th>\n",
       "      <th>param_n_estimators</th>\n",
       "      <th>params</th>\n",
       "      <th>split0_test_score</th>\n",
       "      <th>split1_test_score</th>\n",
       "      <th>split2_test_score</th>\n",
       "      <th>split3_test_score</th>\n",
       "      <th>split4_test_score</th>\n",
       "      <th>mean_test_score</th>\n",
       "      <th>std_test_score</th>\n",
       "      <th>rank_test_score</th>\n",
       "    </tr>\n",
       "  </thead>\n",
       "  <tbody>\n",
       "    <tr>\n",
       "      <th>4</th>\n",
       "      <td>48.64152</td>\n",
       "      <td>0.411243</td>\n",
       "      <td>0.269969</td>\n",
       "      <td>0.009287</td>\n",
       "      <td>4</td>\n",
       "      <td>auto</td>\n",
       "      <td>150</td>\n",
       "      <td>{'max_depth': 4, 'max_features': 'auto', 'n_es...</td>\n",
       "      <td>-2584.556087</td>\n",
       "      <td>-2592.777841</td>\n",
       "      <td>-2595.602175</td>\n",
       "      <td>-2592.852048</td>\n",
       "      <td>-2566.007856</td>\n",
       "      <td>-2586.359201</td>\n",
       "      <td>10.827899</td>\n",
       "      <td>1</td>\n",
       "    </tr>\n",
       "  </tbody>\n",
       "</table>\n",
       "</div>"
      ],
      "text/plain": [
       "   mean_fit_time  std_fit_time  mean_score_time  std_score_time  \\\n",
       "4       48.64152      0.411243         0.269969        0.009287   \n",
       "\n",
       "  param_max_depth param_max_features param_n_estimators  \\\n",
       "4               4               auto                150   \n",
       "\n",
       "                                              params  split0_test_score  \\\n",
       "4  {'max_depth': 4, 'max_features': 'auto', 'n_es...       -2584.556087   \n",
       "\n",
       "   split1_test_score  split2_test_score  split3_test_score  split4_test_score  \\\n",
       "4       -2592.777841       -2595.602175       -2592.852048       -2566.007856   \n",
       "\n",
       "   mean_test_score  std_test_score  rank_test_score  \n",
       "4     -2586.359201       10.827899                1  "
      ]
     },
     "metadata": {},
     "output_type": "display_data"
    },
    {
     "name": "stdout",
     "output_type": "stream",
     "text": [
      "RFR Fit Time: 48.64151983261108, RFR Predict Time: 0.26996850967407227, RFR Best Score: -2586.3592014168175\n"
     ]
    }
   ],
   "source": [
    "rfr_results = pd.DataFrame(gsearch_rfr.cv_results_)\n",
    "display(rfr_results)\n",
    "display(rfr_results[rfr_results['rank_test_score'] == 1])\n",
    "rfr_fit_time = rfr_results[rfr_results['rank_test_score'] == 1]['mean_fit_time'].values[0]\n",
    "rfr_pred_time = rfr_results[rfr_results['rank_test_score'] == 1]['mean_score_time'].values[0]\n",
    "rfr_best_score = rfr_results[rfr_results['rank_test_score'] == 1]['mean_test_score'].values[0]\n",
    "print(f'RFR Fit Time: {rfr_fit_time}, RFR Predict Time: {rfr_pred_time}, RFR Best Score: {rfr_best_score}')"
   ]
  },
  {
   "cell_type": "markdown",
   "metadata": {},
   "source": [
    "\n",
    "<div class=\"alert alert-block alert-danger\"; style=\"border-left: 6px solid red\">\n",
    "<b>Комментарий ревьюера 2 ❌</b>\n",
    "       \n",
    "Тут не RMSE считается, чтобы считалось RMSE нужно указать в гридсерч scoring как я описал выше, когда это поменяешь все 3 необходимые характеристики будут получены корректно)\n",
    "    \n",
    "</div>"
   ]
  },
  {
   "cell_type": "markdown",
   "metadata": {},
   "source": [
    "<div class=\"alert alert-block alert-success\"; style=\"border-left: 6px solid green\">\n",
    "<b>Комментарий ревьюера 3 ✔️</b>\n",
    "       \n",
    "Отлично!)\n",
    "    \n",
    "</div>\n"
   ]
  },
  {
   "cell_type": "code",
   "execution_count": 67,
   "metadata": {},
   "outputs": [
    {
     "name": "stdout",
     "output_type": "stream",
     "text": [
      "Test RMSE 0.8550 on Light GBM\n",
      "CPU times: user 430 ms, sys: 0 ns, total: 430 ms\n",
      "Wall time: 400 ms\n"
     ]
    }
   ],
   "source": [
    "#%%time\n",
    "#print('Test RMSE {:.4f} on Light GBM'.format(model.score(x_test,y_test)))"
   ]
  },
  {
   "cell_type": "code",
   "execution_count": 84,
   "metadata": {},
   "outputs": [
    {
     "data": {
      "text/html": [
       "<div>\n",
       "<style scoped>\n",
       "    .dataframe tbody tr th:only-of-type {\n",
       "        vertical-align: middle;\n",
       "    }\n",
       "\n",
       "    .dataframe tbody tr th {\n",
       "        vertical-align: top;\n",
       "    }\n",
       "\n",
       "    .dataframe thead th {\n",
       "        text-align: right;\n",
       "    }\n",
       "</style>\n",
       "<table border=\"1\" class=\"dataframe\">\n",
       "  <thead>\n",
       "    <tr style=\"text-align: right;\">\n",
       "      <th></th>\n",
       "      <th>mean_fit_time</th>\n",
       "      <th>std_fit_time</th>\n",
       "      <th>mean_score_time</th>\n",
       "      <th>std_score_time</th>\n",
       "      <th>param_learning_rate</th>\n",
       "      <th>param_n_estimators</th>\n",
       "      <th>param_num_leaves</th>\n",
       "      <th>params</th>\n",
       "      <th>split0_test_score</th>\n",
       "      <th>split1_test_score</th>\n",
       "      <th>split2_test_score</th>\n",
       "      <th>split3_test_score</th>\n",
       "      <th>split4_test_score</th>\n",
       "      <th>mean_test_score</th>\n",
       "      <th>std_test_score</th>\n",
       "      <th>rank_test_score</th>\n",
       "    </tr>\n",
       "  </thead>\n",
       "  <tbody>\n",
       "    <tr>\n",
       "      <th>0</th>\n",
       "      <td>78.865205</td>\n",
       "      <td>29.616692</td>\n",
       "      <td>18.861017</td>\n",
       "      <td>6.835773</td>\n",
       "      <td>0.05</td>\n",
       "      <td>1500</td>\n",
       "      <td>7</td>\n",
       "      <td>{'learning_rate': 0.05, 'n_estimators': 1500, ...</td>\n",
       "      <td>-1622.053903</td>\n",
       "      <td>-1621.728505</td>\n",
       "      <td>-1645.812633</td>\n",
       "      <td>-1606.749452</td>\n",
       "      <td>-1624.135278</td>\n",
       "      <td>-1624.095954</td>\n",
       "      <td>12.508330</td>\n",
       "      <td>5</td>\n",
       "    </tr>\n",
       "    <tr>\n",
       "      <th>1</th>\n",
       "      <td>124.924825</td>\n",
       "      <td>4.652726</td>\n",
       "      <td>36.894345</td>\n",
       "      <td>0.749154</td>\n",
       "      <td>0.05</td>\n",
       "      <td>1500</td>\n",
       "      <td>15</td>\n",
       "      <td>{'learning_rate': 0.05, 'n_estimators': 1500, ...</td>\n",
       "      <td>-1546.671267</td>\n",
       "      <td>-1548.560724</td>\n",
       "      <td>-1576.634475</td>\n",
       "      <td>-1541.094528</td>\n",
       "      <td>-1554.285624</td>\n",
       "      <td>-1553.449324</td>\n",
       "      <td>12.334765</td>\n",
       "      <td>2</td>\n",
       "    </tr>\n",
       "    <tr>\n",
       "      <th>2</th>\n",
       "      <td>220.076083</td>\n",
       "      <td>8.233590</td>\n",
       "      <td>55.008814</td>\n",
       "      <td>1.501381</td>\n",
       "      <td>0.05</td>\n",
       "      <td>3000</td>\n",
       "      <td>7</td>\n",
       "      <td>{'learning_rate': 0.05, 'n_estimators': 3000, ...</td>\n",
       "      <td>-1563.975626</td>\n",
       "      <td>-1567.365219</td>\n",
       "      <td>-1592.992844</td>\n",
       "      <td>-1553.295027</td>\n",
       "      <td>-1569.725651</td>\n",
       "      <td>-1569.470873</td>\n",
       "      <td>13.035625</td>\n",
       "      <td>3</td>\n",
       "    </tr>\n",
       "    <tr>\n",
       "      <th>3</th>\n",
       "      <td>234.237622</td>\n",
       "      <td>5.099115</td>\n",
       "      <td>73.206781</td>\n",
       "      <td>1.752785</td>\n",
       "      <td>0.05</td>\n",
       "      <td>3000</td>\n",
       "      <td>15</td>\n",
       "      <td>{'learning_rate': 0.05, 'n_estimators': 3000, ...</td>\n",
       "      <td>-1512.139610</td>\n",
       "      <td>-1513.726966</td>\n",
       "      <td>-1537.750995</td>\n",
       "      <td>-1507.266971</td>\n",
       "      <td>-1516.999085</td>\n",
       "      <td>-1517.576725</td>\n",
       "      <td>10.564173</td>\n",
       "      <td>1</td>\n",
       "    </tr>\n",
       "    <tr>\n",
       "      <th>4</th>\n",
       "      <td>137.636816</td>\n",
       "      <td>4.963839</td>\n",
       "      <td>28.379298</td>\n",
       "      <td>0.320172</td>\n",
       "      <td>0.01</td>\n",
       "      <td>1500</td>\n",
       "      <td>7</td>\n",
       "      <td>{'learning_rate': 0.01, 'n_estimators': 1500, ...</td>\n",
       "      <td>-1800.030593</td>\n",
       "      <td>-1805.087026</td>\n",
       "      <td>-1826.188763</td>\n",
       "      <td>-1789.004954</td>\n",
       "      <td>-1802.261286</td>\n",
       "      <td>-1804.514524</td>\n",
       "      <td>12.131198</td>\n",
       "      <td>8</td>\n",
       "    </tr>\n",
       "    <tr>\n",
       "      <th>5</th>\n",
       "      <td>171.563688</td>\n",
       "      <td>8.285518</td>\n",
       "      <td>41.619425</td>\n",
       "      <td>1.394638</td>\n",
       "      <td>0.01</td>\n",
       "      <td>1500</td>\n",
       "      <td>15</td>\n",
       "      <td>{'learning_rate': 0.01, 'n_estimators': 1500, ...</td>\n",
       "      <td>-1684.888592</td>\n",
       "      <td>-1688.003108</td>\n",
       "      <td>-1715.283190</td>\n",
       "      <td>-1673.343026</td>\n",
       "      <td>-1689.092234</td>\n",
       "      <td>-1690.122030</td>\n",
       "      <td>13.766322</td>\n",
       "      <td>6</td>\n",
       "    </tr>\n",
       "    <tr>\n",
       "      <th>6</th>\n",
       "      <td>246.631602</td>\n",
       "      <td>9.678645</td>\n",
       "      <td>59.413480</td>\n",
       "      <td>2.411427</td>\n",
       "      <td>0.01</td>\n",
       "      <td>3000</td>\n",
       "      <td>7</td>\n",
       "      <td>{'learning_rate': 0.01, 'n_estimators': 3000, ...</td>\n",
       "      <td>-1711.797063</td>\n",
       "      <td>-1716.927167</td>\n",
       "      <td>-1740.615979</td>\n",
       "      <td>-1698.951767</td>\n",
       "      <td>-1719.142979</td>\n",
       "      <td>-1717.486991</td>\n",
       "      <td>13.519879</td>\n",
       "      <td>7</td>\n",
       "    </tr>\n",
       "    <tr>\n",
       "      <th>7</th>\n",
       "      <td>233.475125</td>\n",
       "      <td>18.878922</td>\n",
       "      <td>45.577348</td>\n",
       "      <td>13.618105</td>\n",
       "      <td>0.01</td>\n",
       "      <td>3000</td>\n",
       "      <td>15</td>\n",
       "      <td>{'learning_rate': 0.01, 'n_estimators': 3000, ...</td>\n",
       "      <td>-1614.622872</td>\n",
       "      <td>-1617.796225</td>\n",
       "      <td>-1646.378463</td>\n",
       "      <td>-1603.263906</td>\n",
       "      <td>-1623.778865</td>\n",
       "      <td>-1621.168066</td>\n",
       "      <td>14.262876</td>\n",
       "      <td>4</td>\n",
       "    </tr>\n",
       "  </tbody>\n",
       "</table>\n",
       "</div>"
      ],
      "text/plain": [
       "   mean_fit_time  std_fit_time  mean_score_time  std_score_time  \\\n",
       "0      78.865205     29.616692        18.861017        6.835773   \n",
       "1     124.924825      4.652726        36.894345        0.749154   \n",
       "2     220.076083      8.233590        55.008814        1.501381   \n",
       "3     234.237622      5.099115        73.206781        1.752785   \n",
       "4     137.636816      4.963839        28.379298        0.320172   \n",
       "5     171.563688      8.285518        41.619425        1.394638   \n",
       "6     246.631602      9.678645        59.413480        2.411427   \n",
       "7     233.475125     18.878922        45.577348       13.618105   \n",
       "\n",
       "  param_learning_rate param_n_estimators param_num_leaves  \\\n",
       "0                0.05               1500                7   \n",
       "1                0.05               1500               15   \n",
       "2                0.05               3000                7   \n",
       "3                0.05               3000               15   \n",
       "4                0.01               1500                7   \n",
       "5                0.01               1500               15   \n",
       "6                0.01               3000                7   \n",
       "7                0.01               3000               15   \n",
       "\n",
       "                                              params  split0_test_score  \\\n",
       "0  {'learning_rate': 0.05, 'n_estimators': 1500, ...       -1622.053903   \n",
       "1  {'learning_rate': 0.05, 'n_estimators': 1500, ...       -1546.671267   \n",
       "2  {'learning_rate': 0.05, 'n_estimators': 3000, ...       -1563.975626   \n",
       "3  {'learning_rate': 0.05, 'n_estimators': 3000, ...       -1512.139610   \n",
       "4  {'learning_rate': 0.01, 'n_estimators': 1500, ...       -1800.030593   \n",
       "5  {'learning_rate': 0.01, 'n_estimators': 1500, ...       -1684.888592   \n",
       "6  {'learning_rate': 0.01, 'n_estimators': 3000, ...       -1711.797063   \n",
       "7  {'learning_rate': 0.01, 'n_estimators': 3000, ...       -1614.622872   \n",
       "\n",
       "   split1_test_score  split2_test_score  split3_test_score  split4_test_score  \\\n",
       "0       -1621.728505       -1645.812633       -1606.749452       -1624.135278   \n",
       "1       -1548.560724       -1576.634475       -1541.094528       -1554.285624   \n",
       "2       -1567.365219       -1592.992844       -1553.295027       -1569.725651   \n",
       "3       -1513.726966       -1537.750995       -1507.266971       -1516.999085   \n",
       "4       -1805.087026       -1826.188763       -1789.004954       -1802.261286   \n",
       "5       -1688.003108       -1715.283190       -1673.343026       -1689.092234   \n",
       "6       -1716.927167       -1740.615979       -1698.951767       -1719.142979   \n",
       "7       -1617.796225       -1646.378463       -1603.263906       -1623.778865   \n",
       "\n",
       "   mean_test_score  std_test_score  rank_test_score  \n",
       "0     -1624.095954       12.508330                5  \n",
       "1     -1553.449324       12.334765                2  \n",
       "2     -1569.470873       13.035625                3  \n",
       "3     -1517.576725       10.564173                1  \n",
       "4     -1804.514524       12.131198                8  \n",
       "5     -1690.122030       13.766322                6  \n",
       "6     -1717.486991       13.519879                7  \n",
       "7     -1621.168066       14.262876                4  "
      ]
     },
     "metadata": {},
     "output_type": "display_data"
    },
    {
     "data": {
      "text/html": [
       "<div>\n",
       "<style scoped>\n",
       "    .dataframe tbody tr th:only-of-type {\n",
       "        vertical-align: middle;\n",
       "    }\n",
       "\n",
       "    .dataframe tbody tr th {\n",
       "        vertical-align: top;\n",
       "    }\n",
       "\n",
       "    .dataframe thead th {\n",
       "        text-align: right;\n",
       "    }\n",
       "</style>\n",
       "<table border=\"1\" class=\"dataframe\">\n",
       "  <thead>\n",
       "    <tr style=\"text-align: right;\">\n",
       "      <th></th>\n",
       "      <th>mean_fit_time</th>\n",
       "      <th>std_fit_time</th>\n",
       "      <th>mean_score_time</th>\n",
       "      <th>std_score_time</th>\n",
       "      <th>param_learning_rate</th>\n",
       "      <th>param_n_estimators</th>\n",
       "      <th>param_num_leaves</th>\n",
       "      <th>params</th>\n",
       "      <th>split0_test_score</th>\n",
       "      <th>split1_test_score</th>\n",
       "      <th>split2_test_score</th>\n",
       "      <th>split3_test_score</th>\n",
       "      <th>split4_test_score</th>\n",
       "      <th>mean_test_score</th>\n",
       "      <th>std_test_score</th>\n",
       "      <th>rank_test_score</th>\n",
       "    </tr>\n",
       "  </thead>\n",
       "  <tbody>\n",
       "    <tr>\n",
       "      <th>3</th>\n",
       "      <td>234.237622</td>\n",
       "      <td>5.099115</td>\n",
       "      <td>73.206781</td>\n",
       "      <td>1.752785</td>\n",
       "      <td>0.05</td>\n",
       "      <td>3000</td>\n",
       "      <td>15</td>\n",
       "      <td>{'learning_rate': 0.05, 'n_estimators': 3000, ...</td>\n",
       "      <td>-1512.13961</td>\n",
       "      <td>-1513.726966</td>\n",
       "      <td>-1537.750995</td>\n",
       "      <td>-1507.266971</td>\n",
       "      <td>-1516.999085</td>\n",
       "      <td>-1517.576725</td>\n",
       "      <td>10.564173</td>\n",
       "      <td>1</td>\n",
       "    </tr>\n",
       "  </tbody>\n",
       "</table>\n",
       "</div>"
      ],
      "text/plain": [
       "   mean_fit_time  std_fit_time  mean_score_time  std_score_time  \\\n",
       "3     234.237622      5.099115        73.206781        1.752785   \n",
       "\n",
       "  param_learning_rate param_n_estimators param_num_leaves  \\\n",
       "3                0.05               3000               15   \n",
       "\n",
       "                                              params  split0_test_score  \\\n",
       "3  {'learning_rate': 0.05, 'n_estimators': 3000, ...        -1512.13961   \n",
       "\n",
       "   split1_test_score  split2_test_score  split3_test_score  split4_test_score  \\\n",
       "3       -1513.726966       -1537.750995       -1507.266971       -1516.999085   \n",
       "\n",
       "   mean_test_score  std_test_score  rank_test_score  \n",
       "3     -1517.576725       10.564173                1  "
      ]
     },
     "metadata": {},
     "output_type": "display_data"
    },
    {
     "name": "stdout",
     "output_type": "stream",
     "text": [
      "LGB Fit Time: 234.23762192726136, LGB Predict Time: 73.20678081512452, LGB Best Score: -1517.5767252508438\n"
     ]
    }
   ],
   "source": [
    "lgb_results = pd.DataFrame(gsearch_lgb.cv_results_)\n",
    "display(lgb_results)\n",
    "display(lgb_results[lgb_results['rank_test_score'] == 1])\n",
    "lgb_fit_time = lgb_results[lgb_results['rank_test_score'] == 1]['mean_fit_time'].values[0]\n",
    "lgb_pred_time = lgb_results[lgb_results['rank_test_score'] == 1]['mean_score_time'].values[0]\n",
    "lgb_best_score = lgb_results[lgb_results['rank_test_score'] == 1]['mean_test_score'].values[0]\n",
    "print(f'LGB Fit Time: {lgb_fit_time}, LGB Predict Time: {lgb_pred_time}, LGB Best Score: {lgb_best_score}')"
   ]
  },
  {
   "cell_type": "markdown",
   "metadata": {},
   "source": [
    "<div class=\"alert alert-block alert-info\">\n",
    "<b>Комментарий студента:</b> \n",
    "Жду проверку ревьюера и ответы на мои вопросы, после того как получу ответы напишу свои выводы. Спасибо.\n",
    "</div>"
   ]
  },
  {
   "cell_type": "markdown",
   "metadata": {},
   "source": [
    "\n",
    "<div class=\"alert alert-block alert-danger\"; style=\"border-left: 6px solid red\">\n",
    "<b>Комментарий ревьюера 2 ❌</b>\n",
    "       \n",
    "Аналогично, тут не RMSE)\n",
    "    \n",
    "</div>"
   ]
  },
  {
   "cell_type": "markdown",
   "metadata": {},
   "source": [
    "<div class=\"alert alert-block alert-success\"; style=\"border-left: 6px solid green\">\n",
    "<b>Комментарий ревьюера 3 ✔️</b>\n",
    "       \n",
    "Принято!\n",
    "    \n",
    "</div>\n"
   ]
  },
  {
   "cell_type": "markdown",
   "metadata": {},
   "source": [
    "\n",
    "<div class=\"alert alert-block alert-danger\"; style=\"border-left: 6px solid red\">\n",
    "<b>Ошибка ❌</b>\n",
    "       \n",
    "У тебя не совсем корректно считаются необходимые нам характеристики, в итоговом комментарии распишу как следует это делать)\n",
    "    \n",
    "</div>"
   ]
  },
  {
   "attachments": {
    "image-2.png": {
     "image/png": "[encoded data removed]"
    },
    "image.png": {
     "image/png": "[encoded data removed]"
    }
   },
   "cell_type": "markdown",
   "metadata": {},
   "source": [
    "\n",
    "<div class=\"alert alert-block alert-warning\"; style=\"border-left: 6px solid orange\">\n",
    "<b>Итоговый комментарий ревьюера ⚠️</b>\n",
    "       \n",
    "Нурлан, хорошая работа получилась, но есть моменты требующие корректировок, а также, чтобы проект стал более качественным, то рекомендую обратиться к алгоритму корректного получения необходимых характеристик модели (расписал ниже))  \n",
    "    \n",
    "Есть несколько способов получить нужные нам характеристики правильно. Первый способ состоит из нескольких шагов:  \n",
    "    \n",
    "1. Как находится время обучения: \n",
    "    \n",
    "После подбора гиперпараметров создается новая модель, которой передаются найденные гиперпараметры и обучаем ее  \n",
    "    \n",
    "    \n",
    "2. Как находится время предсказания:  \n",
    "    \n",
    "Берем обученную модель и предсказываем на выборке train или test (метрика тут не смотрится)  \n",
    "    \n",
    "3. Как находится метрика для сравнения моделей:  \n",
    "    \n",
    "Метрика достатется из оптимизатора (GridSearch, RandomizedSearch и тп). Если оптимизатор не применялся, то нужна кросс-валидация  \n",
    "    \n",
    "    \n",
    "----  \n",
    "    \n",
    "Собираем все результаты в табличку (время обучения, время предсказания, метрика), сравниваем модели, выбираем одну или несколько лучших. После этого берем лучшие модели и делаем предсказание на тестовой выборке, это будет проверка (как модель будет вести себя на реальных данных, возможно есть переобучение или недообучение)  \n",
    "    \n",
    "----  \n",
    "    \n",
    "Второй способ сильно легче и лучше использовать его, понадобится только оптимизатор по типу GridSearch и из него можно достать все необходимые параметры. Смотри, есть атрибут cv_results_, там есть среднее время обучения и среднее время предсказания для всех комбинаций + метрика на кросс-валидации через best_score_  \n",
    "    \n",
    "![image.png](attachment:image.png)\n",
    "![image-2.png](attachment:image-2.png)\n",
    "    \n",
    "    \n",
    "Дальше как и в первом варианте все сводится в табличку и делается проверка лучшей модели на тестовой выборке)  \n",
    "    \n",
    "----  \n",
    "    \n",
    "Давай так сделаем с каждой моделькой! Буду ждать обратной связи и всегда рад вопросам)\n",
    "    \n",
    "</div>\n"
   ]
  },
  {
   "cell_type": "markdown",
   "metadata": {},
   "source": [
    "Если оценить каждую интересующую нас метрику - время обучения, время предсказания, метрика для сравнения моделей, то получается следующая картина:\n",
    "\n",
    "LGB - 234.24 | 73.21 | -1517.58\n",
    "\n",
    "RFR - 48.64 | 0.27 | -2586\n",
    "\n",
    "Время обучение у RFR в 5 раза короче, время предсказания в 271 раза короче, но метрика сравнения на ~1000 пунктов меньше чем у LGB. Хотя RFR обучается и предсказывает намного быстрее чем LGB, требования закачика - RMSE ниже 2500. Поэтому выбирается LGB для дальнейшей проверки на тестовой выборке.  "
   ]
  },
  {
   "cell_type": "code",
   "execution_count": 86,
   "metadata": {},
   "outputs": [
    {
     "name": "stdout",
     "output_type": "stream",
     "text": [
      " RMSE: 1863.041242\n"
     ]
    }
   ],
   "source": [
    "# проверка на тестовых данных\n",
    "preds_lgb_model_test = gsearch_lgb.predict(x_test)\n",
    "rmse_lgb_test = np.sqrt(mean_squared_error(y_test, preds_lgb_model_test))\n",
    "print(\" RMSE: %f\" % (rmse_lgb_test))"
   ]
  },
  {
   "cell_type": "markdown",
   "metadata": {},
   "source": [
    "\n",
    "<div class=\"alert alert-block alert-warning\"; style=\"border-left: 6px solid orange\">\n",
    "<b>Итоговый комментарий ревьюера 2 ⚠️</b>\n",
    "       \n",
    "Продолжаем работу над проектом, осталось совсем чуть-чуть, буду ждать)\n",
    "    \n",
    "</div>\n"
   ]
  },
  {
   "cell_type": "markdown",
   "metadata": {},
   "source": [
    "## Общий вывод"
   ]
  },
  {
   "cell_type": "markdown",
   "metadata": {},
   "source": [
    "Были проанализированы данные сервиса по продаже автомобилей с пробегом «Не бит, не крашен», которое разрабатывает приложение, чтобы привлечь новых клиентов. В нём можно будет узнать рыночную стоимость своего автомобиля. Данные были проанализиорованы - найдены и удалены аномальные значения и неинформативные признаки, также были заполнены пустые значения. После разделения данных на тренировочную и тестовую выборки категориальные признаки были перекодированы. Были созданы 2 модели - градиентный бустинг и случайный лес. RMSE на тренировочных данных оказался намного лучше у бустинга - 1517 против 2586 у леса. Однако по оценке времени обучения и времени предсказания случайный лес намного опередил бустинг. Но так как требованием заказчика было RMSE ниже 2500 то был выбран бустинг. Во время проверки на тестовых данных переобучение или недообучение не подтвердилось - RMSE равен 1863 (1517 было на тренировочных данных)."
   ]
  },
  {
   "cell_type": "markdown",
   "metadata": {},
   "source": [
    "<div class=\"alert alert-block alert-success\"; style=\"border-left: 6px solid green\">\n",
    "<b>Итоговый комментарий ревьюера 3 ✔️</b>\n",
    "       \n",
    "Теперь все отлично, спасибо за проделанную работу, можем двигаться дальше, успехов!)\n",
    "    \n",
    "</div>\n"
   ]
  },
  {
   "cell_type": "markdown",
   "metadata": {},
   "source": [
    "## Чек-лист проверки"
   ]
  },
  {
   "cell_type": "markdown",
   "metadata": {},
   "source": [
    "Поставьте 'x' в выполненных пунктах. Далее нажмите Shift+Enter."
   ]
  },
  {
   "cell_type": "markdown",
   "metadata": {},
   "source": [
    "- [x]  Jupyter Notebook открыт\n",
    "- [ ]  Весь код выполняется без ошибок\n",
    "- [ ]  Ячейки с кодом расположены в порядке исполнения\n",
    "- [ ]  Выполнена загрузка и подготовка данных\n",
    "- [ ]  Выполнено обучение моделей\n",
    "- [ ]  Есть анализ скорости работы и качества моделей"
   ]
  },
  {
   "cell_type": "code",
   "execution_count": null,
   "metadata": {},
   "outputs": [],
   "source": []
  }
 ],
 "metadata": {
  "ExecuteTimeLog": [
   {
    "duration": 1750,
    "start_time": "2023-01-20T11:20:40.029Z"
   },
   {
    "duration": 5155,
    "start_time": "2023-01-20T11:21:40.673Z"
   },
   {
    "duration": 290,
    "start_time": "2023-01-20T11:22:36.099Z"
   },
   {
    "duration": 294,
    "start_time": "2023-01-20T11:23:09.586Z"
   },
   {
    "duration": 1189,
    "start_time": "2023-01-20T18:34:33.817Z"
   },
   {
    "duration": 992,
    "start_time": "2023-01-20T18:34:59.165Z"
   },
   {
    "duration": 181,
    "start_time": "2023-01-20T18:35:01.093Z"
   },
   {
    "duration": 14,
    "start_time": "2023-01-20T18:39:07.092Z"
   },
   {
    "duration": 38,
    "start_time": "2023-01-20T18:39:27.573Z"
   },
   {
    "duration": 38,
    "start_time": "2023-01-20T18:41:22.169Z"
   },
   {
    "duration": 42,
    "start_time": "2023-01-20T18:41:51.917Z"
   },
   {
    "duration": 42,
    "start_time": "2023-01-20T18:42:26.496Z"
   },
   {
    "duration": 44,
    "start_time": "2023-01-20T18:43:14.285Z"
   },
   {
    "duration": 36,
    "start_time": "2023-01-20T18:48:31.121Z"
   },
   {
    "duration": 25,
    "start_time": "2023-01-20T18:49:12.709Z"
   },
   {
    "duration": 46,
    "start_time": "2023-01-20T18:50:01.791Z"
   },
   {
    "duration": 35,
    "start_time": "2023-01-20T18:50:57.721Z"
   },
   {
    "duration": 36,
    "start_time": "2023-01-20T18:51:36.276Z"
   },
   {
    "duration": 21,
    "start_time": "2023-01-20T18:51:58.235Z"
   },
   {
    "duration": 25,
    "start_time": "2023-01-20T18:53:23.781Z"
   },
   {
    "duration": 63,
    "start_time": "2023-01-20T18:54:23.122Z"
   },
   {
    "duration": 44,
    "start_time": "2023-01-20T18:56:49.474Z"
   },
   {
    "duration": 5,
    "start_time": "2023-01-20T18:57:07.944Z"
   },
   {
    "duration": 105,
    "start_time": "2023-01-20T18:59:05.785Z"
   },
   {
    "duration": 76,
    "start_time": "2023-01-20T18:59:54.382Z"
   },
   {
    "duration": 24,
    "start_time": "2023-01-20T19:01:38.084Z"
   },
   {
    "duration": 24,
    "start_time": "2023-01-20T19:04:53.448Z"
   },
   {
    "duration": 23,
    "start_time": "2023-01-20T19:05:06.725Z"
   },
   {
    "duration": 22,
    "start_time": "2023-01-20T19:06:08.245Z"
   },
   {
    "duration": 241,
    "start_time": "2023-01-20T19:07:49.299Z"
   },
   {
    "duration": 84,
    "start_time": "2023-01-20T19:09:07.501Z"
   },
   {
    "duration": 138,
    "start_time": "2023-01-20T19:09:15.703Z"
   },
   {
    "duration": 3,
    "start_time": "2023-01-20T19:18:00.730Z"
   },
   {
    "duration": 152,
    "start_time": "2023-01-20T19:19:16.995Z"
   },
   {
    "duration": 156,
    "start_time": "2023-01-20T19:20:20.759Z"
   },
   {
    "duration": 19,
    "start_time": "2023-01-20T19:20:31.544Z"
   },
   {
    "duration": 5,
    "start_time": "2023-01-20T19:20:42.158Z"
   },
   {
    "duration": 172,
    "start_time": "2023-01-20T19:26:11.583Z"
   },
   {
    "duration": 39,
    "start_time": "2023-01-20T19:26:18.536Z"
   },
   {
    "duration": 97,
    "start_time": "2023-01-20T19:28:19.427Z"
   },
   {
    "duration": 3,
    "start_time": "2023-01-20T19:40:05.715Z"
   },
   {
    "duration": 29,
    "start_time": "2023-01-20T19:40:40.133Z"
   },
   {
    "duration": 106,
    "start_time": "2023-01-20T19:41:41.602Z"
   },
   {
    "duration": 858,
    "start_time": "2023-01-20T19:41:46.194Z"
   },
   {
    "duration": 25,
    "start_time": "2023-01-20T19:41:54.108Z"
   },
   {
    "duration": 57,
    "start_time": "2023-01-20T19:42:59.414Z"
   },
   {
    "duration": 9646,
    "start_time": "2023-01-20T19:43:01.802Z"
   },
   {
    "duration": 7804,
    "start_time": "2023-01-20T19:45:11.141Z"
   },
   {
    "duration": 1621,
    "start_time": "2023-01-20T19:45:32.846Z"
   },
   {
    "duration": 1692,
    "start_time": "2023-01-20T19:46:26.763Z"
   },
   {
    "duration": 14,
    "start_time": "2023-01-20T19:53:24.900Z"
   },
   {
    "duration": 9,
    "start_time": "2023-01-20T19:55:55.908Z"
   },
   {
    "duration": 1738,
    "start_time": "2023-01-20T19:56:24.700Z"
   },
   {
    "duration": 9,
    "start_time": "2023-01-20T19:56:36.960Z"
   },
   {
    "duration": 9,
    "start_time": "2023-01-20T19:56:46.222Z"
   },
   {
    "duration": 29266,
    "start_time": "2023-01-20T19:56:52.052Z"
   },
   {
    "duration": 8,
    "start_time": "2023-01-20T19:57:26.239Z"
   },
   {
    "duration": 531,
    "start_time": "2023-01-20T19:57:39.541Z"
   },
   {
    "duration": 4,
    "start_time": "2023-01-20T20:03:19.592Z"
   },
   {
    "duration": 7160,
    "start_time": "2023-01-20T20:03:44.391Z"
   },
   {
    "duration": 8553,
    "start_time": "2023-01-20T20:04:01.392Z"
   },
   {
    "duration": 8755,
    "start_time": "2023-01-20T20:04:45.695Z"
   },
   {
    "duration": 7716,
    "start_time": "2023-01-20T20:05:09.028Z"
   },
   {
    "duration": 30434,
    "start_time": "2023-01-20T20:05:29.151Z"
   },
   {
    "duration": 7358,
    "start_time": "2023-01-20T20:05:59.586Z"
   },
   {
    "duration": 31396,
    "start_time": "2023-01-20T20:06:24.531Z"
   },
   {
    "duration": 8186,
    "start_time": "2023-01-20T20:08:38.857Z"
   },
   {
    "duration": 31458,
    "start_time": "2023-01-20T20:09:15.207Z"
   },
   {
    "duration": 149,
    "start_time": "2023-01-20T20:12:53.883Z"
   },
   {
    "duration": 403,
    "start_time": "2023-01-20T20:14:16.117Z"
   },
   {
    "duration": 404,
    "start_time": "2023-01-20T20:14:27.437Z"
   },
   {
    "duration": 1711,
    "start_time": "2023-01-21T21:26:02.313Z"
   },
   {
    "duration": 3534,
    "start_time": "2023-01-21T21:26:06.056Z"
   },
   {
    "duration": 265,
    "start_time": "2023-01-21T21:26:09.592Z"
   },
   {
    "duration": 69,
    "start_time": "2023-01-21T21:26:20.419Z"
   },
   {
    "duration": 60,
    "start_time": "2023-01-21T21:26:24.901Z"
   },
   {
    "duration": 63,
    "start_time": "2023-01-21T21:26:26.332Z"
   },
   {
    "duration": 48,
    "start_time": "2023-01-21T21:26:26.726Z"
   },
   {
    "duration": 66,
    "start_time": "2023-01-21T21:26:27.258Z"
   },
   {
    "duration": 1633,
    "start_time": "2023-01-21T21:32:45.998Z"
   },
   {
    "duration": 993,
    "start_time": "2023-01-21T21:32:47.633Z"
   },
   {
    "duration": 273,
    "start_time": "2023-01-21T21:32:48.628Z"
   },
   {
    "duration": 47,
    "start_time": "2023-01-21T21:32:48.903Z"
   },
   {
    "duration": 77,
    "start_time": "2023-01-21T21:32:48.951Z"
   },
   {
    "duration": 70,
    "start_time": "2023-01-21T21:32:49.030Z"
   },
   {
    "duration": 53,
    "start_time": "2023-01-21T21:32:49.105Z"
   },
   {
    "duration": 71,
    "start_time": "2023-01-21T21:32:49.167Z"
   },
   {
    "duration": 45,
    "start_time": "2023-01-21T21:32:49.240Z"
   },
   {
    "duration": 53,
    "start_time": "2023-01-21T21:32:49.296Z"
   },
   {
    "duration": 41,
    "start_time": "2023-01-21T21:32:49.350Z"
   },
   {
    "duration": 61,
    "start_time": "2023-01-21T21:32:49.393Z"
   },
   {
    "duration": 52,
    "start_time": "2023-01-21T21:32:49.456Z"
   },
   {
    "duration": 9,
    "start_time": "2023-01-21T21:32:49.798Z"
   },
   {
    "duration": 465,
    "start_time": "2023-01-21T21:32:49.965Z"
   },
   {
    "duration": 222,
    "start_time": "2023-01-21T21:32:50.998Z"
   },
   {
    "duration": 38,
    "start_time": "2023-01-21T21:32:51.913Z"
   },
   {
    "duration": 50,
    "start_time": "2023-01-21T21:34:25.444Z"
   },
   {
    "duration": 90,
    "start_time": "2023-01-21T21:34:30.856Z"
   },
   {
    "duration": 51,
    "start_time": "2023-01-21T21:34:37.400Z"
   },
   {
    "duration": 69,
    "start_time": "2023-01-21T21:34:41.007Z"
   },
   {
    "duration": 55,
    "start_time": "2023-01-21T21:34:46.193Z"
   },
   {
    "duration": 69,
    "start_time": "2023-01-22T08:57:19.513Z"
   },
   {
    "duration": 1279,
    "start_time": "2023-01-22T08:57:25.642Z"
   },
   {
    "duration": 3612,
    "start_time": "2023-01-22T08:57:26.922Z"
   },
   {
    "duration": 291,
    "start_time": "2023-01-22T09:04:35.292Z"
   },
   {
    "duration": 47,
    "start_time": "2023-01-22T09:04:36.490Z"
   },
   {
    "duration": 47,
    "start_time": "2023-01-22T09:04:50.391Z"
   },
   {
    "duration": 303,
    "start_time": "2023-01-22T09:05:57.904Z"
   },
   {
    "duration": 91,
    "start_time": "2023-01-22T09:06:09.692Z"
   },
   {
    "duration": 100,
    "start_time": "2023-01-22T09:06:47.816Z"
   },
   {
    "duration": 95,
    "start_time": "2023-01-22T09:07:29.310Z"
   },
   {
    "duration": 94,
    "start_time": "2023-01-22T09:08:00.534Z"
   },
   {
    "duration": 1175,
    "start_time": "2023-01-22T14:35:17.773Z"
   },
   {
    "duration": 1090,
    "start_time": "2023-01-22T14:35:21.884Z"
   },
   {
    "duration": 196,
    "start_time": "2023-01-22T14:35:23.902Z"
   },
   {
    "duration": 60,
    "start_time": "2023-01-22T14:35:28.515Z"
   },
   {
    "duration": 56,
    "start_time": "2023-01-22T14:35:29.687Z"
   },
   {
    "duration": 72,
    "start_time": "2023-01-22T14:35:30.415Z"
   },
   {
    "duration": 56,
    "start_time": "2023-01-22T14:35:31.214Z"
   },
   {
    "duration": 124,
    "start_time": "2023-01-22T14:35:32.024Z"
   },
   {
    "duration": 1247,
    "start_time": "2023-01-22T15:14:22.336Z"
   },
   {
    "duration": 3561,
    "start_time": "2023-01-22T15:14:23.585Z"
   },
   {
    "duration": 215,
    "start_time": "2023-01-22T15:14:27.147Z"
   },
   {
    "duration": 72,
    "start_time": "2023-01-22T15:14:27.366Z"
   },
   {
    "duration": 70,
    "start_time": "2023-01-22T15:14:27.440Z"
   },
   {
    "duration": 53,
    "start_time": "2023-01-22T15:14:27.512Z"
   },
   {
    "duration": 74,
    "start_time": "2023-01-22T15:14:27.568Z"
   },
   {
    "duration": 49,
    "start_time": "2023-01-22T15:14:42.877Z"
   },
   {
    "duration": 96,
    "start_time": "2023-01-22T15:14:54.531Z"
   },
   {
    "duration": 56,
    "start_time": "2023-01-22T15:15:05.652Z"
   },
   {
    "duration": 243,
    "start_time": "2023-01-22T15:15:38.815Z"
   },
   {
    "duration": 74,
    "start_time": "2023-01-22T15:16:18.142Z"
   },
   {
    "duration": 29,
    "start_time": "2023-01-22T15:16:48.826Z"
   },
   {
    "duration": 18,
    "start_time": "2023-01-22T15:17:19.796Z"
   },
   {
    "duration": 771,
    "start_time": "2023-01-22T15:17:27.072Z"
   },
   {
    "duration": 254,
    "start_time": "2023-01-22T15:17:27.845Z"
   },
   {
    "duration": 63,
    "start_time": "2023-01-22T15:17:28.100Z"
   },
   {
    "duration": 73,
    "start_time": "2023-01-22T15:17:28.165Z"
   },
   {
    "duration": 65,
    "start_time": "2023-01-22T15:17:28.240Z"
   },
   {
    "duration": 59,
    "start_time": "2023-01-22T15:17:28.307Z"
   },
   {
    "duration": 94,
    "start_time": "2023-01-22T15:17:28.369Z"
   },
   {
    "duration": 34,
    "start_time": "2023-01-22T15:17:30.362Z"
   },
   {
    "duration": 21,
    "start_time": "2023-01-22T15:17:48.065Z"
   },
   {
    "duration": 798,
    "start_time": "2023-01-22T15:17:55.309Z"
   },
   {
    "duration": 202,
    "start_time": "2023-01-22T15:17:56.110Z"
   },
   {
    "duration": 56,
    "start_time": "2023-01-22T15:17:56.314Z"
   },
   {
    "duration": 72,
    "start_time": "2023-01-22T15:17:56.372Z"
   },
   {
    "duration": 86,
    "start_time": "2023-01-22T15:17:56.446Z"
   },
   {
    "duration": 63,
    "start_time": "2023-01-22T15:17:56.534Z"
   },
   {
    "duration": 101,
    "start_time": "2023-01-22T15:17:56.599Z"
   },
   {
    "duration": 789,
    "start_time": "2023-01-22T15:18:32.837Z"
   },
   {
    "duration": 230,
    "start_time": "2023-01-22T15:18:33.629Z"
   },
   {
    "duration": 70,
    "start_time": "2023-01-22T15:18:33.861Z"
   },
   {
    "duration": 67,
    "start_time": "2023-01-22T15:18:33.934Z"
   },
   {
    "duration": 56,
    "start_time": "2023-01-22T15:18:34.003Z"
   },
   {
    "duration": 94,
    "start_time": "2023-01-22T15:18:34.061Z"
   },
   {
    "duration": 137,
    "start_time": "2023-01-22T15:18:34.157Z"
   },
   {
    "duration": 3,
    "start_time": "2023-01-22T15:21:50.753Z"
   },
   {
    "duration": 13,
    "start_time": "2023-01-22T15:23:47.750Z"
   },
   {
    "duration": 12,
    "start_time": "2023-01-22T15:23:54.676Z"
   },
   {
    "duration": 57,
    "start_time": "2023-01-22T15:24:09.480Z"
   },
   {
    "duration": 27,
    "start_time": "2023-01-22T15:29:05.530Z"
   },
   {
    "duration": 47,
    "start_time": "2023-01-23T12:56:45.701Z"
   },
   {
    "duration": 1126,
    "start_time": "2023-01-23T12:56:55.180Z"
   },
   {
    "duration": 2815,
    "start_time": "2023-01-23T12:56:56.308Z"
   },
   {
    "duration": 229,
    "start_time": "2023-01-23T12:56:59.125Z"
   },
   {
    "duration": 66,
    "start_time": "2023-01-23T12:56:59.356Z"
   },
   {
    "duration": 57,
    "start_time": "2023-01-23T12:56:59.424Z"
   },
   {
    "duration": 74,
    "start_time": "2023-01-23T12:56:59.482Z"
   },
   {
    "duration": 73,
    "start_time": "2023-01-23T12:56:59.557Z"
   },
   {
    "duration": 172,
    "start_time": "2023-01-23T12:56:59.631Z"
   },
   {
    "duration": 24,
    "start_time": "2023-01-23T12:57:27.625Z"
   },
   {
    "duration": 53,
    "start_time": "2023-01-23T12:57:33.353Z"
   },
   {
    "duration": 28,
    "start_time": "2023-01-23T12:57:34.444Z"
   },
   {
    "duration": 22,
    "start_time": "2023-01-23T12:57:37.687Z"
   },
   {
    "duration": 10,
    "start_time": "2023-01-23T12:57:41.184Z"
   },
   {
    "duration": 5,
    "start_time": "2023-01-23T12:57:41.916Z"
   },
   {
    "duration": 24,
    "start_time": "2023-01-23T13:00:02.388Z"
   },
   {
    "duration": 100,
    "start_time": "2023-01-23T13:00:21.213Z"
   },
   {
    "duration": 70,
    "start_time": "2023-01-23T13:01:03.199Z"
   },
   {
    "duration": 7,
    "start_time": "2023-01-23T13:01:28.301Z"
   },
   {
    "duration": 12,
    "start_time": "2023-01-23T13:02:30.713Z"
   },
   {
    "duration": 11,
    "start_time": "2023-01-23T13:03:06.790Z"
   },
   {
    "duration": 810,
    "start_time": "2023-01-23T13:03:35.007Z"
   },
   {
    "duration": 224,
    "start_time": "2023-01-23T13:03:35.820Z"
   },
   {
    "duration": 61,
    "start_time": "2023-01-23T13:03:36.046Z"
   },
   {
    "duration": 64,
    "start_time": "2023-01-23T13:03:36.123Z"
   },
   {
    "duration": 68,
    "start_time": "2023-01-23T13:03:36.189Z"
   },
   {
    "duration": 78,
    "start_time": "2023-01-23T13:03:36.260Z"
   },
   {
    "duration": 129,
    "start_time": "2023-01-23T13:03:36.597Z"
   },
   {
    "duration": 21,
    "start_time": "2023-01-23T13:03:38.882Z"
   },
   {
    "duration": 46,
    "start_time": "2023-01-23T13:03:39.319Z"
   },
   {
    "duration": 23,
    "start_time": "2023-01-23T13:03:39.788Z"
   },
   {
    "duration": 23,
    "start_time": "2023-01-23T13:03:40.379Z"
   },
   {
    "duration": 7,
    "start_time": "2023-01-23T13:03:41.193Z"
   },
   {
    "duration": 10,
    "start_time": "2023-01-23T13:03:42.138Z"
   },
   {
    "duration": 9,
    "start_time": "2023-01-23T13:03:42.891Z"
   },
   {
    "duration": 6,
    "start_time": "2023-01-23T13:03:43.403Z"
   },
   {
    "duration": 73,
    "start_time": "2023-01-23T13:03:55.314Z"
   },
   {
    "duration": 12,
    "start_time": "2023-01-23T13:07:38.588Z"
   },
   {
    "duration": 23,
    "start_time": "2023-01-23T13:07:51.913Z"
   },
   {
    "duration": 228,
    "start_time": "2023-01-23T13:11:53.638Z"
   },
   {
    "duration": 24,
    "start_time": "2023-01-23T13:11:55.689Z"
   },
   {
    "duration": 27,
    "start_time": "2023-01-23T13:12:05.820Z"
   },
   {
    "duration": 32,
    "start_time": "2023-01-23T13:15:09.284Z"
   },
   {
    "duration": 74,
    "start_time": "2023-01-23T13:15:41.641Z"
   },
   {
    "duration": 254,
    "start_time": "2023-01-23T13:16:09.941Z"
   },
   {
    "duration": 29,
    "start_time": "2023-01-23T13:16:12.592Z"
   },
   {
    "duration": 27,
    "start_time": "2023-01-23T13:16:18.762Z"
   },
   {
    "duration": 75,
    "start_time": "2023-01-23T13:16:20.884Z"
   },
   {
    "duration": 310,
    "start_time": "2023-01-23T13:16:36.680Z"
   },
   {
    "duration": 27,
    "start_time": "2023-01-23T13:16:39.609Z"
   },
   {
    "duration": 37,
    "start_time": "2023-01-23T13:16:54.790Z"
   },
   {
    "duration": 39,
    "start_time": "2023-01-23T13:16:55.718Z"
   },
   {
    "duration": 296588,
    "start_time": "2023-01-23T13:17:12.839Z"
   },
   {
    "duration": 28,
    "start_time": "2023-01-23T13:22:09.429Z"
   },
   {
    "duration": 310,
    "start_time": "2023-01-23T13:22:35.112Z"
   },
   {
    "duration": 16,
    "start_time": "2023-01-23T13:23:53.686Z"
   },
   {
    "duration": 258,
    "start_time": "2023-01-23T13:24:05.081Z"
   },
   {
    "duration": 3492,
    "start_time": "2023-01-23T13:24:19.201Z"
   },
   {
    "duration": 102,
    "start_time": "2023-01-23T13:24:38.091Z"
   },
   {
    "duration": 130,
    "start_time": "2023-01-23T13:24:47.615Z"
   },
   {
    "duration": 55,
    "start_time": "2023-01-23T13:25:29.889Z"
   },
   {
    "duration": 1191,
    "start_time": "2023-01-23T13:42:30.409Z"
   },
   {
    "duration": 1174,
    "start_time": "2023-01-23T13:42:31.602Z"
   },
   {
    "duration": 240,
    "start_time": "2023-01-23T13:42:32.778Z"
   },
   {
    "duration": 70,
    "start_time": "2023-01-23T13:42:33.021Z"
   },
   {
    "duration": 65,
    "start_time": "2023-01-23T13:42:33.093Z"
   },
   {
    "duration": 88,
    "start_time": "2023-01-23T13:42:33.160Z"
   },
   {
    "duration": 86,
    "start_time": "2023-01-23T13:42:33.250Z"
   },
   {
    "duration": 178,
    "start_time": "2023-01-23T13:42:33.337Z"
   },
   {
    "duration": 20,
    "start_time": "2023-01-23T13:42:46.585Z"
   },
   {
    "duration": 49,
    "start_time": "2023-01-23T13:42:47.904Z"
   },
   {
    "duration": 21,
    "start_time": "2023-01-23T13:43:01.379Z"
   },
   {
    "duration": 32,
    "start_time": "2023-01-23T13:43:04.809Z"
   },
   {
    "duration": 8,
    "start_time": "2023-01-23T13:43:05.637Z"
   },
   {
    "duration": 14,
    "start_time": "2023-01-23T13:43:06.270Z"
   },
   {
    "duration": 10,
    "start_time": "2023-01-23T13:43:07.602Z"
   },
   {
    "duration": 4,
    "start_time": "2023-01-23T13:43:08.051Z"
   },
   {
    "duration": 107,
    "start_time": "2023-01-23T13:43:08.799Z"
   },
   {
    "duration": 3,
    "start_time": "2023-01-23T13:43:11.654Z"
   },
   {
    "duration": 23,
    "start_time": "2023-01-23T13:43:13.746Z"
   },
   {
    "duration": 3,
    "start_time": "2023-01-23T13:44:10.265Z"
   },
   {
    "duration": 719,
    "start_time": "2023-01-23T13:44:10.425Z"
   },
   {
    "duration": 182,
    "start_time": "2023-01-23T13:44:11.146Z"
   },
   {
    "duration": 60,
    "start_time": "2023-01-23T13:44:11.330Z"
   },
   {
    "duration": 52,
    "start_time": "2023-01-23T13:44:11.392Z"
   },
   {
    "duration": 69,
    "start_time": "2023-01-23T13:44:11.445Z"
   },
   {
    "duration": 53,
    "start_time": "2023-01-23T13:44:11.515Z"
   },
   {
    "duration": 132,
    "start_time": "2023-01-23T13:44:11.570Z"
   },
   {
    "duration": 20,
    "start_time": "2023-01-23T13:44:12.727Z"
   },
   {
    "duration": 44,
    "start_time": "2023-01-23T13:44:13.205Z"
   },
   {
    "duration": 21,
    "start_time": "2023-01-23T13:44:13.468Z"
   },
   {
    "duration": 22,
    "start_time": "2023-01-23T13:44:13.679Z"
   },
   {
    "duration": 5,
    "start_time": "2023-01-23T13:44:13.908Z"
   },
   {
    "duration": 10,
    "start_time": "2023-01-23T13:44:14.555Z"
   },
   {
    "duration": 9,
    "start_time": "2023-01-23T13:44:15.282Z"
   },
   {
    "duration": 6,
    "start_time": "2023-01-23T13:44:16.005Z"
   },
   {
    "duration": 51,
    "start_time": "2023-01-23T13:44:16.749Z"
   },
   {
    "duration": 3,
    "start_time": "2023-01-23T13:44:17.629Z"
   },
   {
    "duration": 24,
    "start_time": "2023-01-23T13:44:18.695Z"
   },
   {
    "duration": 164,
    "start_time": "2023-01-23T13:44:20.636Z"
   },
   {
    "duration": 18,
    "start_time": "2023-01-23T13:44:21.858Z"
   },
   {
    "duration": 260,
    "start_time": "2023-01-23T13:44:24.899Z"
   },
   {
    "duration": 23,
    "start_time": "2023-01-23T13:44:25.374Z"
   },
   {
    "duration": 4,
    "start_time": "2023-01-23T13:44:59.593Z"
   },
   {
    "duration": 99,
    "start_time": "2023-01-23T13:47:29.026Z"
   },
   {
    "duration": 3,
    "start_time": "2023-01-23T13:47:51.906Z"
   },
   {
    "duration": 11,
    "start_time": "2023-01-23T13:48:08.330Z"
   },
   {
    "duration": 14,
    "start_time": "2023-01-23T13:49:54.525Z"
   },
   {
    "duration": 16,
    "start_time": "2023-01-23T13:50:11.657Z"
   },
   {
    "duration": 11,
    "start_time": "2023-01-23T13:50:31.489Z"
   },
   {
    "duration": 245087,
    "start_time": "2023-01-23T13:50:40.836Z"
   },
   {
    "duration": 0,
    "start_time": "2023-01-23T13:54:45.925Z"
   },
   {
    "duration": 8,
    "start_time": "2023-01-23T13:55:35.925Z"
   },
   {
    "duration": 3,
    "start_time": "2023-01-23T13:56:02.578Z"
   },
   {
    "duration": 1152,
    "start_time": "2023-01-23T15:53:04.805Z"
   },
   {
    "duration": 798,
    "start_time": "2023-01-23T15:53:05.960Z"
   },
   {
    "duration": 190,
    "start_time": "2023-01-23T15:53:06.760Z"
   },
   {
    "duration": 62,
    "start_time": "2023-01-23T15:53:06.952Z"
   },
   {
    "duration": 54,
    "start_time": "2023-01-23T15:53:07.015Z"
   },
   {
    "duration": 64,
    "start_time": "2023-01-23T15:53:07.070Z"
   },
   {
    "duration": 74,
    "start_time": "2023-01-23T15:53:07.136Z"
   },
   {
    "duration": 157,
    "start_time": "2023-01-23T15:53:07.212Z"
   },
   {
    "duration": 25,
    "start_time": "2023-01-23T15:53:07.370Z"
   },
   {
    "duration": 53,
    "start_time": "2023-01-23T15:53:07.552Z"
   },
   {
    "duration": 23,
    "start_time": "2023-01-23T15:53:07.731Z"
   },
   {
    "duration": 24,
    "start_time": "2023-01-23T15:53:07.913Z"
   },
   {
    "duration": 7,
    "start_time": "2023-01-23T15:53:08.118Z"
   },
   {
    "duration": 12,
    "start_time": "2023-01-23T15:53:08.803Z"
   },
   {
    "duration": 10,
    "start_time": "2023-01-23T15:53:09.437Z"
   },
   {
    "duration": 5,
    "start_time": "2023-01-23T15:53:09.747Z"
   },
   {
    "duration": 114,
    "start_time": "2023-01-23T15:53:10.376Z"
   },
   {
    "duration": 2,
    "start_time": "2023-01-23T15:53:11.185Z"
   },
   {
    "duration": 26,
    "start_time": "2023-01-23T15:53:12.703Z"
   },
   {
    "duration": 160,
    "start_time": "2023-01-23T15:53:15.865Z"
   },
   {
    "duration": 16,
    "start_time": "2023-01-23T15:53:16.697Z"
   },
   {
    "duration": 288,
    "start_time": "2023-01-23T15:53:17.590Z"
   },
   {
    "duration": 28,
    "start_time": "2023-01-23T15:53:18.643Z"
   },
   {
    "duration": 4,
    "start_time": "2023-01-23T15:53:19.407Z"
   },
   {
    "duration": 221424,
    "start_time": "2023-01-23T15:54:35.669Z"
   },
   {
    "duration": 1215,
    "start_time": "2023-01-23T16:12:01.398Z"
   },
   {
    "duration": 1200,
    "start_time": "2023-01-23T16:12:03.569Z"
   },
   {
    "duration": 236,
    "start_time": "2023-01-23T16:12:04.771Z"
   },
   {
    "duration": 81,
    "start_time": "2023-01-23T16:12:05.009Z"
   },
   {
    "duration": 82,
    "start_time": "2023-01-23T16:12:05.092Z"
   },
   {
    "duration": 59,
    "start_time": "2023-01-23T16:12:05.177Z"
   },
   {
    "duration": 78,
    "start_time": "2023-01-23T16:12:05.238Z"
   },
   {
    "duration": 182,
    "start_time": "2023-01-23T16:12:05.318Z"
   },
   {
    "duration": 21,
    "start_time": "2023-01-23T16:12:05.589Z"
   },
   {
    "duration": 57,
    "start_time": "2023-01-23T16:12:05.986Z"
   },
   {
    "duration": 21,
    "start_time": "2023-01-23T16:12:06.389Z"
   },
   {
    "duration": 24,
    "start_time": "2023-01-23T16:12:06.790Z"
   },
   {
    "duration": 9,
    "start_time": "2023-01-23T16:12:07.368Z"
   },
   {
    "duration": 13,
    "start_time": "2023-01-23T16:12:08.010Z"
   },
   {
    "duration": 10,
    "start_time": "2023-01-23T16:12:09.231Z"
   },
   {
    "duration": 5,
    "start_time": "2023-01-23T16:12:09.600Z"
   },
   {
    "duration": 125,
    "start_time": "2023-01-23T16:12:10.554Z"
   },
   {
    "duration": 2,
    "start_time": "2023-01-23T16:12:16.022Z"
   },
   {
    "duration": 32,
    "start_time": "2023-01-23T16:12:16.936Z"
   },
   {
    "duration": 2,
    "start_time": "2023-01-23T16:12:28.649Z"
   },
   {
    "duration": 18,
    "start_time": "2023-01-23T16:12:36.830Z"
   },
   {
    "duration": 412,
    "start_time": "2023-01-23T16:12:37.502Z"
   },
   {
    "duration": 25,
    "start_time": "2023-01-23T16:12:40.586Z"
   },
   {
    "duration": 4,
    "start_time": "2023-01-23T16:12:41.513Z"
   },
   {
    "duration": 1376,
    "start_time": "2023-01-23T16:14:06.734Z"
   },
   {
    "duration": 871,
    "start_time": "2023-01-23T16:14:08.112Z"
   },
   {
    "duration": 247,
    "start_time": "2023-01-23T16:14:08.985Z"
   },
   {
    "duration": 76,
    "start_time": "2023-01-23T16:14:09.234Z"
   },
   {
    "duration": 79,
    "start_time": "2023-01-23T16:14:09.312Z"
   },
   {
    "duration": 75,
    "start_time": "2023-01-23T16:14:09.393Z"
   },
   {
    "duration": 83,
    "start_time": "2023-01-23T16:14:09.470Z"
   },
   {
    "duration": 222,
    "start_time": "2023-01-23T16:14:09.555Z"
   },
   {
    "duration": 32,
    "start_time": "2023-01-23T16:14:09.779Z"
   },
   {
    "duration": 87,
    "start_time": "2023-01-23T16:14:09.814Z"
   },
   {
    "duration": 24,
    "start_time": "2023-01-23T16:14:09.903Z"
   },
   {
    "duration": 40,
    "start_time": "2023-01-23T16:14:09.929Z"
   },
   {
    "duration": 7,
    "start_time": "2023-01-23T16:14:09.971Z"
   },
   {
    "duration": 13,
    "start_time": "2023-01-23T16:14:10.166Z"
   },
   {
    "duration": 11,
    "start_time": "2023-01-23T16:14:10.814Z"
   },
   {
    "duration": 6,
    "start_time": "2023-01-23T16:14:11.264Z"
   },
   {
    "duration": 119,
    "start_time": "2023-01-23T16:14:11.894Z"
   },
   {
    "duration": 3,
    "start_time": "2023-01-23T16:14:12.699Z"
   },
   {
    "duration": 26,
    "start_time": "2023-01-23T16:14:14.004Z"
   },
   {
    "duration": 7,
    "start_time": "2023-01-23T16:14:14.951Z"
   },
   {
    "duration": 21,
    "start_time": "2023-01-23T16:14:15.924Z"
   },
   {
    "duration": 327,
    "start_time": "2023-01-23T16:14:18.351Z"
   },
   {
    "duration": 24,
    "start_time": "2023-01-23T16:14:18.803Z"
   },
   {
    "duration": 5,
    "start_time": "2023-01-23T16:14:18.965Z"
   },
   {
    "duration": 1241,
    "start_time": "2023-01-23T16:15:31.783Z"
   },
   {
    "duration": 908,
    "start_time": "2023-01-23T16:15:33.026Z"
   },
   {
    "duration": 270,
    "start_time": "2023-01-23T16:15:33.936Z"
   },
   {
    "duration": 87,
    "start_time": "2023-01-23T16:15:34.208Z"
   },
   {
    "duration": 78,
    "start_time": "2023-01-23T16:15:34.297Z"
   },
   {
    "duration": 57,
    "start_time": "2023-01-23T16:15:34.377Z"
   },
   {
    "duration": 83,
    "start_time": "2023-01-23T16:15:34.436Z"
   },
   {
    "duration": 191,
    "start_time": "2023-01-23T16:15:34.520Z"
   },
   {
    "duration": 20,
    "start_time": "2023-01-23T16:15:34.713Z"
   },
   {
    "duration": 68,
    "start_time": "2023-01-23T16:15:34.735Z"
   },
   {
    "duration": 22,
    "start_time": "2023-01-23T16:15:34.805Z"
   },
   {
    "duration": 68,
    "start_time": "2023-01-23T16:15:34.829Z"
   },
   {
    "duration": 10,
    "start_time": "2023-01-23T16:15:35.063Z"
   },
   {
    "duration": 13,
    "start_time": "2023-01-23T16:15:35.699Z"
   },
   {
    "duration": 10,
    "start_time": "2023-01-23T16:15:36.342Z"
   },
   {
    "duration": 6,
    "start_time": "2023-01-23T16:15:36.539Z"
   },
   {
    "duration": 124,
    "start_time": "2023-01-23T16:15:37.220Z"
   },
   {
    "duration": 2,
    "start_time": "2023-01-23T16:15:37.981Z"
   },
   {
    "duration": 28,
    "start_time": "2023-01-23T16:15:39.574Z"
   },
   {
    "duration": 2,
    "start_time": "2023-01-23T16:15:41.227Z"
   },
   {
    "duration": 17,
    "start_time": "2023-01-23T16:15:42.516Z"
   },
   {
    "duration": 362,
    "start_time": "2023-01-23T16:15:44.012Z"
   },
   {
    "duration": 29,
    "start_time": "2023-01-23T16:15:44.573Z"
   },
   {
    "duration": 9,
    "start_time": "2023-01-23T16:15:45.358Z"
   },
   {
    "duration": 1245,
    "start_time": "2023-01-23T16:37:27.680Z"
   },
   {
    "duration": 918,
    "start_time": "2023-01-23T16:37:29.772Z"
   },
   {
    "duration": 308,
    "start_time": "2023-01-23T16:37:30.693Z"
   },
   {
    "duration": 92,
    "start_time": "2023-01-23T16:37:31.003Z"
   },
   {
    "duration": 80,
    "start_time": "2023-01-23T16:37:31.098Z"
   },
   {
    "duration": 59,
    "start_time": "2023-01-23T16:37:31.180Z"
   },
   {
    "duration": 86,
    "start_time": "2023-01-23T16:37:31.240Z"
   },
   {
    "duration": 174,
    "start_time": "2023-01-23T16:37:31.328Z"
   },
   {
    "duration": 25,
    "start_time": "2023-01-23T16:37:31.605Z"
   },
   {
    "duration": 54,
    "start_time": "2023-01-23T16:37:31.783Z"
   },
   {
    "duration": 25,
    "start_time": "2023-01-23T16:37:31.968Z"
   },
   {
    "duration": 28,
    "start_time": "2023-01-23T16:37:32.154Z"
   },
   {
    "duration": 6,
    "start_time": "2023-01-23T16:37:32.626Z"
   },
   {
    "duration": 17,
    "start_time": "2023-01-23T16:37:32.954Z"
   },
   {
    "duration": 15,
    "start_time": "2023-01-23T16:37:33.143Z"
   },
   {
    "duration": 6,
    "start_time": "2023-01-23T16:37:33.327Z"
   },
   {
    "duration": 136,
    "start_time": "2023-01-23T16:37:33.519Z"
   },
   {
    "duration": 2,
    "start_time": "2023-01-23T16:37:33.677Z"
   },
   {
    "duration": 26,
    "start_time": "2023-01-23T16:37:34.070Z"
   },
   {
    "duration": 3,
    "start_time": "2023-01-23T16:37:34.906Z"
   },
   {
    "duration": 18,
    "start_time": "2023-01-23T16:37:35.421Z"
   },
   {
    "duration": 402,
    "start_time": "2023-01-23T16:37:36.042Z"
   },
   {
    "duration": 37,
    "start_time": "2023-01-23T16:37:36.447Z"
   },
   {
    "duration": 5,
    "start_time": "2023-01-23T16:37:36.828Z"
   },
   {
    "duration": 2740154,
    "start_time": "2023-01-23T16:37:42.221Z"
   },
   {
    "duration": 0,
    "start_time": "2023-01-23T17:23:22.377Z"
   },
   {
    "duration": 43,
    "start_time": "2023-01-23T17:24:36.651Z"
   },
   {
    "duration": 169754,
    "start_time": "2023-01-23T17:27:49.906Z"
   },
   {
    "duration": 3220892,
    "start_time": "2023-01-23T17:32:03.591Z"
   },
   {
    "duration": 42,
    "start_time": "2023-01-23T19:02:36.627Z"
   },
   {
    "duration": 41,
    "start_time": "2023-01-23T19:04:27.370Z"
   },
   {
    "duration": 36,
    "start_time": "2023-01-23T19:36:45.114Z"
   },
   {
    "duration": 33,
    "start_time": "2023-01-23T19:38:32.179Z"
   },
   {
    "duration": 34,
    "start_time": "2023-01-23T19:49:42.080Z"
   },
   {
    "duration": 32,
    "start_time": "2023-01-23T19:52:49.684Z"
   },
   {
    "duration": 36,
    "start_time": "2023-01-23T19:54:47.359Z"
   },
   {
    "duration": 34,
    "start_time": "2023-01-23T19:55:32.710Z"
   },
   {
    "duration": 33,
    "start_time": "2023-01-23T19:55:50.624Z"
   },
   {
    "duration": 36,
    "start_time": "2023-01-23T19:56:14.194Z"
   },
   {
    "duration": 32,
    "start_time": "2023-01-23T19:56:24.725Z"
   },
   {
    "duration": 75,
    "start_time": "2023-01-23T20:07:52.230Z"
   },
   {
    "duration": 1553,
    "start_time": "2023-01-24T17:58:46.248Z"
   },
   {
    "duration": 3084,
    "start_time": "2023-01-24T17:58:47.803Z"
   },
   {
    "duration": 262,
    "start_time": "2023-01-24T17:58:50.889Z"
   },
   {
    "duration": 83,
    "start_time": "2023-01-24T17:58:51.884Z"
   },
   {
    "duration": 82,
    "start_time": "2023-01-24T17:58:52.315Z"
   },
   {
    "duration": 92,
    "start_time": "2023-01-24T17:58:52.646Z"
   },
   {
    "duration": 88,
    "start_time": "2023-01-24T17:58:52.951Z"
   },
   {
    "duration": 191,
    "start_time": "2023-01-24T17:58:53.226Z"
   },
   {
    "duration": 32,
    "start_time": "2023-01-24T17:58:54.867Z"
   },
   {
    "duration": 54,
    "start_time": "2023-01-24T17:58:55.385Z"
   },
   {
    "duration": 30,
    "start_time": "2023-01-24T17:58:55.702Z"
   },
   {
    "duration": 26,
    "start_time": "2023-01-24T17:58:56.037Z"
   },
   {
    "duration": 8,
    "start_time": "2023-01-24T17:58:56.304Z"
   },
   {
    "duration": 18,
    "start_time": "2023-01-24T17:58:56.566Z"
   },
   {
    "duration": 18,
    "start_time": "2023-01-24T17:58:56.847Z"
   },
   {
    "duration": 10,
    "start_time": "2023-01-24T17:58:57.071Z"
   },
   {
    "duration": 115,
    "start_time": "2023-01-24T17:58:57.268Z"
   },
   {
    "duration": 2,
    "start_time": "2023-01-24T17:58:57.470Z"
   },
   {
    "duration": 46,
    "start_time": "2023-01-24T17:58:57.886Z"
   },
   {
    "duration": 2,
    "start_time": "2023-01-24T17:58:58.663Z"
   },
   {
    "duration": 18,
    "start_time": "2023-01-24T17:58:59.196Z"
   },
   {
    "duration": 436,
    "start_time": "2023-01-24T17:58:59.856Z"
   },
   {
    "duration": 1175,
    "start_time": "2023-01-25T04:17:21.729Z"
   },
   {
    "duration": 2876,
    "start_time": "2023-01-25T04:17:22.906Z"
   },
   {
    "duration": 219,
    "start_time": "2023-01-25T04:17:25.783Z"
   },
   {
    "duration": 81,
    "start_time": "2023-01-25T04:17:26.005Z"
   },
   {
    "duration": 71,
    "start_time": "2023-01-25T04:17:26.088Z"
   },
   {
    "duration": 80,
    "start_time": "2023-01-25T04:17:26.161Z"
   },
   {
    "duration": 67,
    "start_time": "2023-01-25T04:17:26.243Z"
   },
   {
    "duration": 197,
    "start_time": "2023-01-25T04:17:26.312Z"
   },
   {
    "duration": 21,
    "start_time": "2023-01-25T04:17:32.927Z"
   },
   {
    "duration": 54,
    "start_time": "2023-01-25T04:17:33.664Z"
   },
   {
    "duration": 20,
    "start_time": "2023-01-25T04:17:37.007Z"
   },
   {
    "duration": 23,
    "start_time": "2023-01-25T04:17:37.786Z"
   },
   {
    "duration": 7,
    "start_time": "2023-01-25T04:17:38.590Z"
   },
   {
    "duration": 10,
    "start_time": "2023-01-25T04:17:39.241Z"
   },
   {
    "duration": 9,
    "start_time": "2023-01-25T04:17:40.585Z"
   },
   {
    "duration": 5,
    "start_time": "2023-01-25T04:17:41.136Z"
   },
   {
    "duration": 116,
    "start_time": "2023-01-25T04:17:43.246Z"
   },
   {
    "duration": 2,
    "start_time": "2023-01-25T04:17:44.431Z"
   },
   {
    "duration": 31,
    "start_time": "2023-01-25T04:17:47.245Z"
   },
   {
    "duration": 420,
    "start_time": "2023-01-25T04:20:00.055Z"
   },
   {
    "duration": 12,
    "start_time": "2023-01-25T04:20:37.109Z"
   },
   {
    "duration": 841,
    "start_time": "2023-01-25T04:20:51.783Z"
   },
   {
    "duration": 223,
    "start_time": "2023-01-25T04:20:52.637Z"
   },
   {
    "duration": 77,
    "start_time": "2023-01-25T04:20:52.862Z"
   },
   {
    "duration": 66,
    "start_time": "2023-01-25T04:20:52.942Z"
   },
   {
    "duration": 83,
    "start_time": "2023-01-25T04:20:53.010Z"
   },
   {
    "duration": 67,
    "start_time": "2023-01-25T04:20:53.680Z"
   },
   {
    "duration": 138,
    "start_time": "2023-01-25T04:20:54.457Z"
   },
   {
    "duration": 14,
    "start_time": "2023-01-25T04:20:59.870Z"
   },
   {
    "duration": 69,
    "start_time": "2023-01-25T04:22:44.544Z"
   },
   {
    "duration": 101,
    "start_time": "2023-01-25T04:25:05.894Z"
   },
   {
    "duration": 9,
    "start_time": "2023-01-25T04:25:09.230Z"
   },
   {
    "duration": 6,
    "start_time": "2023-01-25T04:25:59.094Z"
   },
   {
    "duration": 5,
    "start_time": "2023-01-25T04:25:59.978Z"
   },
   {
    "duration": 10,
    "start_time": "2023-01-25T04:26:00.747Z"
   },
   {
    "duration": 796,
    "start_time": "2023-01-25T04:26:14.010Z"
   },
   {
    "duration": 236,
    "start_time": "2023-01-25T04:26:14.809Z"
   },
   {
    "duration": 64,
    "start_time": "2023-01-25T04:26:15.047Z"
   },
   {
    "duration": 78,
    "start_time": "2023-01-25T04:26:15.113Z"
   },
   {
    "duration": 83,
    "start_time": "2023-01-25T04:26:15.193Z"
   },
   {
    "duration": 74,
    "start_time": "2023-01-25T04:26:15.278Z"
   },
   {
    "duration": 153,
    "start_time": "2023-01-25T04:26:15.354Z"
   },
   {
    "duration": 44,
    "start_time": "2023-01-25T04:26:17.879Z"
   },
   {
    "duration": 94,
    "start_time": "2023-01-25T04:26:18.995Z"
   },
   {
    "duration": 7,
    "start_time": "2023-01-25T04:26:19.470Z"
   },
   {
    "duration": 18,
    "start_time": "2023-01-25T04:32:09.023Z"
   },
   {
    "duration": 5,
    "start_time": "2023-01-25T04:32:28.109Z"
   },
   {
    "duration": 824,
    "start_time": "2023-01-25T04:32:46.118Z"
   },
   {
    "duration": 230,
    "start_time": "2023-01-25T04:32:46.944Z"
   },
   {
    "duration": 71,
    "start_time": "2023-01-25T04:32:47.175Z"
   },
   {
    "duration": 63,
    "start_time": "2023-01-25T04:32:47.248Z"
   },
   {
    "duration": 77,
    "start_time": "2023-01-25T04:32:47.312Z"
   },
   {
    "duration": 85,
    "start_time": "2023-01-25T04:32:47.395Z"
   },
   {
    "duration": 145,
    "start_time": "2023-01-25T04:32:47.761Z"
   },
   {
    "duration": 45,
    "start_time": "2023-01-25T04:32:49.539Z"
   },
   {
    "duration": 121,
    "start_time": "2023-01-25T04:32:49.735Z"
   },
   {
    "duration": 7,
    "start_time": "2023-01-25T04:32:50.409Z"
   },
   {
    "duration": 6,
    "start_time": "2023-01-25T04:33:02.560Z"
   },
   {
    "duration": 24,
    "start_time": "2023-01-25T04:33:03.555Z"
   },
   {
    "duration": 39,
    "start_time": "2023-01-25T04:33:04.339Z"
   },
   {
    "duration": 9,
    "start_time": "2023-01-25T04:33:08.298Z"
   },
   {
    "duration": 33,
    "start_time": "2023-01-25T04:33:08.475Z"
   },
   {
    "duration": 30,
    "start_time": "2023-01-25T04:33:08.972Z"
   },
   {
    "duration": 6,
    "start_time": "2023-01-25T04:33:09.406Z"
   },
   {
    "duration": 245,
    "start_time": "2023-01-25T04:33:09.955Z"
   },
   {
    "duration": 2,
    "start_time": "2023-01-25T04:33:11.175Z"
   },
   {
    "duration": 101,
    "start_time": "2023-01-25T04:33:12.565Z"
   },
   {
    "duration": 2,
    "start_time": "2023-01-25T04:33:17.491Z"
   },
   {
    "duration": 121,
    "start_time": "2023-01-25T04:33:18.958Z"
   },
   {
    "duration": 2338,
    "start_time": "2023-01-25T04:33:19.951Z"
   },
   {
    "duration": 25,
    "start_time": "2023-01-25T04:33:22.291Z"
   },
   {
    "duration": 22,
    "start_time": "2023-01-25T04:33:22.318Z"
   },
   {
    "duration": 16,
    "start_time": "2023-01-25T04:44:43.701Z"
   },
   {
    "duration": 14,
    "start_time": "2023-01-25T04:45:07.728Z"
   },
   {
    "duration": 5,
    "start_time": "2023-01-25T04:45:22.597Z"
   },
   {
    "duration": 10,
    "start_time": "2023-01-25T04:45:34.872Z"
   },
   {
    "duration": 6,
    "start_time": "2023-01-25T04:45:52.695Z"
   },
   {
    "duration": 9,
    "start_time": "2023-01-25T04:45:58.960Z"
   },
   {
    "duration": 2279209,
    "start_time": "2023-01-25T04:46:29.154Z"
   },
   {
    "duration": 57,
    "start_time": "2023-01-25T05:24:28.365Z"
   },
   {
    "duration": 1499105,
    "start_time": "2023-01-25T05:26:38.223Z"
   },
   {
    "duration": 46,
    "start_time": "2023-01-25T05:59:28.354Z"
   },
   {
    "duration": 41,
    "start_time": "2023-01-25T06:00:22.111Z"
   },
   {
    "duration": 42,
    "start_time": "2023-01-25T06:00:26.232Z"
   },
   {
    "duration": 14693,
    "start_time": "2023-01-25T06:21:04.861Z"
   },
   {
    "duration": 15116,
    "start_time": "2023-01-25T06:21:40.536Z"
   }
  ],
  "kernelspec": {
   "display_name": "Python 3 (ipykernel)",
   "language": "python",
   "name": "python3"
  },
  "language_info": {
   "codemirror_mode": {
    "name": "ipython",
    "version": 3
   },
   "file_extension": ".py",
   "mimetype": "text/x-python",
   "name": "python",
   "nbconvert_exporter": "python",
   "pygments_lexer": "ipython3",
   "version": "3.9.5"
  },
  "toc": {
   "base_numbering": 1,
   "nav_menu": {},
   "number_sections": true,
   "sideBar": true,
   "skip_h1_title": true,
   "title_cell": "Table of Contents",
   "title_sidebar": "Contents",
   "toc_cell": false,
   "toc_position": {},
   "toc_section_display": true,
   "toc_window_display": false
  }
 },
 "nbformat": 4,
 "nbformat_minor": 2
}
